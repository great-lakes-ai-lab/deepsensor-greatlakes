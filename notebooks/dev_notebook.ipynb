{
 "cells": [
  {
   "cell_type": "code",
   "execution_count": 2,
   "id": "17406f79-947a-437a-9684-5df0c42a7877",
   "metadata": {},
   "outputs": [
    {
     "ename": "ModuleNotFoundError",
     "evalue": "No module named 'deepsensor_greatlakes'",
     "output_type": "error",
     "traceback": [
      "\u001b[0;31m---------------------------------------------------------------------------\u001b[0m",
      "\u001b[0;31mModuleNotFoundError\u001b[0m                       Traceback (most recent call last)",
      "Cell \u001b[0;32mIn[2], line 1\u001b[0m\n\u001b[0;32m----> 1\u001b[0m \u001b[38;5;28;01mfrom\u001b[39;00m \u001b[38;5;21;01mdeepsensor_greatlakes\u001b[39;00m\u001b[38;5;21;01m.\u001b[39;00m\u001b[38;5;21;01mdataset_loader\u001b[39;00m \u001b[38;5;28;01mimport\u001b[39;00m (\n\u001b[1;32m      2\u001b[0m     load_metadata, \n\u001b[1;32m      3\u001b[0m     load_glsea_data, \n\u001b[1;32m      4\u001b[0m     load_glsea3_data, \n\u001b[1;32m      5\u001b[0m     load_context_data\n\u001b[1;32m      6\u001b[0m )\n\u001b[1;32m      8\u001b[0m \u001b[38;5;66;03m# Load metadata\u001b[39;00m\n\u001b[1;32m      9\u001b[0m metadata \u001b[38;5;241m=\u001b[39m load_metadata()\n",
      "\u001b[0;31mModuleNotFoundError\u001b[0m: No module named 'deepsensor_greatlakes'"
     ]
    }
   ],
   "source": [
    "from deepsensor_greatlakes.dataset_loader import (\n",
    "    load_metadata, \n",
    "    load_glsea_data, \n",
    "    load_glsea3_data, \n",
    "    load_context_data\n",
    ")\n",
    "\n",
    "# Load metadata\n",
    "metadata = load_metadata()\n",
    "\n",
    "# Try loading some GLSEA data for a few specific years\n",
    "glsea_data = load_glsea_data(metadata, years=[1995, 1996])\n",
    "\n",
    "# Let's load context data too\n",
    "context_data = load_context_data(metadata)\n",
    "\n",
    "# Check what we got\n",
    "print(\"Years in GLSEA data:\", list(glsea_data.keys()))\n",
    "print(\"Context data contents:\", list(context_data.keys()))\n",
    "\n",
    "# Look at some data\n",
    "sst_1995 = glsea_data[1995][\"sst\"][:]\n",
    "print(\"\\nSample of SST data from 1995:\")\n",
    "print(sst_1995)"
   ]
  },
  {
   "cell_type": "code",
   "execution_count": 3,
   "id": "ea9e588d-9c14-4ae8-afc2-d44d5976d021",
   "metadata": {},
   "outputs": [
    {
     "name": "stdout",
     "output_type": "stream",
     "text": [
      "Variable            Type        Data/Info\n",
      "-----------------------------------------\n",
      "context_data        dict        n=2\n",
      "glsea_data          dict        n=2\n",
      "load_context_data   function    <function load_context_data at 0xffff587d10d0>\n",
      "load_dataset        function    <function load_dataset at 0xffff587c2ee0>\n",
      "load_glsea3_data    function    <function load_glsea3_data at 0xffff587d1040>\n",
      "load_glsea_data     function    <function load_glsea_data at 0xffff587c2f70>\n",
      "load_metadata       function    <function load_metadata at 0xffffab580040>\n",
      "metadata            dict        n=2\n",
      "sst_1995            ndarray     365x838x1181: 361232470 elems, type `float32`, 1444929880 bytes (1377.9925155639648 Mb)\n"
     ]
    }
   ],
   "source": [
    "whos"
   ]
  },
  {
   "cell_type": "code",
   "execution_count": 4,
   "id": "19f7a18d-43a3-484b-ac48-69c2a4576a63",
   "metadata": {},
   "outputs": [
    {
     "data": {
      "text/plain": [
       "{'bathymetry': <xarray.Dataset> Size: 696kB\n",
       " Dimensions:                        (lon: 360, lat: 240)\n",
       " Coordinates:\n",
       "   * lon                            (lon) float64 3kB -92.07 -92.03 ... -76.18\n",
       "   * lat                            (lat) float64 2kB 41.39 41.42 ... 48.76 48.79\n",
       " Data variables:\n",
       "     __xarray_dataarray_variable__  (lat, lon) float64 691kB ...,\n",
       " 'lakemask': <xarray.Dataset> Size: 4MB\n",
       " Dimensions:  (lon: 1181, lat: 838)\n",
       " Coordinates:\n",
       "   * lon      (lon) float64 9kB -92.42 -92.41 -92.39 ... -75.91 -75.9 -75.88\n",
       "   * lat      (lat) float64 7kB 38.87 38.89 38.9 38.92 ... 50.58 50.59 50.61\n",
       " Data variables:\n",
       "     mask     (lat, lon) float32 4MB ...}"
      ]
     },
     "execution_count": 4,
     "metadata": {},
     "output_type": "execute_result"
    }
   ],
   "source": [
    "context_data"
   ]
  },
  {
   "cell_type": "code",
   "execution_count": 7,
   "id": "51b3c53f-09a3-4554-ba76-47c3f89b24fc",
   "metadata": {},
   "outputs": [
    {
     "ename": "KeyError",
     "evalue": "slice(None, None, None)",
     "output_type": "error",
     "traceback": [
      "\u001b[0;31m---------------------------------------------------------------------------\u001b[0m",
      "\u001b[0;31mKeyError\u001b[0m                                  Traceback (most recent call last)",
      "Cell \u001b[0;32mIn[7], line 1\u001b[0m\n\u001b[0;32m----> 1\u001b[0m \u001b[43mglsea_data\u001b[49m\u001b[43m[\u001b[49m\u001b[38;5;241;43m1996\u001b[39;49m\u001b[43m]\u001b[49m\u001b[43m[\u001b[49m\u001b[43m:\u001b[49m\u001b[43m]\u001b[49m\n",
      "File \u001b[0;32m/usr/local/lib/python3.9/site-packages/zarr/hierarchy.py:511\u001b[0m, in \u001b[0;36mGroup.__getitem__\u001b[0;34m(self, item)\u001b[0m\n\u001b[1;32m    509\u001b[0m         \u001b[38;5;28;01mraise\u001b[39;00m \u001b[38;5;167;01mKeyError\u001b[39;00m(item)\n\u001b[1;32m    510\u001b[0m \u001b[38;5;28;01melse\u001b[39;00m:\n\u001b[0;32m--> 511\u001b[0m     \u001b[38;5;28;01mraise\u001b[39;00m \u001b[38;5;167;01mKeyError\u001b[39;00m(item)\n",
      "\u001b[0;31mKeyError\u001b[0m: slice(None, None, None)"
     ]
    }
   ],
   "source": [
    "glsea_data[1996]"
   ]
  },
  {
   "cell_type": "code",
   "execution_count": null,
   "id": "73b9a56c-628f-4c87-a563-bebc60387d49",
   "metadata": {},
   "outputs": [],
   "source": []
  }
 ],
 "metadata": {
  "kernelspec": {
   "display_name": "Python (deepsensor_env)",
   "language": "python",
   "name": "deepsensor_env"
  },
  "language_info": {
   "codemirror_mode": {
    "name": "ipython",
    "version": 3
   },
   "file_extension": ".py",
   "mimetype": "text/x-python",
   "name": "python",
   "nbconvert_exporter": "python",
   "pygments_lexer": "ipython3",
   "version": "3.9.6"
  }
 },
 "nbformat": 4,
 "nbformat_minor": 5
}
