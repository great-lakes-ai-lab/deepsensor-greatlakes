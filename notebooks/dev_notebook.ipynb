{
 "cells": [
  {
   "cell_type": "code",
   "execution_count": 1,
   "id": "3d2b1116-a8c6-4cfc-8074-c23a51b32ee4",
   "metadata": {},
   "outputs": [],
   "source": [
    "# Great Lakes SST Preprocessing and Visualization Notebook\n",
    "\n",
    "import xarray as xr\n",
    "import numpy as np\n",
    "import pandas as pd\n",
    "import matplotlib.pyplot as plt\n",
    "import cartopy.crs as ccrs\n",
    "import cartopy.feature as cfeature\n",
    "from deepsensor.data import DataProcessor\n",
    "\n",
    "# Import custom modules\n",
    "from deepsensor_greatlakes.dataset_loader import (\n",
    "    load_metadata, \n",
    "    load_glsea_data_combined, \n",
    "    load_context_data\n",
    ")\n",
    "from deepsensor_greatlakes.preprocessor import SeasonalCycleProcessor"
   ]
  },
  {
   "cell_type": "code",
   "execution_count": null,
   "id": "ac260dd4-8bf5-4b30-981e-ee78e198c68d",
   "metadata": {},
   "outputs": [
    {
     "name": "stdout",
     "output_type": "stream",
     "text": [
      "\n",
      "Loading context data:\n",
      "Loading bathymetry\n",
      "\n",
      "Bathymetry Validation:\n",
      "Dimensions: 240 x 360\n",
      "Depth range: 10.00m to 316.63m\n",
      "Coverage: 23.0%\n",
      "Loading lakemask\n",
      "\n",
      "Lakemask Validation:\n",
      "Dimensions: 838 x 1181\n",
      "Values: [0. 1.]\n",
      "Coverage: 100.0%\n",
      "Loading glsea for 1995\n",
      "Loading glsea for 1996\n",
      "\n",
      "Combining GLSEA datasets...\n",
      "\n",
      "GLSEA Data Validation:\n",
      "Time range: 1995-01-01T00:00:00.000000000 to 1996-12-31T00:00:00.000000000\n",
      "Spatial dimensions: 838 x 1181\n",
      "SST range: 0.00°C to 29.49°C\n",
      "Water coverage: 14.1%\n"
     ]
    }
   ],
   "source": [
    "# Load project metadata\n",
    "metadata = load_metadata()\n",
    "\n",
    "# Load context data\n",
    "context_data = load_context_data(metadata)\n",
    "\n",
    "# Load GLSEA data for specific years\n",
    "glsea_ds = load_glsea_data_combined(metadata, years=[1995, 1996])\n",
    "\n",
    "# Calculate seasonal cycle\n",
    "seasonal_processor = SeasonalCycleProcessor()\n",
    "seasonal_processor.calculate(glsea_ds)\n",
    "\n",
    "# Compute anomalies\n",
    "sst_anomalies = seasonal_processor.compute_anomalies(glsea_ds)\n",
    "\n",
    "# Initialize DeepSensor DataProcessor\n",
    "data_processor = DataProcessor(x1_name=\"lat\", x2_name=\"lon\")\n",
    "\n",
    "# Normalize the anomalies\n",
    "sst_normalized = data_processor(sst_anomalies)"
   ]
  },
  {
   "cell_type": "code",
   "execution_count": null,
   "id": "8ba40ce8-fab1-4c5d-9402-4f6b321ced46",
   "metadata": {},
   "outputs": [],
   "source": [
    "# Visualization\n",
    "plt.figure(figsize=(15, 10))\n",
    "ax = plt.axes(projection=ccrs.PlateCarree())\n",
    "\n",
    "# Add map features\n",
    "ax.add_feature(cfeature.LAND, facecolor='lightgrey')\n",
    "ax.add_feature(cfeature.BORDERS, linestyle=':')\n",
    "ax.add_feature(cfeature.LAKES, alpha=0.5)\n",
    "ax.add_feature(cfeature.RIVERS)\n",
    "\n",
    "# Calculate mean anomaly\n",
    "sst_mean = sst_normalized.sst.mean(dim='time')\n",
    "\n",
    "# Plot the SST anomaly data\n",
    "im = ax.pcolormesh(sst_normalized.lon, sst_normalized.lat, sst_mean, \n",
    "                   transform=ccrs.PlateCarree(), \n",
    "                   cmap='RdBu_r',  # Diverging colormap\n",
    "                   )\n",
    "\n",
    "# Add a colorbar\n",
    "plt.colorbar(im, ax=ax, label='Normalized SST Anomaly (°C)')\n",
    "\n",
    "# Set the map extent to focus on the Great Lakes\n",
    "ax.set_extent([-92.5, -75.5, 38.5, 51], crs=ccrs.PlateCarree())\n",
    "\n",
    "# Add a title\n",
    "plt.title('Mean Normalized Sea Surface Temperature Anomaly (1995-1996)')\n",
    "\n",
    "plt.tight_layout()\n",
    "plt.show()"
   ]
  },
  {
   "cell_type": "code",
   "execution_count": null,
   "id": "66757a4f-d68d-4f3d-abdf-822c14cdb068",
   "metadata": {},
   "outputs": [],
   "source": [
    "# Optional: Save processors and seasonal cycle\n",
    "#seasonal_processor.save(\"data/seasonal_cycles/glsea_1995_1996\")\n",
    "#data_processor.save(\"data/processors/glsea_sst_anomalies\")\n",
    "\n",
    "# Print some basic information\n",
    "print(\"Data preprocessing and visualization complete.\")\n",
    "print(f\"Normalized SST Anomaly Shape: {sst_normalized.sst.shape}\")\n",
    "print(f\"Latitude Range: {sst_normalized.lat.min().values} to {sst_normalized.lat.max().values}\")\n",
    "print(f\"Longitude Range: {sst_normalized.lon.min().values} to {sst_normalized.lon.max().values}\")"
   ]
  }
 ],
 "metadata": {
  "kernelspec": {
   "display_name": "Python (deepsensor_env)",
   "language": "python",
   "name": "deepsensor_env"
  },
  "language_info": {
   "codemirror_mode": {
    "name": "ipython",
    "version": 3
   },
   "file_extension": ".py",
   "mimetype": "text/x-python",
   "name": "python",
   "nbconvert_exporter": "python",
   "pygments_lexer": "ipython3",
   "version": "3.9.6"
  }
 },
 "nbformat": 4,
 "nbformat_minor": 5
}
