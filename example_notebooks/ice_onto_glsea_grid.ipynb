{
 "cells": [
  {
   "cell_type": "markdown",
   "id": "32596575-f30b-4886-be0f-5d2214879266",
   "metadata": {},
   "source": [
    "# Interpolate ice concentration onto GLSEA/GLSEA3 grid"
   ]
  },
  {
   "cell_type": "code",
   "execution_count": 1,
   "id": "3fb16329-6e49-47e0-964e-fb790ff1a35c",
   "metadata": {},
   "outputs": [],
   "source": [
    "import xarray as xr\n",
    "import numpy as np\n",
    "from deepsensor_greatlakes.utils import standardize_dates"
   ]
  },
  {
   "cell_type": "code",
   "execution_count": 2,
   "id": "da13819f-fba9-4437-bff4-639b36040a9d",
   "metadata": {},
   "outputs": [],
   "source": [
    "# Path to the files on U-M HPC\n",
    "ice_concentration_path = '/nfs/turbo/seas-dannes/SST-sensor-placement-input/NSIDC/ice_concentration.zarr'\n",
    "processed_path = '/nfs/turbo/seas-dannes/SST-sensor-placement-input/NSIDC/ice_concentration_interp_on_glsea_grid.zarr'\n",
    "glsea_path = '/nfs/turbo/seas-dannes/SST-sensor-placement-input/GLSEA_combined.zarr'"
   ]
  },
  {
   "cell_type": "code",
   "execution_count": 3,
   "id": "3e807fe8-f648-4645-a084-7593cf0a5c5e",
   "metadata": {},
   "outputs": [
    {
     "name": "stdout",
     "output_type": "stream",
     "text": [
      "<xarray.Dataset> Size: 40GB\n",
      "Dimensions:  (time: 10221, lat: 838, lon: 1181)\n",
      "Coordinates:\n",
      "  * lat      (lat) float64 7kB 38.87 38.89 38.9 38.92 ... 50.58 50.59 50.61\n",
      "  * lon      (lon) float64 9kB -92.42 -92.41 -92.39 ... -75.91 -75.9 -75.88\n",
      "  * time     (time) datetime64[s] 82kB 1995-01-01 1995-01-02 ... 2022-12-31\n",
      "Data variables:\n",
      "    crs      (time) |S1 10kB dask.array<chunksize=(366,), meta=np.ndarray>\n",
      "    sst      (time, lat, lon) float32 40GB dask.array<chunksize=(366, 200, 200), meta=np.ndarray>\n",
      "Attributes:\n",
      "    CDI:          Climate Data Interface version 2.0.5 (https://mpimet.mpg.de...\n",
      "    CDO:          Climate Data Operators version 2.0.5 (https://mpimet.mpg.de...\n",
      "    Conventions:  CF-1.5\n",
      "    GDAL:         GDAL 2.1.3, released 2017/20/01\n",
      "    history:      Tue Feb 13 20:15:43 2024: cdo selyear,1995 GLSEA_SST_1995_2...\n",
      "    source:       1995_001_glsea.asc\n",
      "    title:        SST from Great Lakes Surface Environmental Analysis (GLSEA)\n"
     ]
    }
   ],
   "source": [
    "# 1. Load the raw datasets using native on-disk chunking\n",
    "# Dask's lazy loading will handle the large datasets without memory issues.\n",
    "\n",
    "# GLSEA\n",
    "glsea_raw = xr.open_zarr(glsea_path)\n",
    "glsea_raw = standardize_dates(glsea_raw)\n",
    "print(glsea_raw)"
   ]
  },
  {
   "cell_type": "code",
   "execution_count": 4,
   "id": "6c7ae868-7131-4a3c-a75a-50f55237fdda",
   "metadata": {},
   "outputs": [
    {
     "name": "stdout",
     "output_type": "stream",
     "text": [
      "<xarray.Dataset> Size: 155GB\n",
      "Dimensions:            (time: 18434, lat: 1024, lon: 1024)\n",
      "Coordinates:\n",
      "  * lat                (lat) float64 8kB 50.6 50.59 50.58 ... 38.9 38.89 38.87\n",
      "  * lon                (lon) float64 8kB -92.41 -92.39 -92.38 ... -75.89 -75.87\n",
      "  * time               (time) datetime64[s] 147kB 1972-12-01 ... 2023-05-21\n",
      "Data variables:\n",
      "    ice_concentration  (time, lat, lon) float64 155GB dask.array<chunksize=(366, 200, 200), meta=np.ndarray>\n",
      "Attributes: (12/23)\n",
      "    coverage_area:            Great Lakes\n",
      "    data_source:              NOAA\n",
      "    description:              Great Lakes ice concentrations\n",
      "    disclaimer:               Data collected and processed by NOAA and dissem...\n",
      "    dissemination:            USNIC Website, CIS Website\n",
      "    grid_resolution:          1.800 km\n",
      "    ...                       ...\n",
      "    product:                  GRID - Resolution 1800\n",
      "    source:                   NAIS daily Great Lakes ice analysis\n",
      "    source_url:               https://noaadata.apps.nsidc.org/NOAA/G10029/\n",
      "    spatial_extent:           Lat: 38.87N to 50.6N, Lon: 92.41W to 75.87W\n",
      "    time_range:               2009-01-01 to 2009-12-31\n",
      "    units:                    Ice concentration (%)\n"
     ]
    }
   ],
   "source": [
    "# Ice concentration\n",
    "ice_concentration_raw = xr.open_zarr(ice_concentration_path)\n",
    "ice_concentration_raw = standardize_dates(ice_concentration_raw)\n",
    "print(ice_concentration_raw)"
   ]
  },
  {
   "cell_type": "code",
   "execution_count": 5,
   "id": "d05d2ec2-17ea-4148-8184-353f6fff7186",
   "metadata": {},
   "outputs": [
    {
     "name": "stdout",
     "output_type": "stream",
     "text": [
      "<xarray.Dataset> Size: 155GB\n",
      "Dimensions:            (time: 18434, lat: 1024, lon: 1024)\n",
      "Coordinates:\n",
      "  * lat                (lat) float64 8kB 50.6 50.59 50.58 ... 38.9 38.89 38.87\n",
      "  * lon                (lon) float64 8kB -92.41 -92.39 -92.38 ... -75.89 -75.87\n",
      "  * time               (time) datetime64[s] 147kB 1972-12-01 ... 2023-05-21\n",
      "Data variables:\n",
      "    ice_concentration  (time, lat, lon) float64 155GB dask.array<chunksize=(366, 200, 200), meta=np.ndarray>\n",
      "Attributes: (12/23)\n",
      "    coverage_area:            Great Lakes\n",
      "    data_source:              NOAA\n",
      "    description:              Great Lakes ice concentrations\n",
      "    disclaimer:               Data collected and processed by NOAA and dissem...\n",
      "    dissemination:            USNIC Website, CIS Website\n",
      "    grid_resolution:          1.800 km\n",
      "    ...                       ...\n",
      "    product:                  GRID - Resolution 1800\n",
      "    source:                   NAIS daily Great Lakes ice analysis\n",
      "    source_url:               https://noaadata.apps.nsidc.org/NOAA/G10029/\n",
      "    spatial_extent:           Lat: 38.87N to 50.6N, Lon: 92.41W to 75.87W\n",
      "    time_range:               2009-01-01 to 2009-12-31\n",
      "    units:                    Ice concentration (%)\n"
     ]
    }
   ],
   "source": [
    "# Replace -1 (land value) with NaN to ensure it's not treated as data\n",
    "ice_concentration_raw = ice_concentration_raw.where(ice_concentration_raw != -1, np.nan)\n",
    "print(ice_concentration_raw)"
   ]
  },
  {
   "cell_type": "code",
   "execution_count": 6,
   "id": "27ba461b-849e-43d9-91a7-9f309fedc1a8",
   "metadata": {},
   "outputs": [
    {
     "name": "stdout",
     "output_type": "stream",
     "text": [
      "Slicing ice concentration data to match GLSEA time range...\n",
      "<xarray.Dataset> Size: 86GB\n",
      "Dimensions:            (time: 10227, lat: 1024, lon: 1024)\n",
      "Coordinates:\n",
      "  * lat                (lat) float64 8kB 50.6 50.59 50.58 ... 38.9 38.89 38.87\n",
      "  * lon                (lon) float64 8kB -92.41 -92.39 -92.38 ... -75.89 -75.87\n",
      "  * time               (time) datetime64[s] 82kB 1995-01-01 ... 2022-12-31\n",
      "Data variables:\n",
      "    ice_concentration  (time, lat, lon) float64 86GB dask.array<chunksize=(352, 200, 200), meta=np.ndarray>\n",
      "Attributes: (12/23)\n",
      "    coverage_area:            Great Lakes\n",
      "    data_source:              NOAA\n",
      "    description:              Great Lakes ice concentrations\n",
      "    disclaimer:               Data collected and processed by NOAA and dissem...\n",
      "    dissemination:            USNIC Website, CIS Website\n",
      "    grid_resolution:          1.800 km\n",
      "    ...                       ...\n",
      "    product:                  GRID - Resolution 1800\n",
      "    source:                   NAIS daily Great Lakes ice analysis\n",
      "    source_url:               https://noaadata.apps.nsidc.org/NOAA/G10029/\n",
      "    spatial_extent:           Lat: 38.87N to 50.6N, Lon: 92.41W to 75.87W\n",
      "    time_range:               2009-01-01 to 2009-12-31\n",
      "    units:                    Ice concentration (%)\n"
     ]
    }
   ],
   "source": [
    "# 2. Drop dates from the ice concentration dataset that are before the GLSEA start date.\n",
    "# We're using a simple slice to keep only the overlapping time range.\n",
    "print(\"Slicing ice concentration data to match GLSEA time range...\")\n",
    "start_time = glsea_raw.time.min().values\n",
    "end_time = glsea_raw.time.max().values\n",
    "ice_concentration_sliced = ice_concentration_raw.sel(time=slice(start_time, end_time))\n",
    "\n",
    "print(ice_concentration_sliced)"
   ]
  },
  {
   "cell_type": "code",
   "execution_count": 7,
   "id": "5d6c0f6b-2100-4955-8473-bbd1c43e9424",
   "metadata": {},
   "outputs": [
    {
     "name": "stdout",
     "output_type": "stream",
     "text": [
      "<xarray.Dataset> Size: 81GB\n",
      "Dimensions:            (time: 10221, lat: 838, lon: 1181)\n",
      "Coordinates:\n",
      "  * time               (time) datetime64[s] 82kB 1995-01-01 ... 2022-12-31\n",
      "  * lat                (lat) float64 7kB 38.87 38.89 38.9 ... 50.58 50.59 50.61\n",
      "  * lon                (lon) float64 9kB -92.42 -92.41 -92.39 ... -75.9 -75.88\n",
      "Data variables:\n",
      "    ice_concentration  (time, lat, lon) float64 81GB dask.array<chunksize=(105, 60, 1181), meta=np.ndarray>\n",
      "Attributes: (12/23)\n",
      "    coverage_area:            Great Lakes\n",
      "    data_source:              NOAA\n",
      "    description:              Great Lakes ice concentrations\n",
      "    disclaimer:               Data collected and processed by NOAA and dissem...\n",
      "    dissemination:            USNIC Website, CIS Website\n",
      "    grid_resolution:          1.800 km\n",
      "    ...                       ...\n",
      "    product:                  GRID - Resolution 1800\n",
      "    source:                   NAIS daily Great Lakes ice analysis\n",
      "    source_url:               https://noaadata.apps.nsidc.org/NOAA/G10029/\n",
      "    spatial_extent:           Lat: 38.87N to 50.6N, Lon: 92.41W to 75.87W\n",
      "    time_range:               2009-01-01 to 2009-12-31\n",
      "    units:                    Ice concentration (%)\n"
     ]
    }
   ],
   "source": [
    "# 3. Put the ice data onto the GLSEA grid\n",
    "# We use `.interp_like()` to align the ice data with the GLSEA grid.\n",
    "# The 'nearest' method finds the closest point, which is efficient and suitable here.\n",
    "ice_concentration_interp = ice_concentration_sliced.interp_like(\n",
    "    glsea_raw, \n",
    "    method=\"nearest\"\n",
    ")\n",
    "\n",
    "print(ice_concentration_interp)"
   ]
  },
  {
   "cell_type": "code",
   "execution_count": 8,
   "id": "066c5cd1-de72-4fa9-9d92-0ac78460b97e",
   "metadata": {},
   "outputs": [
    {
     "name": "stdout",
     "output_type": "stream",
     "text": [
      "<xarray.Dataset> Size: 40GB\n",
      "Dimensions:            (time: 10221, lat: 838, lon: 1181)\n",
      "Coordinates:\n",
      "  * time               (time) datetime64[s] 82kB 1995-01-01 ... 2022-12-31\n",
      "  * lat                (lat) float64 7kB 38.87 38.89 38.9 ... 50.58 50.59 50.61\n",
      "  * lon                (lon) float64 9kB -92.42 -92.41 -92.39 ... -75.9 -75.88\n",
      "Data variables:\n",
      "    ice_concentration  (time, lat, lon) float32 40GB dask.array<chunksize=(366, 200, 200), meta=np.ndarray>\n",
      "Attributes: (12/23)\n",
      "    coverage_area:            Great Lakes\n",
      "    data_source:              NOAA\n",
      "    description:              Great Lakes ice concentrations\n",
      "    disclaimer:               Data collected and processed by NOAA and dissem...\n",
      "    dissemination:            USNIC Website, CIS Website\n",
      "    grid_resolution:          1.800 km\n",
      "    ...                       ...\n",
      "    product:                  GRID - Resolution 1800\n",
      "    source:                   NAIS daily Great Lakes ice analysis\n",
      "    source_url:               https://noaadata.apps.nsidc.org/NOAA/G10029/\n",
      "    spatial_extent:           Lat: 38.87N to 50.6N, Lon: 92.41W to 75.87W\n",
      "    time_range:               2009-01-01 to 2009-12-31\n",
      "    units:                    Ice concentration (%)\n"
     ]
    }
   ],
   "source": [
    "# 4. Perform the scaling (normalization), rechunk, and write to a new Zarr store\n",
    "# The `.chunk('auto')` call is crucial to reorganize the data into a Zarr-compatible\n",
    "# chunking scheme, which resolves the ValueError.\n",
    "ice_concentration_final = (ice_concentration_interp / 100.0).clip(min=0.0, max=1.0).astype('float32').chunk({'time': 366, 'lat': 200, 'lon': 200})\n",
    "\n",
    "print(ice_concentration_final)"
   ]
  },
  {
   "cell_type": "code",
   "execution_count": 9,
   "id": "c3a40aaa-9eb6-49c9-96b4-ab9b547095ff",
   "metadata": {},
   "outputs": [
    {
     "name": "stdout",
     "output_type": "stream",
     "text": [
      "Updating metadata...\n"
     ]
    }
   ],
   "source": [
    "# 5. Update the dataset's metadata (attributes) to reflect the new data\n",
    "print(\"Updating metadata...\")\n",
    "ice_concentration_final.attrs['title'] = 'Great Lakes Ice Concentration Interpolated to GLSEA Grid'\n",
    "ice_concentration_final.attrs['time_range'] = f'{ice_concentration_final.time.min().values} to {ice_concentration_final.time.max().values}'\n",
    "ice_concentration_final.attrs['units'] = 'Ice concentration (0.0 - 1.0)'"
   ]
  },
  {
   "cell_type": "code",
   "execution_count": 10,
   "id": "64ecbd79-3854-4981-9462-5c2ffb15e320",
   "metadata": {},
   "outputs": [
    {
     "name": "stdout",
     "output_type": "stream",
     "text": [
      "Starting to process and save the final dataset. This will take some time...\n"
     ]
    },
    {
     "data": {
      "text/plain": [
       "<xarray.backends.zarr.ZarrStore at 0x14e15899fe20>"
      ]
     },
     "execution_count": 10,
     "metadata": {},
     "output_type": "execute_result"
    }
   ],
   "source": [
    "print(\"Starting to process and save the final dataset. This will take some time...\")\n",
    "\n",
    "ice_concentration_final.to_zarr(processed_path, mode=\"w\", compute=True)"
   ]
  },
  {
   "cell_type": "code",
   "execution_count": 11,
   "id": "bdd48a64-cb31-442a-a46b-43e2b1a8fed0",
   "metadata": {},
   "outputs": [
    {
     "name": "stdout",
     "output_type": "stream",
     "text": [
      "Successfully processed and saved the final dataset to /nfs/turbo/seas-dannes/SST-sensor-placement-input/NSIDC/ice_concentration_interp_on_glsea_grid.zarr!\n"
     ]
    }
   ],
   "source": [
    "print(f\"Successfully processed and saved the final dataset to {processed_path}!\")"
   ]
  }
 ],
 "metadata": {
  "kernelspec": {
   "display_name": "Python (venv_deepsensor)",
   "language": "python",
   "name": "venv_deepsensor"
  },
  "language_info": {
   "codemirror_mode": {
    "name": "ipython",
    "version": 3
   },
   "file_extension": ".py",
   "mimetype": "text/x-python",
   "name": "python",
   "nbconvert_exporter": "python",
   "pygments_lexer": "ipython3",
   "version": "3.10.9"
  }
 },
 "nbformat": 4,
 "nbformat_minor": 5
}
