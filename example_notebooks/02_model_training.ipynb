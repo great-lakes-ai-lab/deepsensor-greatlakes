{
 "cells": [
  {
   "cell_type": "markdown",
   "id": "6639e47a-f763-4d70-847d-31f314803ea3",
   "metadata": {},
   "source": [
    "# Training the ConvNP Model \n",
    "\n",
    "In this notebook, we will preprocess Great Lakes data using an existing data processor, generate tasks for model training, and set up a training loop to train a **ConvNP** model using DeepSensor. We will:\n",
    "1. Load and preprocess temporal and static datasets like **SST**, **Ice Concentration**, **Lake Mask**, and **Bathymetry**.\n",
    "2. Load and use an existing **DataProcessor** to handle data normalization.\n",
    "3. Generate tasks using **TaskLoader** and train the **ConvNP** model.\n",
    "4. Monitor validation performance and track model training losses and RMSE (Root Mean Squared Error).\n",
    "\n",
    "Let's begin by importing necessary packages and defining helper functions.\n"
   ]
  },
  {
   "cell_type": "markdown",
   "id": "313e0a2b-f36f-468a-8d98-33ad8b99d830",
   "metadata": {},
   "source": [
    "## Step 1: Import Packages and Define Helper Functions\n",
    "\n",
    "We import the libraries required for:\n",
    "- Data manipulation and visualization (`xarray`, `pandas`, `matplotlib`).\n",
    "- Geospatial operations (`cartopy`).\n",
    "- Efficient computation with Dask (`dask`).\n",
    "- DeepSensor for data processing and model training (`deepsensor`).\n",
    "\n",
    "Additionally, we define helper functions such as `standardize_dates`, which standardizes the 'time' dimension in the dataset to a date-only format (`datetime64[D]`). We also define `generate_random_coordinates` and custom save and load functions, as the default functions in DeepSensor appear to be broken in this environment. \n"
   ]
  },
  {
   "cell_type": "code",
   "execution_count": 1,
   "id": "3dc27116-7a2e-4252-a198-b9d52c636659",
   "metadata": {
    "tags": []
   },
   "outputs": [],
   "source": [
    "import xarray as xr\n",
    "import numpy as np\n",
    "import pandas as pd\n",
    "import matplotlib.pyplot as plt\n",
    "import cartopy.crs as ccrs\n",
    "import cartopy.feature as cfeature\n",
    "import dask.array as da\n",
    "import gcsfs\n",
    "import os\n",
    "\n",
    "import deepsensor.torch\n",
    "from deepsensor.data import DataProcessor, TaskLoader, construct_circ_time_ds\n",
    "from deepsensor.data.sources import get_era5_reanalysis_data, get_earthenv_auxiliary_data, \\\n",
    "    get_gldas_land_mask\n",
    "from deepsensor.model import ConvNP\n",
    "from deepsensor.train import Trainer, set_gpu_default_device"
   ]
  },
  {
   "cell_type": "code",
   "execution_count": 2,
   "id": "e9704bd8-859f-466f-bbec-e55b27c9b3be",
   "metadata": {
    "tags": []
   },
   "outputs": [],
   "source": [
    "set_gpu_default_device()"
   ]
  },
  {
   "cell_type": "markdown",
   "id": "33b00329-509a-4f64-9869-4bd2a4e68ac1",
   "metadata": {},
   "source": [
    "### Standardize dates"
   ]
  },
  {
   "cell_type": "code",
   "execution_count": 3,
   "id": "e78cb96f-c4b9-4b1a-90a0-3fdb7db8b978",
   "metadata": {
    "tags": []
   },
   "outputs": [],
   "source": [
    "def standardize_dates(ds):\n",
    "    \"\"\"\n",
    "    Convert the 'time' dimension in an xarray dataset to date-only precision with datetime64[D].\n",
    "    \n",
    "    Parameters:\n",
    "    ds (xarray.Dataset): The dataset whose 'time' dimension you wish to modify.\n",
    "    \n",
    "    Returns:\n",
    "    xarray.Dataset: Modified dataset with time as datetime64[D].\n",
    "    \"\"\"\n",
    "    if 'time' in ds.coords:\n",
    "        # Convert time to day-level precision\n",
    "        ds['time'] = ds['time'].dt.floor('D').values.astype('datetime64[D]')\n",
    "    \n",
    "    return ds"
   ]
  },
  {
   "cell_type": "markdown",
   "id": "ac736b0e-d1bf-4703-9fab-f5daff2e2c8d",
   "metadata": {},
   "source": [
    "### Generate random coordinates within the lakes"
   ]
  },
  {
   "cell_type": "code",
   "execution_count": 4,
   "id": "12d91a53-e891-4464-a702-649de0cfc7e2",
   "metadata": {
    "tags": []
   },
   "outputs": [],
   "source": [
    "def generate_random_coordinates(mask_da, N, data_processor=None):\n",
    "    \"\"\"\n",
    "    Generate N random coordinates (lat, lon) from a mask with values 1 inside the lake area,\n",
    "    and normalize them using the DataProcessor if provided.\n",
    "    \n",
    "    Parameters:\n",
    "    mask_da: xarray DataArray containing the mask (with 1 for valid, 0 for invalid areas)\n",
    "    N: Number of random points to generate\n",
    "    data_processor: (optional) DataProcessor object for normalization if needed\n",
    "    \n",
    "    Returns:\n",
    "    numpy.ndarray: Array of shape (2, N) with random latitudes and longitudes from the masked region\n",
    "    \"\"\"\n",
    "    \n",
    "    # Get the valid indices where the mask is 1\n",
    "    mask = mask_da['mask'].values\n",
    "    valid_indices = np.argwhere(mask == 1)\n",
    "    \n",
    "    # Randomly sample N points from the valid indices\n",
    "    random_indices = valid_indices[np.random.choice(valid_indices.shape[0], N, replace=False)]\n",
    "    \n",
    "    # Get the latitude and longitude coordinates for the sampled indices\n",
    "    latitudes = mask_da['lat'].values[random_indices[:, 0]]\n",
    "    longitudes = mask_da['lon'].values[random_indices[:, 1]]\n",
    "    \n",
    "    # Create a dummy variable (e.g., zeros for now)\n",
    "    dummy_variable = np.random.rand(N)\n",
    "    \n",
    "    # Create a Pandas DataFrame with latitudes, longitudes, and the dummy variable\n",
    "    random_coords_df = pd.DataFrame({\n",
    "        'lat': latitudes,\n",
    "        'lon': longitudes,\n",
    "        'dummy': dummy_variable\n",
    "    })\n",
    "    \n",
    "    # Set the index to ['lat', 'lon'] to match what DataProcessor expects\n",
    "    random_coords_df = random_coords_df.set_index(['lat', 'lon'])\n",
    "    \n",
    "    if data_processor:\n",
    "        normalized_coords_df = data_processor(random_coords_df, method=\"min_max\")\n",
    "        return normalized_coords_df.index.to_frame(index=False).values.T\n",
    "    else:\n",
    "        return np.vstack((latitudes, longitudes))\n"
   ]
  },
  {
   "cell_type": "markdown",
   "id": "e3d8f42c-fd52-4af2-b2b0-69b62052b3a1",
   "metadata": {},
   "source": [
    "### Custom save and load functions (needed because built-in is broken)"
   ]
  },
  {
   "cell_type": "code",
   "execution_count": 5,
   "id": "e847ac4c-2ef8-438f-af9f-6760b91293b0",
   "metadata": {},
   "outputs": [],
   "source": [
    "import os\n",
    "import json\n",
    "import torch\n",
    "import numpy as np\n",
    "import re\n",
    "\n",
    "from deepsensor.model import ConvNP\n",
    "from deepsensor.model.nps import construct_neural_process\n",
    "from deepsensor.data import DataProcessor, TaskLoader\n",
    "\n",
    "# --- Your custom save function (copy this exactly) ---\n",
    "def save_model(model, model_ID: str):\n",
    "    os.makedirs(model_ID, exist_ok=True)\n",
    "    torch.save(model.model.state_dict(), os.path.join(model_ID, \"model.pt\"))\n",
    "    config_fpath = os.path.join(model_ID, \"model_config.json\")\n",
    "    with open(config_fpath, \"w\") as f:\n",
    "        json.dump(model.config, f, indent=4, sort_keys=False, default=str)\n",
    "\n",
    "# --- Helper functions for deserialization (copy these exactly) ---\n",
    "def _convert_string_to_numeric_if_possible(value):\n",
    "    if isinstance(value, str):\n",
    "        if re.fullmatch(r\"[-+]?\\d*\\.?\\d+(?:[eE][-+]?\\d+)?\", value):\n",
    "            try:\n",
    "                return float(value)\n",
    "            except ValueError:\n",
    "                pass\n",
    "    return value\n",
    "\n",
    "def _deserialize_config(config_data):\n",
    "    if isinstance(config_data, dict):\n",
    "        deserialized = {}\n",
    "        for key, value in config_data.items():\n",
    "            deserialized[key] = _deserialize_config(value)\n",
    "        return deserialized\n",
    "    elif isinstance(config_data, list):\n",
    "        return [_deserialize_config(item) for item in config_data]\n",
    "    else:\n",
    "        converted_val = _convert_string_to_numeric_if_possible(config_data)\n",
    "        if isinstance(converted_val, str):\n",
    "            import torch.nn as nn\n",
    "            if converted_val == \"<class 'torch.nn.modules.activation.ReLU'>\":\n",
    "                return nn.ReLU\n",
    "            elif converted_val == \"<class 'torch.nn.modules.activation.LeakyReLU'>\":\n",
    "                return nn.LeakyReLU\n",
    "            else:\n",
    "                return converted_val\n",
    "        else:\n",
    "            return converted_val\n",
    "\n",
    "# --- Your main custom load function (FULLY REVISED AGAIN) ---\n",
    "def load_convnp_model(model_ID: str, data_processor: DataProcessor, task_loader: TaskLoader):\n",
    "    config_fpath = os.path.join(model_ID, \"model_config.json\")\n",
    "    with open(config_fpath, \"r\") as f:\n",
    "        config_raw = json.load(f)\n",
    "\n",
    "    deserialized_config = _deserialize_config(config_raw)\n",
    "\n",
    "    # Prepare config for constructing the underlying neural process.\n",
    "    # This config should ONLY contain architectural parameters for construct_neural_process.\n",
    "    config_for_nps_constructor = deserialized_config.copy()\n",
    "\n",
    "    # Remove the keys that are only for internal DeepSensorModel tracking,\n",
    "    # or are to be passed separately as positional arguments to ConvNP.\n",
    "    if 'family' in config_for_nps_constructor:\n",
    "        del config_for_nps_constructor['family']\n",
    "    if 'neural_process_type' in config_for_nps_constructor:\n",
    "        del config_for_nps_constructor['neural_process_type']\n",
    "    # Ensure data_processor and task_loader are NOT in this dict, as they will be passed positionally\n",
    "    if 'data_processor' in config_for_nps_constructor: # Defensive check, should not be there from JSON\n",
    "        del config_for_nps_constructor['data_processor']\n",
    "    if 'task_loader' in config_for_nps_constructor: # Defensive check\n",
    "        del config_for_nps_constructor['task_loader']\n",
    "\n",
    "\n",
    "    print(\"Attempting to instantiate ConvNP model (randomly initialized initially):\")\n",
    "    print(\"Architectural config for construct_neural_process (passed as **kwargs):\", config_for_nps_constructor)\n",
    "\n",
    "    try:\n",
    "        # Instantiate ConvNP.\n",
    "        # In DeepSensor 0.4.2, ConvNP's __init__ expects data_processor and task_loader\n",
    "        # as its first two positional arguments, and then forwards remaining kwargs\n",
    "        # to construct_neural_process.\n",
    "        loaded_convnp_model = ConvNP(\n",
    "            data_processor, # Positional argument 1 for DeepSensorModel super().__init__\n",
    "            task_loader,    # Positional argument 2 for DeepSensorModel super().__init__\n",
    "            **config_for_nps_constructor # Remaining architectural kwargs for construct_neural_process\n",
    "        )\n",
    "    except Exception as e:\n",
    "        print(f\"Error when instantiating ConvNP: {e}\")\n",
    "        # Print the *full context* for debugging, including positional arguments\n",
    "        debug_info = {\n",
    "            'data_processor_arg': data_processor,\n",
    "            'task_loader_arg': task_loader,\n",
    "            'architectural_kwargs': config_for_nps_constructor\n",
    "        }\n",
    "        import pprint\n",
    "        pprint.pprint(debug_info)\n",
    "        raise\n",
    "\n",
    "    # Now, load the actual trained weights into the 'model' attribute of the\n",
    "    # randomly initialized ConvNP instance. This overrides the random weights.\n",
    "    model_weights_fpath = os.path.join(model_ID, \"model.pt\")\n",
    "    loaded_convnp_model.model.load_state_dict(\n",
    "        torch.load(model_weights_fpath, map_location='cuda' if torch.cuda.is_available() else 'cpu', weights_only=True)\n",
    "    )\n",
    "    # Ensure the model is on the correct device\n",
    "    loaded_convnp_model.model.to('cuda' if torch.cuda.is_available() else 'cpu')\n",
    "\n",
    "\n",
    "    # Update the 'config' attribute of the ConvNP model instance\n",
    "    # with the *full* deserialized config (including 'family' and 'neural_process_type'),\n",
    "    # as this is how it was originally saved and expected by the ConvNP object itself.\n",
    "    loaded_convnp_model.config = deserialized_config\n",
    "\n",
    "    return loaded_convnp_model"
   ]
  },
  {
   "cell_type": "markdown",
   "id": "38fd8e06-fc32-474a-abf4-f44f46ab21e9",
   "metadata": {},
   "source": [
    "## Step 2: Data Inventory and Preprocessing\n",
    "\n",
    "In this section, we load the required environmental datasets for model training:\n",
    "- **Ice Concentration**: A dataset of ice cover over time in the Great Lakes.\n",
    "- **GLSEA (Sea Surface Temperature)**: A dataset of sea surface temperature.\n",
    "- **Bathymetry**: A dataset representing the underwater topography of the lakes.\n",
    "- **Lake Mask**: A binary mask indicating water presence.\n",
    "\n",
    "These datasets are loaded from storage and preprocessed by converting time into date-only format and handling missing data.\n"
   ]
  },
  {
   "cell_type": "markdown",
   "id": "07591068-d808-4126-ac5b-e76acd7b2436",
   "metadata": {},
   "source": [
    "### User Inputs - Select Training and Validation Ranges"
   ]
  },
  {
   "cell_type": "code",
   "execution_count": 6,
   "id": "241495b1-96af-4768-9f4b-bd4610eebcf3",
   "metadata": {
    "tags": []
   },
   "outputs": [],
   "source": [
    "# Training/data config (adapted for Great Lakes)\n",
    "#data_range = (\"2009-01-01\", \"2022-12-31\")\n",
    "#train_range = (\"2009-01-01\", \"2021-12-31\")\n",
    "#val_range = (\"2022-01-01\", \"2022-12-31\")\n",
    "#date_subsample_factor = 10\n",
    "\n",
    "# Just two years for demo purposes\n",
    "data_range = (\"2009-01-01\", \"2010-12-31\")\n",
    "train_range = (\"2009-01-01\", \"2009-12-31\")\n",
    "val_range = (\"2010-01-01\", \"2010-12-31\")\n",
    "date_subsample_factor = 30"
   ]
  },
  {
   "cell_type": "code",
   "execution_count": 7,
   "id": "ef63571c-877a-4eb3-b8bc-3719baeaf258",
   "metadata": {
    "tags": []
   },
   "outputs": [],
   "source": [
    "# Path to the Zarr stores (NOTE: This won't work on U-M HPC. Paths must be changed)\n",
    "#bathymetry_path = 'gs://great-lakes-osd/context/interpolated_bathymetry.nc'\n",
    "#mask_path = 'gs://great-lakes-osd/context/lakemask.nc'\n",
    "#ice_concentration_path = 'gs://great-lakes-osd/ice_concentration.zarr'\n",
    "#glsea_path = 'gs://great-lakes-osd/GLSEA_combined.zarr'\n",
    "#glsea3_path = 'gs://great-lakes-osd/GLSEA3_combined.zarr'\n",
    "\n",
    "# Path to the files on U-M HPC\n",
    "bathymetry_path = '/nfs/turbo/seas-dannes/SST-sensor-placement-input/bathymetry/interpolated_bathymetry.nc'\n",
    "mask_path = '/nfs/turbo/seas-dannes/SST-sensor-placement-input/masks/lakemask.nc'\n",
    "ice_concentration_path = '/nfs/turbo/seas-dannes/SST-sensor-placement-input/NSIDC/ice_concentration.zarr'\n",
    "glsea_path = '/nfs/turbo/seas-dannes/SST-sensor-placement-input/GLSEA_combined.zarr'\n",
    "glsea3_path = '/nfs/turbo/seas-dannes/SST-sensor-placement-input/GLSEA3_combined.zarr'\n",
    "\n",
    "# Paths to saved configurations\n",
    "deepsensor_folder = '../deepsensor_config/'"
   ]
  },
  {
   "cell_type": "markdown",
   "id": "79f1a2d3-2263-4076-9b92-a956ce383d70",
   "metadata": {},
   "source": [
    "## Step 3: Loading Temporal Datasets (Ice Concentration and GLSEA)\n",
    "\n",
    "In this section, we load the **Ice Concentration** and **GLSEA** datasets stored in Zarr format. These datasets contain critical temporal information on ice cover and sea surface temperature.\n",
    "\n",
    "We perform the following preprocessing:\n",
    "1. Replace invalid land values (denoted by `-1`) with `NaN`.\n",
    "2. Standardize the time dimension to date-only precision.\n",
    "3. Drop unnecessary variables like **CRS**.\n",
    "\n",
    "Let’s load and preprocess the data now.\n"
   ]
  },
  {
   "cell_type": "code",
   "execution_count": 8,
   "id": "ec454436-7e94-4c99-8455-851dee1d3d38",
   "metadata": {
    "tags": []
   },
   "outputs": [],
   "source": [
    "# Open the Zarr stores\n",
    "ice_concentration_raw = xr.open_zarr(ice_concentration_path, chunks={'time': 366, 'lat': 200, 'lon': 200})\n",
    "glsea_raw = xr.open_zarr(glsea_path, chunks={'time': 366, 'lat': 200, 'lon': 200})\n",
    "glsea3_raw = xr.open_zarr(glsea3_path, chunks={'time': 366, 'lat': 200, 'lon': 200})\n",
    "\n",
    "# Replace -1 (land value) with NaN\n",
    "ice_concentration_raw = ice_concentration_raw.where(ice_concentration_raw != -1, float('nan'))\n",
    "\n",
    "# Convert all times to date-only format, removing the time component\n",
    "ice_concentration_raw = standardize_dates(ice_concentration_raw)\n",
    "glsea_raw = standardize_dates(glsea_raw)\n",
    "glsea3_raw = standardize_dates(glsea3_raw)\n",
    "\n",
    "# Drop CRS - not needed\n",
    "glsea_raw = glsea_raw.drop_vars('crs')\n",
    "glsea3_raw = glsea3_raw.drop_vars('crs')"
   ]
  },
  {
   "cell_type": "markdown",
   "id": "4d6663bb-aca3-4178-95a7-018fee440717",
   "metadata": {},
   "source": [
    "## Step 4: Loading Static Datasets (Bathymetry and Lake Mask)\n",
    "\n",
    "Next, we load two static datasets:\n",
    "- **Bathymetry**: The underwater features of the Great Lakes.\n",
    "- **Lake Mask**: A binary mask indicating water bodies within the lakes.\n",
    "\n",
    "These datasets are loaded from NetCDF files and undergo basic preprocessing. \n"
   ]
  },
  {
   "cell_type": "code",
   "execution_count": 9,
   "id": "977c46d5-9ca6-4481-9531-e27c11b2ea1c",
   "metadata": {
    "tags": []
   },
   "outputs": [],
   "source": [
    "# Open the NetCDF files using xarray \n",
    "bathymetry_raw = xr.open_dataset(bathymetry_path)\n",
    "lakemask_raw = xr.open_dataset(mask_path)\n",
    "\n",
    "# Name the bathymetry variable (only needed if reading from GCP)\n",
    "#bathymetry_raw = bathymetry_raw.rename({'__xarray_dataarray_variable__': 'bathymetry'})"
   ]
  },
  {
   "cell_type": "markdown",
   "id": "ac7979c0-a43f-4f8c-a177-058d5dfbce6c",
   "metadata": {},
   "source": [
    "## Step 5: Initialize the Data Processor\n",
    "\n",
    "The **DataProcessor** from DeepSensor is used to preprocess and normalize the datasets, getting them ready for model training. It applies scaling and transformation techniques to the datasets, such as **min-max scaling**.\n",
    "\n",
    "We initialize the **DataProcessor** and apply it to the datasets. Below we load the `data_processor` that we fit in the last notebook. \n"
   ]
  },
  {
   "cell_type": "code",
   "execution_count": 10,
   "id": "b90b872b-ed35-41d0-ab92-777fe052197c",
   "metadata": {
    "tags": []
   },
   "outputs": [
    {
     "name": "stdout",
     "output_type": "stream",
     "text": [
      "DataProcessor with normalisation params:\n",
      "{'bathymetry': {'method': 'min_max',\n",
      "                'params': {'max': 316.62872313037894,\n",
      "                           'min': 9.999999999999998}},\n",
      " 'coords': {'time': {'name': 'time'},\n",
      "            'x1': {'map': (38.8749871947229, 55.4132976408956), 'name': 'lat'},\n",
      "            'x2': {'map': (-92.4199507342304, -75.8816402880577),\n",
      "                   'name': 'lon'}},\n",
      " 'mask': {'method': 'min_max', 'params': {'max': 1.0, 'min': 0.0}},\n",
      " 'sst': {'method': 'mean_std',\n",
      "         'params': {'mean': 7.873531818389893, 'std': 6.944828510284424}}}\n"
     ]
    }
   ],
   "source": [
    "data_processor = DataProcessor(deepsensor_folder)\n",
    "print(data_processor)"
   ]
  },
  {
   "cell_type": "code",
   "execution_count": 11,
   "id": "a75be246-925b-4c49-8734-f92742fd14f0",
   "metadata": {
    "tags": []
   },
   "outputs": [],
   "source": [
    "glsea = data_processor(glsea_raw)\n",
    "\n",
    "# process the bathymetry and lake\n",
    "aux_ds, lakemask = data_processor([bathymetry_raw, lakemask_raw], method=\"min_max\")"
   ]
  },
  {
   "cell_type": "code",
   "execution_count": 12,
   "id": "9194ff8c-4caa-47cc-b704-600e1f738206",
   "metadata": {},
   "outputs": [],
   "source": [
    "# Select a subset of the ice concentration data to compute normalization parameters\n",
    "#_ = data_processor(ice_concentration_raw.sel(time=slice(\"2009-01-01\", \"2009-12-31\")))\n",
    "\n",
    "# Now apply the normalization parameters to the full ice concentration dataset\n",
    "#ice_concentration = data_processor(ice_concentration_raw, method=\"min_max\")"
   ]
  },
  {
   "cell_type": "code",
   "execution_count": 13,
   "id": "415e8429-6c23-472d-b119-f336dd3d01ec",
   "metadata": {
    "tags": []
   },
   "outputs": [
    {
     "data": {
      "text/plain": [
       "{'coords': {'time': {'name': 'time'},\n",
       "  'x1': {'name': 'lat', 'map': (38.8749871947229, 55.4132976408956)},\n",
       "  'x2': {'name': 'lon', 'map': (-92.4199507342304, -75.8816402880577)}},\n",
       " 'sst': {'method': 'mean_std',\n",
       "  'params': {'mean': 7.873531818389893, 'std': 6.944828510284424}},\n",
       " 'bathymetry': {'method': 'min_max',\n",
       "  'params': {'min': 9.999999999999998, 'max': 316.62872313037894}},\n",
       " 'mask': {'method': 'min_max', 'params': {'min': 0.0, 'max': 1.0}}}"
      ]
     },
     "execution_count": 13,
     "metadata": {},
     "output_type": "execute_result"
    }
   ],
   "source": [
    "data_processor.config"
   ]
  },
  {
   "cell_type": "code",
   "execution_count": 14,
   "id": "dee20682-a5f3-4196-b06d-db17277ac04c",
   "metadata": {
    "tags": []
   },
   "outputs": [],
   "source": [
    "dates = pd.date_range(glsea_raw.time.values.min(), glsea_raw.time.values.max(), freq=\"D\")\n",
    "dates = pd.to_datetime(dates).normalize()  # This will set all times to 00:00:00"
   ]
  },
  {
   "cell_type": "code",
   "execution_count": 15,
   "id": "b0f11be2-b77e-4444-ba92-1563b29adf18",
   "metadata": {
    "tags": []
   },
   "outputs": [
    {
     "data": {
      "text/html": [
       "<div><svg style=\"position: absolute; width: 0; height: 0; overflow: hidden\">\n",
       "<defs>\n",
       "<symbol id=\"icon-database\" viewBox=\"0 0 32 32\">\n",
       "<path d=\"M16 0c-8.837 0-16 2.239-16 5v4c0 2.761 7.163 5 16 5s16-2.239 16-5v-4c0-2.761-7.163-5-16-5z\"></path>\n",
       "<path d=\"M16 17c-8.837 0-16-2.239-16-5v6c0 2.761 7.163 5 16 5s16-2.239 16-5v-6c0 2.761-7.163 5-16 5z\"></path>\n",
       "<path d=\"M16 26c-8.837 0-16-2.239-16-5v6c0 2.761 7.163 5 16 5s16-2.239 16-5v-6c0 2.761-7.163 5-16 5z\"></path>\n",
       "</symbol>\n",
       "<symbol id=\"icon-file-text2\" viewBox=\"0 0 32 32\">\n",
       "<path d=\"M28.681 7.159c-0.694-0.947-1.662-2.053-2.724-3.116s-2.169-2.030-3.116-2.724c-1.612-1.182-2.393-1.319-2.841-1.319h-15.5c-1.378 0-2.5 1.121-2.5 2.5v27c0 1.378 1.122 2.5 2.5 2.5h23c1.378 0 2.5-1.122 2.5-2.5v-19.5c0-0.448-0.137-1.23-1.319-2.841zM24.543 5.457c0.959 0.959 1.712 1.825 2.268 2.543h-4.811v-4.811c0.718 0.556 1.584 1.309 2.543 2.268zM28 29.5c0 0.271-0.229 0.5-0.5 0.5h-23c-0.271 0-0.5-0.229-0.5-0.5v-27c0-0.271 0.229-0.5 0.5-0.5 0 0 15.499-0 15.5 0v7c0 0.552 0.448 1 1 1h7v19.5z\"></path>\n",
       "<path d=\"M23 26h-14c-0.552 0-1-0.448-1-1s0.448-1 1-1h14c0.552 0 1 0.448 1 1s-0.448 1-1 1z\"></path>\n",
       "<path d=\"M23 22h-14c-0.552 0-1-0.448-1-1s0.448-1 1-1h14c0.552 0 1 0.448 1 1s-0.448 1-1 1z\"></path>\n",
       "<path d=\"M23 18h-14c-0.552 0-1-0.448-1-1s0.448-1 1-1h14c0.552 0 1 0.448 1 1s-0.448 1-1 1z\"></path>\n",
       "</symbol>\n",
       "</defs>\n",
       "</svg>\n",
       "<style>/* CSS stylesheet for displaying xarray objects in jupyterlab.\n",
       " *\n",
       " */\n",
       "\n",
       ":root {\n",
       "  --xr-font-color0: var(--jp-content-font-color0, rgba(0, 0, 0, 1));\n",
       "  --xr-font-color2: var(--jp-content-font-color2, rgba(0, 0, 0, 0.54));\n",
       "  --xr-font-color3: var(--jp-content-font-color3, rgba(0, 0, 0, 0.38));\n",
       "  --xr-border-color: var(--jp-border-color2, #e0e0e0);\n",
       "  --xr-disabled-color: var(--jp-layout-color3, #bdbdbd);\n",
       "  --xr-background-color: var(--jp-layout-color0, white);\n",
       "  --xr-background-color-row-even: var(--jp-layout-color1, white);\n",
       "  --xr-background-color-row-odd: var(--jp-layout-color2, #eeeeee);\n",
       "}\n",
       "\n",
       "html[theme=\"dark\"],\n",
       "html[data-theme=\"dark\"],\n",
       "body[data-theme=\"dark\"],\n",
       "body.vscode-dark {\n",
       "  --xr-font-color0: rgba(255, 255, 255, 1);\n",
       "  --xr-font-color2: rgba(255, 255, 255, 0.54);\n",
       "  --xr-font-color3: rgba(255, 255, 255, 0.38);\n",
       "  --xr-border-color: #1f1f1f;\n",
       "  --xr-disabled-color: #515151;\n",
       "  --xr-background-color: #111111;\n",
       "  --xr-background-color-row-even: #111111;\n",
       "  --xr-background-color-row-odd: #313131;\n",
       "}\n",
       "\n",
       ".xr-wrap {\n",
       "  display: block !important;\n",
       "  min-width: 300px;\n",
       "  max-width: 700px;\n",
       "}\n",
       "\n",
       ".xr-text-repr-fallback {\n",
       "  /* fallback to plain text repr when CSS is not injected (untrusted notebook) */\n",
       "  display: none;\n",
       "}\n",
       "\n",
       ".xr-header {\n",
       "  padding-top: 6px;\n",
       "  padding-bottom: 6px;\n",
       "  margin-bottom: 4px;\n",
       "  border-bottom: solid 1px var(--xr-border-color);\n",
       "}\n",
       "\n",
       ".xr-header > div,\n",
       ".xr-header > ul {\n",
       "  display: inline;\n",
       "  margin-top: 0;\n",
       "  margin-bottom: 0;\n",
       "}\n",
       "\n",
       ".xr-obj-type,\n",
       ".xr-array-name {\n",
       "  margin-left: 2px;\n",
       "  margin-right: 10px;\n",
       "}\n",
       "\n",
       ".xr-obj-type {\n",
       "  color: var(--xr-font-color2);\n",
       "}\n",
       "\n",
       ".xr-sections {\n",
       "  padding-left: 0 !important;\n",
       "  display: grid;\n",
       "  grid-template-columns: 150px auto auto 1fr 0 20px 0 20px;\n",
       "}\n",
       "\n",
       ".xr-section-item {\n",
       "  display: contents;\n",
       "}\n",
       "\n",
       ".xr-section-item input {\n",
       "  display: inline-block;\n",
       "  opacity: 0;\n",
       "  height: 0;\n",
       "}\n",
       "\n",
       ".xr-section-item input + label {\n",
       "  color: var(--xr-disabled-color);\n",
       "}\n",
       "\n",
       ".xr-section-item input:enabled + label {\n",
       "  cursor: pointer;\n",
       "  color: var(--xr-font-color2);\n",
       "}\n",
       "\n",
       ".xr-section-item input:focus + label {\n",
       "  border: 2px solid var(--xr-font-color0);\n",
       "}\n",
       "\n",
       ".xr-section-item input:enabled + label:hover {\n",
       "  color: var(--xr-font-color0);\n",
       "}\n",
       "\n",
       ".xr-section-summary {\n",
       "  grid-column: 1;\n",
       "  color: var(--xr-font-color2);\n",
       "  font-weight: 500;\n",
       "}\n",
       "\n",
       ".xr-section-summary > span {\n",
       "  display: inline-block;\n",
       "  padding-left: 0.5em;\n",
       "}\n",
       "\n",
       ".xr-section-summary-in:disabled + label {\n",
       "  color: var(--xr-font-color2);\n",
       "}\n",
       "\n",
       ".xr-section-summary-in + label:before {\n",
       "  display: inline-block;\n",
       "  content: \"►\";\n",
       "  font-size: 11px;\n",
       "  width: 15px;\n",
       "  text-align: center;\n",
       "}\n",
       "\n",
       ".xr-section-summary-in:disabled + label:before {\n",
       "  color: var(--xr-disabled-color);\n",
       "}\n",
       "\n",
       ".xr-section-summary-in:checked + label:before {\n",
       "  content: \"▼\";\n",
       "}\n",
       "\n",
       ".xr-section-summary-in:checked + label > span {\n",
       "  display: none;\n",
       "}\n",
       "\n",
       ".xr-section-summary,\n",
       ".xr-section-inline-details {\n",
       "  padding-top: 4px;\n",
       "  padding-bottom: 4px;\n",
       "}\n",
       "\n",
       ".xr-section-inline-details {\n",
       "  grid-column: 2 / -1;\n",
       "}\n",
       "\n",
       ".xr-section-details {\n",
       "  display: none;\n",
       "  grid-column: 1 / -1;\n",
       "  margin-bottom: 5px;\n",
       "}\n",
       "\n",
       ".xr-section-summary-in:checked ~ .xr-section-details {\n",
       "  display: contents;\n",
       "}\n",
       "\n",
       ".xr-array-wrap {\n",
       "  grid-column: 1 / -1;\n",
       "  display: grid;\n",
       "  grid-template-columns: 20px auto;\n",
       "}\n",
       "\n",
       ".xr-array-wrap > label {\n",
       "  grid-column: 1;\n",
       "  vertical-align: top;\n",
       "}\n",
       "\n",
       ".xr-preview {\n",
       "  color: var(--xr-font-color3);\n",
       "}\n",
       "\n",
       ".xr-array-preview,\n",
       ".xr-array-data {\n",
       "  padding: 0 5px !important;\n",
       "  grid-column: 2;\n",
       "}\n",
       "\n",
       ".xr-array-data,\n",
       ".xr-array-in:checked ~ .xr-array-preview {\n",
       "  display: none;\n",
       "}\n",
       "\n",
       ".xr-array-in:checked ~ .xr-array-data,\n",
       ".xr-array-preview {\n",
       "  display: inline-block;\n",
       "}\n",
       "\n",
       ".xr-dim-list {\n",
       "  display: inline-block !important;\n",
       "  list-style: none;\n",
       "  padding: 0 !important;\n",
       "  margin: 0;\n",
       "}\n",
       "\n",
       ".xr-dim-list li {\n",
       "  display: inline-block;\n",
       "  padding: 0;\n",
       "  margin: 0;\n",
       "}\n",
       "\n",
       ".xr-dim-list:before {\n",
       "  content: \"(\";\n",
       "}\n",
       "\n",
       ".xr-dim-list:after {\n",
       "  content: \")\";\n",
       "}\n",
       "\n",
       ".xr-dim-list li:not(:last-child):after {\n",
       "  content: \",\";\n",
       "  padding-right: 5px;\n",
       "}\n",
       "\n",
       ".xr-has-index {\n",
       "  font-weight: bold;\n",
       "}\n",
       "\n",
       ".xr-var-list,\n",
       ".xr-var-item {\n",
       "  display: contents;\n",
       "}\n",
       "\n",
       ".xr-var-item > div,\n",
       ".xr-var-item label,\n",
       ".xr-var-item > .xr-var-name span {\n",
       "  background-color: var(--xr-background-color-row-even);\n",
       "  margin-bottom: 0;\n",
       "}\n",
       "\n",
       ".xr-var-item > .xr-var-name:hover span {\n",
       "  padding-right: 5px;\n",
       "}\n",
       "\n",
       ".xr-var-list > li:nth-child(odd) > div,\n",
       ".xr-var-list > li:nth-child(odd) > label,\n",
       ".xr-var-list > li:nth-child(odd) > .xr-var-name span {\n",
       "  background-color: var(--xr-background-color-row-odd);\n",
       "}\n",
       "\n",
       ".xr-var-name {\n",
       "  grid-column: 1;\n",
       "}\n",
       "\n",
       ".xr-var-dims {\n",
       "  grid-column: 2;\n",
       "}\n",
       "\n",
       ".xr-var-dtype {\n",
       "  grid-column: 3;\n",
       "  text-align: right;\n",
       "  color: var(--xr-font-color2);\n",
       "}\n",
       "\n",
       ".xr-var-preview {\n",
       "  grid-column: 4;\n",
       "}\n",
       "\n",
       ".xr-index-preview {\n",
       "  grid-column: 2 / 5;\n",
       "  color: var(--xr-font-color2);\n",
       "}\n",
       "\n",
       ".xr-var-name,\n",
       ".xr-var-dims,\n",
       ".xr-var-dtype,\n",
       ".xr-preview,\n",
       ".xr-attrs dt {\n",
       "  white-space: nowrap;\n",
       "  overflow: hidden;\n",
       "  text-overflow: ellipsis;\n",
       "  padding-right: 10px;\n",
       "}\n",
       "\n",
       ".xr-var-name:hover,\n",
       ".xr-var-dims:hover,\n",
       ".xr-var-dtype:hover,\n",
       ".xr-attrs dt:hover {\n",
       "  overflow: visible;\n",
       "  width: auto;\n",
       "  z-index: 1;\n",
       "}\n",
       "\n",
       ".xr-var-attrs,\n",
       ".xr-var-data,\n",
       ".xr-index-data {\n",
       "  display: none;\n",
       "  background-color: var(--xr-background-color) !important;\n",
       "  padding-bottom: 5px !important;\n",
       "}\n",
       "\n",
       ".xr-var-attrs-in:checked ~ .xr-var-attrs,\n",
       ".xr-var-data-in:checked ~ .xr-var-data,\n",
       ".xr-index-data-in:checked ~ .xr-index-data {\n",
       "  display: block;\n",
       "}\n",
       "\n",
       ".xr-var-data > table {\n",
       "  float: right;\n",
       "}\n",
       "\n",
       ".xr-var-name span,\n",
       ".xr-var-data,\n",
       ".xr-index-name div,\n",
       ".xr-index-data,\n",
       ".xr-attrs {\n",
       "  padding-left: 25px !important;\n",
       "}\n",
       "\n",
       ".xr-attrs,\n",
       ".xr-var-attrs,\n",
       ".xr-var-data,\n",
       ".xr-index-data {\n",
       "  grid-column: 1 / -1;\n",
       "}\n",
       "\n",
       "dl.xr-attrs {\n",
       "  padding: 0;\n",
       "  margin: 0;\n",
       "  display: grid;\n",
       "  grid-template-columns: 125px auto;\n",
       "}\n",
       "\n",
       ".xr-attrs dt,\n",
       ".xr-attrs dd {\n",
       "  padding: 0;\n",
       "  margin: 0;\n",
       "  float: left;\n",
       "  padding-right: 10px;\n",
       "  width: auto;\n",
       "}\n",
       "\n",
       ".xr-attrs dt {\n",
       "  font-weight: normal;\n",
       "  grid-column: 1;\n",
       "}\n",
       "\n",
       ".xr-attrs dt:hover span {\n",
       "  display: inline-block;\n",
       "  background: var(--xr-background-color);\n",
       "  padding-right: 10px;\n",
       "}\n",
       "\n",
       ".xr-attrs dd {\n",
       "  grid-column: 2;\n",
       "  white-space: pre-wrap;\n",
       "  word-break: break-all;\n",
       "}\n",
       "\n",
       ".xr-icon-database,\n",
       ".xr-icon-file-text2,\n",
       ".xr-no-icon {\n",
       "  display: inline-block;\n",
       "  vertical-align: middle;\n",
       "  width: 1em;\n",
       "  height: 1.5em !important;\n",
       "  stroke-width: 0;\n",
       "  stroke: currentColor;\n",
       "  fill: currentColor;\n",
       "}\n",
       "</style><pre class='xr-text-repr-fallback'>&lt;xarray.Dataset&gt; Size: 941kB\n",
       "Dimensions:     (x1: 240, x2: 360, time: 10227)\n",
       "Coordinates:\n",
       "  * x1          (x1) float64 2kB 0.1523 0.1542 0.1561 ... 0.5958 0.5976 0.5995\n",
       "  * x2          (x2) float64 3kB 0.02107 0.02375 0.02642 ... 0.9791 0.9818\n",
       "  * time        (time) datetime64[s] 82kB 1995-01-01 1995-01-02 ... 2022-12-31\n",
       "Data variables:\n",
       "    bathymetry  (x1, x2) float64 691kB nan nan nan nan nan ... nan nan nan nan\n",
       "    cos_D       (time) float64 82kB 0.9999 0.9994 0.9987 ... 0.9993 0.9998 1.0\n",
       "    sin_D       (time) float64 82kB 0.0172 0.0344 0.05158 ... -0.0215 -0.004301</pre><div class='xr-wrap' style='display:none'><div class='xr-header'><div class='xr-obj-type'>xarray.Dataset</div></div><ul class='xr-sections'><li class='xr-section-item'><input id='section-b5193349-5206-4b48-895a-c07b4edb85ca' class='xr-section-summary-in' type='checkbox' disabled ><label for='section-b5193349-5206-4b48-895a-c07b4edb85ca' class='xr-section-summary'  title='Expand/collapse section'>Dimensions:</label><div class='xr-section-inline-details'><ul class='xr-dim-list'><li><span class='xr-has-index'>x1</span>: 240</li><li><span class='xr-has-index'>x2</span>: 360</li><li><span class='xr-has-index'>time</span>: 10227</li></ul></div><div class='xr-section-details'></div></li><li class='xr-section-item'><input id='section-d6f192f7-db93-490e-98ed-3711986d6de1' class='xr-section-summary-in' type='checkbox'  checked><label for='section-d6f192f7-db93-490e-98ed-3711986d6de1' class='xr-section-summary' >Coordinates: <span>(3)</span></label><div class='xr-section-inline-details'></div><div class='xr-section-details'><ul class='xr-var-list'><li class='xr-var-item'><div class='xr-var-name'><span class='xr-has-index'>x1</span></div><div class='xr-var-dims'>(x1)</div><div class='xr-var-dtype'>float64</div><div class='xr-var-preview xr-preview'>0.1523 0.1542 ... 0.5976 0.5995</div><input id='attrs-68ab09d4-d17e-4bdc-a740-9c84a333f652' class='xr-var-attrs-in' type='checkbox' disabled><label for='attrs-68ab09d4-d17e-4bdc-a740-9c84a333f652' title='Show/Hide attributes'><svg class='icon xr-icon-file-text2'><use xlink:href='#icon-file-text2'></use></svg></label><input id='data-0be234d0-2cb2-457c-9f9a-032732b4b987' class='xr-var-data-in' type='checkbox'><label for='data-0be234d0-2cb2-457c-9f9a-032732b4b987' title='Show/Hide data repr'><svg class='icon xr-icon-database'><use xlink:href='#icon-database'></use></svg></label><div class='xr-var-attrs'><dl class='xr-attrs'></dl></div><div class='xr-var-data'><pre>array([0.152308, 0.154179, 0.15605 , ..., 0.595755, 0.597626, 0.599497])</pre></div></li><li class='xr-var-item'><div class='xr-var-name'><span class='xr-has-index'>x2</span></div><div class='xr-var-dims'>(x2)</div><div class='xr-var-dtype'>float64</div><div class='xr-var-preview xr-preview'>0.02107 0.02375 ... 0.9791 0.9818</div><input id='attrs-14d838a7-707a-43f0-863e-4ecf47a6f8dc' class='xr-var-attrs-in' type='checkbox' disabled><label for='attrs-14d838a7-707a-43f0-863e-4ecf47a6f8dc' title='Show/Hide attributes'><svg class='icon xr-icon-file-text2'><use xlink:href='#icon-file-text2'></use></svg></label><input id='data-17616bed-73a1-446e-9db6-356985e4f155' class='xr-var-data-in' type='checkbox'><label for='data-17616bed-73a1-446e-9db6-356985e4f155' title='Show/Hide data repr'><svg class='icon xr-icon-database'><use xlink:href='#icon-database'></use></svg></label><div class='xr-var-attrs'><dl class='xr-attrs'></dl></div><div class='xr-var-data'><pre>array([0.021069, 0.023745, 0.026421, ..., 0.976456, 0.979132, 0.981809])</pre></div></li><li class='xr-var-item'><div class='xr-var-name'><span class='xr-has-index'>time</span></div><div class='xr-var-dims'>(time)</div><div class='xr-var-dtype'>datetime64[s]</div><div class='xr-var-preview xr-preview'>1995-01-01 ... 2022-12-31</div><input id='attrs-321026f4-7648-476b-9418-1703ddd4c819' class='xr-var-attrs-in' type='checkbox' disabled><label for='attrs-321026f4-7648-476b-9418-1703ddd4c819' title='Show/Hide attributes'><svg class='icon xr-icon-file-text2'><use xlink:href='#icon-file-text2'></use></svg></label><input id='data-d6b71cb4-47e7-4649-a569-531b783aed12' class='xr-var-data-in' type='checkbox'><label for='data-d6b71cb4-47e7-4649-a569-531b783aed12' title='Show/Hide data repr'><svg class='icon xr-icon-database'><use xlink:href='#icon-database'></use></svg></label><div class='xr-var-attrs'><dl class='xr-attrs'></dl></div><div class='xr-var-data'><pre>array([&#x27;1995-01-01T00:00:00&#x27;, &#x27;1995-01-02T00:00:00&#x27;, &#x27;1995-01-03T00:00:00&#x27;,\n",
       "       ..., &#x27;2022-12-29T00:00:00&#x27;, &#x27;2022-12-30T00:00:00&#x27;,\n",
       "       &#x27;2022-12-31T00:00:00&#x27;], dtype=&#x27;datetime64[s]&#x27;)</pre></div></li></ul></div></li><li class='xr-section-item'><input id='section-0f195d0c-f367-4a7f-a908-ec580db2cbcb' class='xr-section-summary-in' type='checkbox'  checked><label for='section-0f195d0c-f367-4a7f-a908-ec580db2cbcb' class='xr-section-summary' >Data variables: <span>(3)</span></label><div class='xr-section-inline-details'></div><div class='xr-section-details'><ul class='xr-var-list'><li class='xr-var-item'><div class='xr-var-name'><span>bathymetry</span></div><div class='xr-var-dims'>(x1, x2)</div><div class='xr-var-dtype'>float64</div><div class='xr-var-preview xr-preview'>nan nan nan nan ... nan nan nan nan</div><input id='attrs-7ee667f2-ed0c-4261-8f27-61e4136adb55' class='xr-var-attrs-in' type='checkbox' disabled><label for='attrs-7ee667f2-ed0c-4261-8f27-61e4136adb55' title='Show/Hide attributes'><svg class='icon xr-icon-file-text2'><use xlink:href='#icon-file-text2'></use></svg></label><input id='data-4112d7e3-adcb-471b-a3eb-bdb97ce802e8' class='xr-var-data-in' type='checkbox'><label for='data-4112d7e3-adcb-471b-a3eb-bdb97ce802e8' title='Show/Hide data repr'><svg class='icon xr-icon-database'><use xlink:href='#icon-database'></use></svg></label><div class='xr-var-attrs'><dl class='xr-attrs'></dl></div><div class='xr-var-data'><pre>array([[nan, nan, nan, ..., nan, nan, nan],\n",
       "       [nan, nan, nan, ..., nan, nan, nan],\n",
       "       [nan, nan, nan, ..., nan, nan, nan],\n",
       "       ...,\n",
       "       [nan, nan, nan, ..., nan, nan, nan],\n",
       "       [nan, nan, nan, ..., nan, nan, nan],\n",
       "       [nan, nan, nan, ..., nan, nan, nan]])</pre></div></li><li class='xr-var-item'><div class='xr-var-name'><span>cos_D</span></div><div class='xr-var-dims'>(time)</div><div class='xr-var-dtype'>float64</div><div class='xr-var-preview xr-preview'>0.9999 0.9994 0.9987 ... 0.9998 1.0</div><input id='attrs-8805a99c-4c1a-44da-88da-6b5dcee93872' class='xr-var-attrs-in' type='checkbox' disabled><label for='attrs-8805a99c-4c1a-44da-88da-6b5dcee93872' title='Show/Hide attributes'><svg class='icon xr-icon-file-text2'><use xlink:href='#icon-file-text2'></use></svg></label><input id='data-ac4d573e-fbf8-4b11-8ce2-ccffb2615547' class='xr-var-data-in' type='checkbox'><label for='data-ac4d573e-fbf8-4b11-8ce2-ccffb2615547' title='Show/Hide data repr'><svg class='icon xr-icon-database'><use xlink:href='#icon-database'></use></svg></label><div class='xr-var-attrs'><dl class='xr-attrs'></dl></div><div class='xr-var-data'><pre>array([0.999852, 0.999408, 0.998669, ..., 0.999251, 0.999769, 0.999991])</pre></div></li><li class='xr-var-item'><div class='xr-var-name'><span>sin_D</span></div><div class='xr-var-dims'>(time)</div><div class='xr-var-dtype'>float64</div><div class='xr-var-preview xr-preview'>0.0172 0.0344 ... -0.0215 -0.004301</div><input id='attrs-85a8af55-5055-4688-9125-c805c921382c' class='xr-var-attrs-in' type='checkbox' disabled><label for='attrs-85a8af55-5055-4688-9125-c805c921382c' title='Show/Hide attributes'><svg class='icon xr-icon-file-text2'><use xlink:href='#icon-file-text2'></use></svg></label><input id='data-b7f71297-5ca4-4397-95c6-9171113a8c6d' class='xr-var-data-in' type='checkbox'><label for='data-b7f71297-5ca4-4397-95c6-9171113a8c6d' title='Show/Hide data repr'><svg class='icon xr-icon-database'><use xlink:href='#icon-database'></use></svg></label><div class='xr-var-attrs'><dl class='xr-attrs'></dl></div><div class='xr-var-data'><pre>array([ 0.017202,  0.034398,  0.051584, ..., -0.038696, -0.021501, -0.004301])</pre></div></li></ul></div></li><li class='xr-section-item'><input id='section-2b1fcff8-6b8f-4697-9a25-2aa5024084fd' class='xr-section-summary-in' type='checkbox'  ><label for='section-2b1fcff8-6b8f-4697-9a25-2aa5024084fd' class='xr-section-summary' >Indexes: <span>(3)</span></label><div class='xr-section-inline-details'></div><div class='xr-section-details'><ul class='xr-var-list'><li class='xr-var-item'><div class='xr-index-name'><div>x1</div></div><div class='xr-index-preview'>PandasIndex</div><input type='checkbox' disabled/><label></label><input id='index-ae6bffd4-fc49-489e-9266-87aefa693ff5' class='xr-index-data-in' type='checkbox'/><label for='index-ae6bffd4-fc49-489e-9266-87aefa693ff5' title='Show/Hide index repr'><svg class='icon xr-icon-database'><use xlink:href='#icon-database'></use></svg></label><div class='xr-index-data'><pre>PandasIndex(Index([0.15230785746987846, 0.15417894344715513, 0.15605002942443139,\n",
       "       0.15792111540170806, 0.15979220137898476,   0.161663287356261,\n",
       "       0.16353437333353768, 0.16540545931081438, 0.16727654528809105,\n",
       "        0.1691476312653673,\n",
       "       ...\n",
       "        0.5826576322434853,  0.5845287182207616,  0.5863998041980383,\n",
       "         0.588270890175315,  0.5901419761525912,  0.5920130621298679,\n",
       "        0.5938841481071446,  0.5957552340844209,  0.5976263200616976,\n",
       "        0.5994974060389742],\n",
       "      dtype=&#x27;float64&#x27;, name=&#x27;x1&#x27;, length=240))</pre></div></li><li class='xr-var-item'><div class='xr-index-name'><div>x2</div></div><div class='xr-index-preview'>PandasIndex</div><input type='checkbox' disabled/><label></label><input id='index-5aaf9339-8374-46dd-8f22-e1a48b33997c' class='xr-index-data-in' type='checkbox'/><label for='index-5aaf9339-8374-46dd-8f22-e1a48b33997c' title='Show/Hide index repr'><svg class='icon xr-icon-database'><use xlink:href='#icon-database'></use></svg></label><div class='xr-index-data'><pre>PandasIndex(Index([0.021069144264622287,  0.02374529876968044,  0.02642145327473859,\n",
       "        0.02909760777979588,  0.03177376228485403,  0.03444991678991218,\n",
       "       0.037126071294970336, 0.039802225800027624,  0.04247838030508578,\n",
       "        0.04515453481014393,\n",
       "       ...\n",
       "         0.9577232210349057,   0.9603993755399638,    0.963075530045022,\n",
       "         0.9657516845500801,   0.9684278390551374,   0.9711039935601956,\n",
       "         0.9737801480652537,    0.976456302570311,   0.9791324570753691,\n",
       "         0.9818086115804273],\n",
       "      dtype=&#x27;float64&#x27;, name=&#x27;x2&#x27;, length=360))</pre></div></li><li class='xr-var-item'><div class='xr-index-name'><div>time</div></div><div class='xr-index-preview'>PandasIndex</div><input type='checkbox' disabled/><label></label><input id='index-7e1c11aa-67a7-4f50-b32e-a407327705a0' class='xr-index-data-in' type='checkbox'/><label for='index-7e1c11aa-67a7-4f50-b32e-a407327705a0' title='Show/Hide index repr'><svg class='icon xr-icon-database'><use xlink:href='#icon-database'></use></svg></label><div class='xr-index-data'><pre>PandasIndex(DatetimeIndex([&#x27;1995-01-01&#x27;, &#x27;1995-01-02&#x27;, &#x27;1995-01-03&#x27;, &#x27;1995-01-04&#x27;,\n",
       "               &#x27;1995-01-05&#x27;, &#x27;1995-01-06&#x27;, &#x27;1995-01-07&#x27;, &#x27;1995-01-08&#x27;,\n",
       "               &#x27;1995-01-09&#x27;, &#x27;1995-01-10&#x27;,\n",
       "               ...\n",
       "               &#x27;2022-12-22&#x27;, &#x27;2022-12-23&#x27;, &#x27;2022-12-24&#x27;, &#x27;2022-12-25&#x27;,\n",
       "               &#x27;2022-12-26&#x27;, &#x27;2022-12-27&#x27;, &#x27;2022-12-28&#x27;, &#x27;2022-12-29&#x27;,\n",
       "               &#x27;2022-12-30&#x27;, &#x27;2022-12-31&#x27;],\n",
       "              dtype=&#x27;datetime64[s]&#x27;, name=&#x27;time&#x27;, length=10227, freq=None))</pre></div></li></ul></div></li><li class='xr-section-item'><input id='section-6d81d602-a7e1-444f-b3b1-e43f26d78ce7' class='xr-section-summary-in' type='checkbox' disabled ><label for='section-6d81d602-a7e1-444f-b3b1-e43f26d78ce7' class='xr-section-summary'  title='Expand/collapse section'>Attributes: <span>(0)</span></label><div class='xr-section-inline-details'></div><div class='xr-section-details'><dl class='xr-attrs'></dl></div></li></ul></div></div>"
      ],
      "text/plain": [
       "<xarray.Dataset> Size: 941kB\n",
       "Dimensions:     (x1: 240, x2: 360, time: 10227)\n",
       "Coordinates:\n",
       "  * x1          (x1) float64 2kB 0.1523 0.1542 0.1561 ... 0.5958 0.5976 0.5995\n",
       "  * x2          (x2) float64 3kB 0.02107 0.02375 0.02642 ... 0.9791 0.9818\n",
       "  * time        (time) datetime64[s] 82kB 1995-01-01 1995-01-02 ... 2022-12-31\n",
       "Data variables:\n",
       "    bathymetry  (x1, x2) float64 691kB nan nan nan nan nan ... nan nan nan nan\n",
       "    cos_D       (time) float64 82kB 0.9999 0.9994 0.9987 ... 0.9993 0.9998 1.0\n",
       "    sin_D       (time) float64 82kB 0.0172 0.0344 0.05158 ... -0.0215 -0.004301"
      ]
     },
     "execution_count": 15,
     "metadata": {},
     "output_type": "execute_result"
    }
   ],
   "source": [
    "doy_ds = construct_circ_time_ds(dates, freq=\"D\")\n",
    "aux_ds[\"cos_D\"] = standardize_dates(doy_ds[\"cos_D\"])\n",
    "aux_ds[\"sin_D\"] = standardize_dates(doy_ds[\"sin_D\"])\n",
    "aux_ds"
   ]
  },
  {
   "cell_type": "markdown",
   "id": "b38acbd3-de41-445d-a120-ed86dda5252a",
   "metadata": {
    "tags": []
   },
   "source": [
    "## Step 6: Generating Random Coordinates within the Lake Mask\n",
    "\n",
    "We generate random coordinates within the **lake mask**. These coordinates represent sampling points inside the Great Lakes region. The **DataProcessor** is used to normalize these coordinates, ensuring that they are suitable for training the model.\n",
    "\n",
    "We will generate `N` random coordinates and plot them to visualize their distribution within the lake.\n"
   ]
  },
  {
   "cell_type": "code",
   "execution_count": 16,
   "id": "3fe8789c-a205-4d66-a597-ed123cdeb38c",
   "metadata": {
    "tags": []
   },
   "outputs": [],
   "source": [
    "# Example usage\n",
    "N = 100  # Number of random points\n",
    "random_lake_points = generate_random_coordinates(lakemask_raw, N, data_processor)"
   ]
  },
  {
   "cell_type": "code",
   "execution_count": 17,
   "id": "95cc0577-5a36-45f4-b4e8-2a849b90f47a",
   "metadata": {
    "tags": []
   },
   "outputs": [
    {
     "data": {
      "image/png": "[encoded data removed]",
      "text/plain": [
       "<Figure size 800x600 with 1 Axes>"
      ]
     },
     "metadata": {},
     "output_type": "display_data"
    }
   ],
   "source": [
    "import matplotlib.pyplot as plt\n",
    "\n",
    "# Assuming random_coords is the (2, N) array from the previous step\n",
    "latitudes = random_lake_points[0, :]\n",
    "longitudes = random_lake_points[1, :]\n",
    "\n",
    "# Create a scatter plot\n",
    "plt.figure(figsize=(8, 6))\n",
    "plt.scatter(longitudes, latitudes, color='blue', alpha=0.5, s=10)\n",
    "plt.title(\"Scatter plot of N Random Coordinates within Lake Mask\")\n",
    "plt.xlabel(\"Longitude\")\n",
    "plt.ylabel(\"Latitude\")\n",
    "plt.show()\n"
   ]
  },
  {
   "cell_type": "markdown",
   "id": "07199e49-9de7-4d81-8e17-8bdcafb2049c",
   "metadata": {},
   "source": [
    "## Step 7: Task Generation for Model Training\n",
    "\n",
    "In this section, we use **TaskLoader** to generate tasks. A task consists of context data (input features like sea surface temperature, bathymetry, etc.) and target data (what we want the model to predict, such as ice concentration).\n",
    "\n",
    "We generate tasks for training by sampling from the datasets. Each task represents a training example that the model will learn from.\n"
   ]
  },
  {
   "cell_type": "code",
   "execution_count": 34,
   "id": "182c1497-16fe-49eb-8a29-494e4b7ff7cf",
   "metadata": {
    "tags": []
   },
   "outputs": [
    {
     "data": {
      "text/plain": [
       "TaskLoader(3 context sets, 1 target sets)\n",
       "Context variable IDs: (('sst',), ('bathymetry', 'cos_D', 'sin_D'), ('mask',))\n",
       "Target variable IDs: (('sst',),)\n",
       "\n",
       "Context data dimensions: (1, 3, 1)\n",
       "Target data dimensions: (1,)"
      ]
     },
     "execution_count": 34,
     "metadata": {},
     "output_type": "execute_result"
    }
   ],
   "source": [
    "task_loader = TaskLoader(context=[glsea, aux_ds, lakemask], target=glsea)\n",
    "task_loader\n",
    "#task_loader = TaskLoader(context=glsea, target=glsea)"
   ]
  },
  {
   "cell_type": "code",
   "execution_count": 19,
   "id": "bee4c806-0add-476d-8c6e-91ac30828e3f",
   "metadata": {
    "tags": []
   },
   "outputs": [],
   "source": [
    "from tqdm import tqdm\n",
    "\n",
    "# Define how Tasks are generated\n",
    "def gen_tasks(dates, progress=True):\n",
    "    tasks = []\n",
    "    for date in tqdm(dates, disable=not progress):\n",
    "        # Create task with context and target sampling\n",
    "        task = task_loader(date, context_sampling=random_lake_points, target_sampling=\"all\")\n",
    "        \n",
    "        # Remove NaNs from the target data (Y_t) in the task \n",
    "        # Target data cannot have NaNs\n",
    "        task = task.remove_target_nans()\n",
    "        \n",
    "        # Append the processed task to the list\n",
    "        tasks.append(task)\n",
    "        \n",
    "    return tasks"
   ]
  },
  {
   "cell_type": "code",
   "execution_count": 20,
   "id": "c63a0895-1ae8-46c6-9d6f-812dd2c64149",
   "metadata": {
    "tags": []
   },
   "outputs": [
    {
     "name": "stderr",
     "output_type": "stream",
     "text": [
      "100%|██████████| 13/13 [00:42<00:00,  3.28s/it]\n",
      "100%|██████████| 13/13 [00:42<00:00,  3.24s/it]\n"
     ]
    }
   ],
   "source": [
    "# Generate training and validation tasks\n",
    "train_dates = pd.date_range(train_range[0], train_range[1])[::date_subsample_factor]\n",
    "val_dates = pd.date_range(val_range[0], val_range[1])[::date_subsample_factor]\n",
    "\n",
    "# Standardize the dates so they are datetime64[D] (date only, no time)\n",
    "train_dates = pd.to_datetime(train_dates).normalize()  # This will set the time to 00:00:00\n",
    "val_dates = pd.to_datetime(val_dates).normalize()      # This will set the time to 00:00:00\n",
    "\n",
    "# Generate the tasks\n",
    "train_tasks = gen_tasks(train_dates)\n",
    "val_tasks = gen_tasks(val_dates)"
   ]
  },
  {
   "cell_type": "code",
   "execution_count": 22,
   "id": "6597325e-44ff-4ec2-b1e7-49f52ac6e666",
   "metadata": {
    "tags": []
   },
   "outputs": [
    {
     "data": {
      "text/plain": [
       "time: Timestamp/2009-10-28 00:00:00\n",
       "ops: ['str/target_nans_removed']\n",
       "X_c: ['ndarray/float32/(2, 100)', 'ndarray/float32/(2, 100)', 'ndarray/float32/(2, 100)']\n",
       "Y_c: ['ndarray/float32/(1, 100)', 'ndarray/float32/(3, 100)', 'ndarray/float32/(1, 100)']\n",
       "X_t: ['ndarray/float32/(2, 139599)']\n",
       "Y_t: ['ndarray/float32/(1, 139599)']"
      ]
     },
     "execution_count": 22,
     "metadata": {},
     "output_type": "execute_result"
    }
   ],
   "source": [
    "train_tasks[10]"
   ]
  },
  {
   "cell_type": "code",
   "execution_count": 23,
   "id": "76976714-6f12-4190-9b80-81ef40ba992b",
   "metadata": {
    "tags": []
   },
   "outputs": [
    {
     "data": {
      "image/png": "[encoded data removed]",
      "text/plain": [
       "<Figure size 1200x900 with 18 Axes>"
      ]
     },
     "metadata": {},
     "output_type": "display_data"
    }
   ],
   "source": [
    "fig = deepsensor.plot.task(val_tasks[2], task_loader)\n",
    "plt.show()"
   ]
  },
  {
   "cell_type": "markdown",
   "id": "51021897-2922-4b25-abe1-2a5d765a21a6",
   "metadata": {},
   "source": [
    "## Step 8: Model Setup and Training\n",
    "\n",
    "We now set up the **ConvNP** model, a neural process-based model from **DeepSensor**. We use the **DataProcessor** and **TaskLoader** as inputs to the model, which allows the model to handle context and target data properly during training.\n",
    "\n",
    "The model is then trained for a set number of epochs, and we monitor its performance by tracking the training loss and validation RMSE (Root Mean Squared Error).\n",
    "\n",
    "At the end of the training loop, we save the best-performing model.\n"
   ]
  },
  {
   "cell_type": "code",
   "execution_count": 26,
   "id": "baa8e743-19a4-49df-b934-74377c7c6444",
   "metadata": {
    "tags": []
   },
   "outputs": [
    {
     "name": "stdout",
     "output_type": "stream",
     "text": [
      "dim_yc inferred from TaskLoader: (1, 3, 1)\n",
      "dim_yt inferred from TaskLoader: 1\n",
      "dim_aux_t inferred from TaskLoader: 0\n",
      "internal_density inferred from TaskLoader: 1180\n",
      "encoder_scales inferred from TaskLoader: [np.float32(0.0004237288), np.float32(0.0009355429), np.float32(0.0004237288)]\n",
      "decoder_scale inferred from TaskLoader: 0.000847457627118644\n"
     ]
    }
   ],
   "source": [
    "# Set up model\n",
    "model = ConvNP(data_processor, task_loader)"
   ]
  },
  {
   "cell_type": "code",
   "execution_count": 27,
   "id": "c241a23d-3065-4093-8608-d03e2718f0bf",
   "metadata": {
    "tags": []
   },
   "outputs": [],
   "source": [
    "# Define the Trainer and training loop\n",
    "trainer = Trainer(model, lr=5e-5)"
   ]
  },
  {
   "cell_type": "code",
   "execution_count": 28,
   "id": "2f8a64c4-d45a-413f-a61d-fda87786270d",
   "metadata": {
    "tags": []
   },
   "outputs": [],
   "source": [
    "# Monitor validation performance\n",
    "def compute_val_rmse(model, val_tasks):\n",
    "    errors = []\n",
    "    target_var_ID = task_loader.target_var_IDs[0][0]  # assuming 1st target set and 1D\n",
    "    for task in val_tasks:\n",
    "        mean = data_processor.map_array(model.mean(task), target_var_ID, unnorm=True)\n",
    "        true = data_processor.map_array(task[\"Y_t\"][0], target_var_ID, unnorm=True)\n",
    "        errors.extend(np.abs(mean - true))\n",
    "    return np.sqrt(np.mean(np.concatenate(errors) ** 2))"
   ]
  },
  {
   "cell_type": "code",
   "execution_count": 29,
   "id": "6a1f20e2-3e6d-4351-ac17-f9afa715c579",
   "metadata": {
    "tags": []
   },
   "outputs": [
    {
     "name": "stderr",
     "output_type": "stream",
     "text": [
      "Training Epochs:   0%|          | 0/50 [00:00<?, ?it/s]/home/dannes/ds_env_gpu/lib/python3.10/site-packages/lab/types.py:178: DeprecationWarning: numpy.core is deprecated and has been renamed to numpy._core. The numpy._core namespace contains private NumPy internals and its use is discouraged, as NumPy internals can change without warning in any release. In practice, most real-world usage of numpy.core is to access functionality in the public NumPy API. If that is the case, use the public NumPy API. If not, you are using NumPy internals. If you would still like to access an internal attribute, use numpy._core.numerictypes.\n",
      "  for name in np.core.numerictypes.__all__ + [\"bool\"]:\n",
      "Training Epochs: 100%|██████████| 50/50 [13:24<00:00, 16.10s/it]\n"
     ]
    },
    {
     "data": {
      "image/png": "[encoded data removed]",
      "text/plain": [
       "<Figure size 1200x400 with 2 Axes>"
      ]
     },
     "metadata": {},
     "output_type": "display_data"
    }
   ],
   "source": [
    "# Track the losses and validation RMSEs\n",
    "losses = []\n",
    "val_rmses = []\n",
    "val_rmse_best = np.inf\n",
    "\n",
    "# Start the training loop\n",
    "for epoch in tqdm(range(50), desc=\"Training Epochs\"):  # Training for 50 epochs\n",
    "    # Generate tasks for training\n",
    "    batch_losses = trainer(train_tasks)\n",
    "    losses.append(np.mean(batch_losses))\n",
    "\n",
    "    # Compute the validation RMSE\n",
    "    val_rmse = compute_val_rmse(model, val_tasks)\n",
    "    val_rmses.append(val_rmse)\n",
    "\n",
    "    # Save the model if it performs better\n",
    "    if val_rmse < val_rmse_best:\n",
    "        val_rmse_best = val_rmse\n",
    "        #model.save(deepsensor_folder)\n",
    "        save_model(model, deepsensor_folder)\n",
    "\n",
    "# Plot training losses and validation RMSE\n",
    "import matplotlib.pyplot as plt\n",
    "\n",
    "fig, axes = plt.subplots(1, 2, figsize=(12, 4))\n",
    "axes[0].plot(losses)\n",
    "axes[0].set_xlabel('Epoch')\n",
    "axes[0].set_title('Training Loss')\n",
    "\n",
    "axes[1].plot(val_rmses)\n",
    "axes[1].set_xlabel('Epoch')\n",
    "axes[1].set_title('Validation RMSE')\n",
    "\n",
    "plt.show()\n"
   ]
  },
  {
   "cell_type": "code",
   "execution_count": 30,
   "id": "95af31e1-fd09-4e46-9e0a-de6dfd412bc5",
   "metadata": {},
   "outputs": [
    {
     "name": "stdout",
     "output_type": "stream",
     "text": [
      "Attempting to instantiate ConvNP model (randomly initialized initially):\n",
      "Architectural config for construct_neural_process (passed as **kwargs): {'dim_x': 2, 'dim_yc': [1, 3, 1], 'dim_yt': 1, 'dim_aux_t': 0, 'dim_lv': 0, 'conv_arch': 'unet', 'unet_channels': [64, 64, 64, 64], 'unet_resize_convs': True, 'unet_resize_conv_interp_method': 'bilinear', 'aux_t_mlp_layers': None, 'likelihood': 'het', 'unet_kernels': 5, 'internal_density': 1180, 'encoder_scales': [0.0004237288, 0.0009355429, 0.0004237288], 'encoder_scales_learnable': False, 'decoder_scale': 0.000847457627118644, 'decoder_scale_learnable': False, 'num_basis_functions': 64, 'epsilon': 0.01}\n",
      "Model loaded successfully with custom function!\n"
     ]
    }
   ],
   "source": [
    "# To load it later:\n",
    "# Assuming you have data_processor and task_loader instantiated in your notebook\n",
    "loaded_model = load_convnp_model(deepsensor_folder, data_processor, task_loader)\n",
    "print(\"Model loaded successfully with custom function!\")"
   ]
  },
  {
   "cell_type": "markdown",
   "id": "361de480-b534-4e65-8c4c-325bbdaf30d1",
   "metadata": {},
   "source": [
    "### Try a Sample Prediction"
   ]
  },
  {
   "cell_type": "code",
   "execution_count": 38,
   "id": "5ef7f2f1-ceb5-49f1-b262-66f132030f23",
   "metadata": {},
   "outputs": [
    {
     "data": {
      "text/plain": [
       "{'sst': <xarray.Dataset> Size: 8MB\n",
       " Dimensions:  (time: 1, lat: 838, lon: 1181)\n",
       " Coordinates:\n",
       "   * lat      (lat) float64 7kB 38.87 38.89 38.9 38.92 ... 50.58 50.59 50.61\n",
       "   * lon      (lon) float64 9kB -92.42 -92.41 -92.39 ... -75.91 -75.9 -75.88\n",
       "   * time     (time) datetime64[ns] 8B 2010-02-14\n",
       " Data variables:\n",
       "     mean     (time, lat, lon) float32 4MB 10.06 10.06 10.06 ... 10.06 10.06\n",
       "     std      (time, lat, lon) float32 4MB 5.814 5.814 5.814 ... 5.814 5.814}"
      ]
     },
     "execution_count": 38,
     "metadata": {},
     "output_type": "execute_result"
    }
   ],
   "source": [
    "date = \"2010-02-14\"\n",
    "test_task = task_loader(date, context_sampling=random_lake_points, target_sampling=\"all\")\n",
    "pred = loaded_model.predict(test_task, X_t=glsea_raw)\n",
    "pred"
   ]
  },
  {
   "cell_type": "markdown",
   "id": "38d524f5-4d18-436f-9660-719bc785dc76",
   "metadata": {},
   "source": [
    "Note that the prediction produces both a mean prediction and a standard deviation, which is a characteristic of a Gaussian Process approach. "
   ]
  },
  {
   "cell_type": "markdown",
   "id": "bdbb4cd3-1987-4876-b7ac-29546d9203b1",
   "metadata": {},
   "source": [
    "# Conclusion\n",
    "\n",
    "In this notebook, we:\n",
    "1. Loaded and preprocessed several Great Lakes datasets for training a **ConvNP** model.\n",
    "2. Generated tasks using **TaskLoader** and visualized data to perform sanity checks.\n",
    "3. Trained the **ConvNP** model and monitored its performance.\n",
    "\n",
    "Next, we will explore the active learning component of **DeepSensor**.\n"
   ]
  }
 ],
 "metadata": {
  "environment": {
   "kernel": "venv",
   "name": "workbench-notebooks.m129",
   "type": "gcloud",
   "uri": "us-docker.pkg.dev/deeplearning-platform-release/gcr.io/workbench-notebooks:m129"
  },
  "kernelspec": {
   "display_name": "Python (ds_env_gpu)",
   "language": "python",
   "name": "venv"
  },
  "language_info": {
   "codemirror_mode": {
    "name": "ipython",
    "version": 3
   },
   "file_extension": ".py",
   "mimetype": "text/x-python",
   "name": "python",
   "nbconvert_exporter": "python",
   "pygments_lexer": "ipython3",
   "version": "3.10.9"
  }
 },
 "nbformat": 4,
 "nbformat_minor": 5
}
