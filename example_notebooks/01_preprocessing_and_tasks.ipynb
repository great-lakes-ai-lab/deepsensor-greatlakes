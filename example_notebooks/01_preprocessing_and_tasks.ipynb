{
 "cells": [
  {
   "cell_type": "code",
   "execution_count": 1,
   "id": "3dc27116-7a2e-4252-a198-b9d52c636659",
   "metadata": {
    "tags": []
   },
   "outputs": [],
   "source": [
    "import xarray as xr\n",
    "import numpy as np\n",
    "import pandas as pd\n",
    "import matplotlib.pyplot as plt\n",
    "import cartopy.crs as ccrs\n",
    "import cartopy.feature as cfeature\n",
    "import dask.array as da\n",
    "import gcsfs\n",
    "import os\n",
    "\n",
    "import deepsensor.torch\n",
    "from deepsensor.data import DataProcessor, TaskLoader, construct_circ_time_ds\n",
    "from deepsensor.data.sources import get_era5_reanalysis_data, get_earthenv_auxiliary_data, \\\n",
    "    get_gldas_land_mask\n",
    "from deepsensor.model import ConvNP\n",
    "from deepsensor.train import set_gpu_default_device"
   ]
  },
  {
   "cell_type": "code",
   "execution_count": 2,
   "id": "e78cb96f-c4b9-4b1a-90a0-3fdb7db8b978",
   "metadata": {
    "tags": []
   },
   "outputs": [],
   "source": [
    "def standardize_dates(ds):\n",
    "    \"\"\"\n",
    "    Convert the 'time' dimension in an xarray dataset to date-only format (remove time component).\n",
    "    \n",
    "    Parameters:\n",
    "    ds (xarray.Dataset): The dataset whose 'time' dimension you wish to modify.\n",
    "    \n",
    "    Returns:\n",
    "    xarray.Dataset: Modified dataset with standardized date format.\n",
    "    \"\"\"\n",
    "    # Ensure 'time' is a coordinate in your dataset\n",
    "    if 'time' in ds.coords:\n",
    "        # Convert time coordinates to date-only, ensuring format is consistent\n",
    "        ds['time'] = ds['time'].dt.floor('D')\n",
    "    \n",
    "    return ds"
   ]
  },
  {
   "cell_type": "markdown",
   "id": "38fd8e06-fc32-474a-abf4-f44f46ab21e9",
   "metadata": {},
   "source": [
    "# Data Loader"
   ]
  },
  {
   "cell_type": "code",
   "execution_count": 3,
   "id": "44eb069e-cb9c-4811-a096-38254d982815",
   "metadata": {
    "tags": []
   },
   "outputs": [],
   "source": [
    "# Path to your Zarr stores\n",
    "ice_concentration_path = 'gs://great-lakes-osd/ice_concentration.zarr'\n",
    "glsea_path = 'gs://great-lakes-osd/GLSEA_combined.zarr'\n",
    "glsea3_path = 'gs://great-lakes-osd/GLSEA3_combined.zarr'\n",
    "\n",
    "# Open the Zarr stores\n",
    "ice_concentration_raw = xr.open_zarr(ice_concentration_path, chunks={'time': 366, 'lat': 200, 'lon': 200})\n",
    "glsea_raw = xr.open_zarr(glsea_path, chunks={'time': 366, 'lat': 200, 'lon': 200})\n",
    "glsea3_raw = xr.open_zarr(glsea3_path, chunks={'time': 366, 'lat': 200, 'lon': 200})\n",
    "\n",
    "# Replace -1 (land value) with NaN\n",
    "ice_concentration_raw = ice_concentration_raw.where(ice_concentration_raw != -1, float('nan'))\n",
    "\n",
    "# Convert all times to date-only format, removing the time component\n",
    "ice_concentration_raw = standardize_dates(ice_concentration_raw)\n",
    "glsea_raw = standardize_dates(glsea_raw)\n",
    "glsea3_raw = standardize_dates(glsea3_raw)\n",
    "\n",
    "# Drop CRS - not needed\n",
    "glsea_raw = glsea_raw.drop_vars('crs')\n",
    "glsea3_raw = glsea3_raw.drop_vars('crs')"
   ]
  },
  {
   "cell_type": "code",
   "execution_count": 4,
   "id": "977c46d5-9ca6-4481-9531-e27c11b2ea1c",
   "metadata": {
    "tags": []
   },
   "outputs": [],
   "source": [
    "# Set up GCS filesystem\n",
    "fs = gcsfs.GCSFileSystem(project='your-gcp-project')\n",
    "\n",
    "# Path to the NetCDF files \n",
    "context_path = 'gs://great-lakes-osd/context/'\n",
    "\n",
    "# Open the NetCDF files using xarray with gcsfs\n",
    "bathymetry_raw = xr.open_dataset(fs.open(os.path.join(context_path, 'interpolated_bathymetry.nc')))\n",
    "lakemask_raw = xr.open_dataset(fs.open(os.path.join(context_path, 'lakemask.nc')))\n",
    "\n",
    "# Name the bathymetry variable\n",
    "bathymetry_raw = bathymetry_raw.rename({'__xarray_dataarray_variable__': 'bathymetry'})"
   ]
  },
  {
   "cell_type": "markdown",
   "id": "ac7979c0-a43f-4f8c-a177-058d5dfbce6c",
   "metadata": {},
   "source": [
    "# Data Processor"
   ]
  },
  {
   "cell_type": "code",
   "execution_count": 5,
   "id": "4c258429-da33-4bd6-a673-571093ed4fe5",
   "metadata": {
    "tags": []
   },
   "outputs": [],
   "source": [
    "data_processor = DataProcessor(x1_name=\"lat\", x2_name=\"lon\")\n",
    "\n",
    "#glsea = data_processor(glsea_raw)\n",
    "_ = data_processor(glsea_raw.sel(time=slice(\"2009-01-01\", \"2009-12-31\")))\n",
    "glsea = data_processor(glsea_raw)\n",
    "\n",
    "# process the bathymetry and lake\n",
    "aux_ds, lakemask = data_processor([bathymetry_raw, lakemask_raw], method=\"min_max\")"
   ]
  },
  {
   "cell_type": "code",
   "execution_count": 6,
   "id": "9194ff8c-4caa-47cc-b704-600e1f738206",
   "metadata": {},
   "outputs": [],
   "source": [
    "# Select a subset of the ice concentration data to compute normalization parameters\n",
    "_ = data_processor(ice_concentration_raw.sel(time=slice(\"2009-01-01\", \"2009-12-31\")))\n",
    "\n",
    "# Now apply the normalization parameters to the full ice concentration dataset\n",
    "ice_concentration = data_processor(ice_concentration_raw)\n"
   ]
  },
  {
   "cell_type": "code",
   "execution_count": 7,
   "id": "415e8429-6c23-472d-b119-f336dd3d01ec",
   "metadata": {
    "tags": []
   },
   "outputs": [
    {
     "data": {
      "text/plain": [
       "{'coords': {'time': {'name': 'time'},\n",
       "  'x1': {'name': 'lat', 'map': (38.8749871947229, 55.4132976408956)},\n",
       "  'x2': {'name': 'lon', 'map': (-92.4199507342304, -75.8816402880577)}},\n",
       " 'sst': {'method': 'mean_std',\n",
       "  'params': {'mean': 7.873531818389893, 'std': 6.944828510284424}},\n",
       " 'bathymetry': {'method': 'min_max',\n",
       "  'params': {'min': 9.999999999999998, 'max': 316.62872313037894}},\n",
       " 'mask': {'method': 'min_max', 'params': {'min': 0.0, 'max': 1.0}},\n",
       " 'ice_concentration': {'method': 'mean_std',\n",
       "  'params': {'mean': 11.848304453395341, 'std': 28.78266463694381}}}"
      ]
     },
     "execution_count": 7,
     "metadata": {},
     "output_type": "execute_result"
    }
   ],
   "source": [
    "data_processor.config"
   ]
  },
  {
   "cell_type": "code",
   "execution_count": 8,
   "id": "dee20682-a5f3-4196-b06d-db17277ac04c",
   "metadata": {
    "tags": []
   },
   "outputs": [],
   "source": [
    "dates = pd.date_range(glsea.time.values.min(), glsea.time.values.max(), freq=\"D\")"
   ]
  },
  {
   "cell_type": "code",
   "execution_count": 9,
   "id": "b0f11be2-b77e-4444-ba92-1563b29adf18",
   "metadata": {
    "tags": []
   },
   "outputs": [],
   "source": [
    "doy_ds = construct_circ_time_ds(dates, freq=\"D\")\n",
    "#cosD = doy_ds[\"cos_D\"]\n",
    "#sinD = doy_ds[\"sin_D\"]\n",
    "aux_ds[\"cos_D\"] = doy_ds[\"cos_D\"]\n",
    "aux_ds[\"sin_D\"] = doy_ds[\"sin_D\"]"
   ]
  },
  {
   "cell_type": "code",
   "execution_count": 10,
   "id": "badcc482-c3fb-49b1-b40e-92136ac4f91a",
   "metadata": {
    "tags": []
   },
   "outputs": [
    {
     "data": {
      "text/plain": [
       "DatetimeIndex(['1995-01-01', '1995-01-02', '1995-01-03', '1995-01-04',\n",
       "               '1995-01-05', '1995-01-06', '1995-01-07', '1995-01-08',\n",
       "               '1995-01-09', '1995-01-10',\n",
       "               ...\n",
       "               '2022-12-22', '2022-12-23', '2022-12-24', '2022-12-25',\n",
       "               '2022-12-26', '2022-12-27', '2022-12-28', '2022-12-29',\n",
       "               '2022-12-30', '2022-12-31'],\n",
       "              dtype='datetime64[ns]', length=10227, freq='D')"
      ]
     },
     "execution_count": 10,
     "metadata": {},
     "output_type": "execute_result"
    }
   ],
   "source": [
    "dates"
   ]
  },
  {
   "cell_type": "code",
   "execution_count": 11,
   "id": "164e73f9-948e-4dcb-8184-d868bc86c3e1",
   "metadata": {
    "tags": []
   },
   "outputs": [
    {
     "data": {
      "text/html": [
       "<div><svg style=\"position: absolute; width: 0; height: 0; overflow: hidden\">\n",
       "<defs>\n",
       "<symbol id=\"icon-database\" viewBox=\"0 0 32 32\">\n",
       "<path d=\"M16 0c-8.837 0-16 2.239-16 5v4c0 2.761 7.163 5 16 5s16-2.239 16-5v-4c0-2.761-7.163-5-16-5z\"></path>\n",
       "<path d=\"M16 17c-8.837 0-16-2.239-16-5v6c0 2.761 7.163 5 16 5s16-2.239 16-5v-6c0 2.761-7.163 5-16 5z\"></path>\n",
       "<path d=\"M16 26c-8.837 0-16-2.239-16-5v6c0 2.761 7.163 5 16 5s16-2.239 16-5v-6c0 2.761-7.163 5-16 5z\"></path>\n",
       "</symbol>\n",
       "<symbol id=\"icon-file-text2\" viewBox=\"0 0 32 32\">\n",
       "<path d=\"M28.681 7.159c-0.694-0.947-1.662-2.053-2.724-3.116s-2.169-2.030-3.116-2.724c-1.612-1.182-2.393-1.319-2.841-1.319h-15.5c-1.378 0-2.5 1.121-2.5 2.5v27c0 1.378 1.122 2.5 2.5 2.5h23c1.378 0 2.5-1.122 2.5-2.5v-19.5c0-0.448-0.137-1.23-1.319-2.841zM24.543 5.457c0.959 0.959 1.712 1.825 2.268 2.543h-4.811v-4.811c0.718 0.556 1.584 1.309 2.543 2.268zM28 29.5c0 0.271-0.229 0.5-0.5 0.5h-23c-0.271 0-0.5-0.229-0.5-0.5v-27c0-0.271 0.229-0.5 0.5-0.5 0 0 15.499-0 15.5 0v7c0 0.552 0.448 1 1 1h7v19.5z\"></path>\n",
       "<path d=\"M23 26h-14c-0.552 0-1-0.448-1-1s0.448-1 1-1h14c0.552 0 1 0.448 1 1s-0.448 1-1 1z\"></path>\n",
       "<path d=\"M23 22h-14c-0.552 0-1-0.448-1-1s0.448-1 1-1h14c0.552 0 1 0.448 1 1s-0.448 1-1 1z\"></path>\n",
       "<path d=\"M23 18h-14c-0.552 0-1-0.448-1-1s0.448-1 1-1h14c0.552 0 1 0.448 1 1s-0.448 1-1 1z\"></path>\n",
       "</symbol>\n",
       "</defs>\n",
       "</svg>\n",
       "<style>/* CSS stylesheet for displaying xarray objects in jupyterlab.\n",
       " *\n",
       " */\n",
       "\n",
       ":root {\n",
       "  --xr-font-color0: var(--jp-content-font-color0, rgba(0, 0, 0, 1));\n",
       "  --xr-font-color2: var(--jp-content-font-color2, rgba(0, 0, 0, 0.54));\n",
       "  --xr-font-color3: var(--jp-content-font-color3, rgba(0, 0, 0, 0.38));\n",
       "  --xr-border-color: var(--jp-border-color2, #e0e0e0);\n",
       "  --xr-disabled-color: var(--jp-layout-color3, #bdbdbd);\n",
       "  --xr-background-color: var(--jp-layout-color0, white);\n",
       "  --xr-background-color-row-even: var(--jp-layout-color1, white);\n",
       "  --xr-background-color-row-odd: var(--jp-layout-color2, #eeeeee);\n",
       "}\n",
       "\n",
       "html[theme=\"dark\"],\n",
       "html[data-theme=\"dark\"],\n",
       "body[data-theme=\"dark\"],\n",
       "body.vscode-dark {\n",
       "  --xr-font-color0: rgba(255, 255, 255, 1);\n",
       "  --xr-font-color2: rgba(255, 255, 255, 0.54);\n",
       "  --xr-font-color3: rgba(255, 255, 255, 0.38);\n",
       "  --xr-border-color: #1f1f1f;\n",
       "  --xr-disabled-color: #515151;\n",
       "  --xr-background-color: #111111;\n",
       "  --xr-background-color-row-even: #111111;\n",
       "  --xr-background-color-row-odd: #313131;\n",
       "}\n",
       "\n",
       ".xr-wrap {\n",
       "  display: block !important;\n",
       "  min-width: 300px;\n",
       "  max-width: 700px;\n",
       "}\n",
       "\n",
       ".xr-text-repr-fallback {\n",
       "  /* fallback to plain text repr when CSS is not injected (untrusted notebook) */\n",
       "  display: none;\n",
       "}\n",
       "\n",
       ".xr-header {\n",
       "  padding-top: 6px;\n",
       "  padding-bottom: 6px;\n",
       "  margin-bottom: 4px;\n",
       "  border-bottom: solid 1px var(--xr-border-color);\n",
       "}\n",
       "\n",
       ".xr-header > div,\n",
       ".xr-header > ul {\n",
       "  display: inline;\n",
       "  margin-top: 0;\n",
       "  margin-bottom: 0;\n",
       "}\n",
       "\n",
       ".xr-obj-type,\n",
       ".xr-array-name {\n",
       "  margin-left: 2px;\n",
       "  margin-right: 10px;\n",
       "}\n",
       "\n",
       ".xr-obj-type {\n",
       "  color: var(--xr-font-color2);\n",
       "}\n",
       "\n",
       ".xr-sections {\n",
       "  padding-left: 0 !important;\n",
       "  display: grid;\n",
       "  grid-template-columns: 150px auto auto 1fr 0 20px 0 20px;\n",
       "}\n",
       "\n",
       ".xr-section-item {\n",
       "  display: contents;\n",
       "}\n",
       "\n",
       ".xr-section-item input {\n",
       "  display: inline-block;\n",
       "  opacity: 0;\n",
       "  height: 0;\n",
       "}\n",
       "\n",
       ".xr-section-item input + label {\n",
       "  color: var(--xr-disabled-color);\n",
       "}\n",
       "\n",
       ".xr-section-item input:enabled + label {\n",
       "  cursor: pointer;\n",
       "  color: var(--xr-font-color2);\n",
       "}\n",
       "\n",
       ".xr-section-item input:focus + label {\n",
       "  border: 2px solid var(--xr-font-color0);\n",
       "}\n",
       "\n",
       ".xr-section-item input:enabled + label:hover {\n",
       "  color: var(--xr-font-color0);\n",
       "}\n",
       "\n",
       ".xr-section-summary {\n",
       "  grid-column: 1;\n",
       "  color: var(--xr-font-color2);\n",
       "  font-weight: 500;\n",
       "}\n",
       "\n",
       ".xr-section-summary > span {\n",
       "  display: inline-block;\n",
       "  padding-left: 0.5em;\n",
       "}\n",
       "\n",
       ".xr-section-summary-in:disabled + label {\n",
       "  color: var(--xr-font-color2);\n",
       "}\n",
       "\n",
       ".xr-section-summary-in + label:before {\n",
       "  display: inline-block;\n",
       "  content: \"►\";\n",
       "  font-size: 11px;\n",
       "  width: 15px;\n",
       "  text-align: center;\n",
       "}\n",
       "\n",
       ".xr-section-summary-in:disabled + label:before {\n",
       "  color: var(--xr-disabled-color);\n",
       "}\n",
       "\n",
       ".xr-section-summary-in:checked + label:before {\n",
       "  content: \"▼\";\n",
       "}\n",
       "\n",
       ".xr-section-summary-in:checked + label > span {\n",
       "  display: none;\n",
       "}\n",
       "\n",
       ".xr-section-summary,\n",
       ".xr-section-inline-details {\n",
       "  padding-top: 4px;\n",
       "  padding-bottom: 4px;\n",
       "}\n",
       "\n",
       ".xr-section-inline-details {\n",
       "  grid-column: 2 / -1;\n",
       "}\n",
       "\n",
       ".xr-section-details {\n",
       "  display: none;\n",
       "  grid-column: 1 / -1;\n",
       "  margin-bottom: 5px;\n",
       "}\n",
       "\n",
       ".xr-section-summary-in:checked ~ .xr-section-details {\n",
       "  display: contents;\n",
       "}\n",
       "\n",
       ".xr-array-wrap {\n",
       "  grid-column: 1 / -1;\n",
       "  display: grid;\n",
       "  grid-template-columns: 20px auto;\n",
       "}\n",
       "\n",
       ".xr-array-wrap > label {\n",
       "  grid-column: 1;\n",
       "  vertical-align: top;\n",
       "}\n",
       "\n",
       ".xr-preview {\n",
       "  color: var(--xr-font-color3);\n",
       "}\n",
       "\n",
       ".xr-array-preview,\n",
       ".xr-array-data {\n",
       "  padding: 0 5px !important;\n",
       "  grid-column: 2;\n",
       "}\n",
       "\n",
       ".xr-array-data,\n",
       ".xr-array-in:checked ~ .xr-array-preview {\n",
       "  display: none;\n",
       "}\n",
       "\n",
       ".xr-array-in:checked ~ .xr-array-data,\n",
       ".xr-array-preview {\n",
       "  display: inline-block;\n",
       "}\n",
       "\n",
       ".xr-dim-list {\n",
       "  display: inline-block !important;\n",
       "  list-style: none;\n",
       "  padding: 0 !important;\n",
       "  margin: 0;\n",
       "}\n",
       "\n",
       ".xr-dim-list li {\n",
       "  display: inline-block;\n",
       "  padding: 0;\n",
       "  margin: 0;\n",
       "}\n",
       "\n",
       ".xr-dim-list:before {\n",
       "  content: \"(\";\n",
       "}\n",
       "\n",
       ".xr-dim-list:after {\n",
       "  content: \")\";\n",
       "}\n",
       "\n",
       ".xr-dim-list li:not(:last-child):after {\n",
       "  content: \",\";\n",
       "  padding-right: 5px;\n",
       "}\n",
       "\n",
       ".xr-has-index {\n",
       "  font-weight: bold;\n",
       "}\n",
       "\n",
       ".xr-var-list,\n",
       ".xr-var-item {\n",
       "  display: contents;\n",
       "}\n",
       "\n",
       ".xr-var-item > div,\n",
       ".xr-var-item label,\n",
       ".xr-var-item > .xr-var-name span {\n",
       "  background-color: var(--xr-background-color-row-even);\n",
       "  margin-bottom: 0;\n",
       "}\n",
       "\n",
       ".xr-var-item > .xr-var-name:hover span {\n",
       "  padding-right: 5px;\n",
       "}\n",
       "\n",
       ".xr-var-list > li:nth-child(odd) > div,\n",
       ".xr-var-list > li:nth-child(odd) > label,\n",
       ".xr-var-list > li:nth-child(odd) > .xr-var-name span {\n",
       "  background-color: var(--xr-background-color-row-odd);\n",
       "}\n",
       "\n",
       ".xr-var-name {\n",
       "  grid-column: 1;\n",
       "}\n",
       "\n",
       ".xr-var-dims {\n",
       "  grid-column: 2;\n",
       "}\n",
       "\n",
       ".xr-var-dtype {\n",
       "  grid-column: 3;\n",
       "  text-align: right;\n",
       "  color: var(--xr-font-color2);\n",
       "}\n",
       "\n",
       ".xr-var-preview {\n",
       "  grid-column: 4;\n",
       "}\n",
       "\n",
       ".xr-index-preview {\n",
       "  grid-column: 2 / 5;\n",
       "  color: var(--xr-font-color2);\n",
       "}\n",
       "\n",
       ".xr-var-name,\n",
       ".xr-var-dims,\n",
       ".xr-var-dtype,\n",
       ".xr-preview,\n",
       ".xr-attrs dt {\n",
       "  white-space: nowrap;\n",
       "  overflow: hidden;\n",
       "  text-overflow: ellipsis;\n",
       "  padding-right: 10px;\n",
       "}\n",
       "\n",
       ".xr-var-name:hover,\n",
       ".xr-var-dims:hover,\n",
       ".xr-var-dtype:hover,\n",
       ".xr-attrs dt:hover {\n",
       "  overflow: visible;\n",
       "  width: auto;\n",
       "  z-index: 1;\n",
       "}\n",
       "\n",
       ".xr-var-attrs,\n",
       ".xr-var-data,\n",
       ".xr-index-data {\n",
       "  display: none;\n",
       "  background-color: var(--xr-background-color) !important;\n",
       "  padding-bottom: 5px !important;\n",
       "}\n",
       "\n",
       ".xr-var-attrs-in:checked ~ .xr-var-attrs,\n",
       ".xr-var-data-in:checked ~ .xr-var-data,\n",
       ".xr-index-data-in:checked ~ .xr-index-data {\n",
       "  display: block;\n",
       "}\n",
       "\n",
       ".xr-var-data > table {\n",
       "  float: right;\n",
       "}\n",
       "\n",
       ".xr-var-name span,\n",
       ".xr-var-data,\n",
       ".xr-index-name div,\n",
       ".xr-index-data,\n",
       ".xr-attrs {\n",
       "  padding-left: 25px !important;\n",
       "}\n",
       "\n",
       ".xr-attrs,\n",
       ".xr-var-attrs,\n",
       ".xr-var-data,\n",
       ".xr-index-data {\n",
       "  grid-column: 1 / -1;\n",
       "}\n",
       "\n",
       "dl.xr-attrs {\n",
       "  padding: 0;\n",
       "  margin: 0;\n",
       "  display: grid;\n",
       "  grid-template-columns: 125px auto;\n",
       "}\n",
       "\n",
       ".xr-attrs dt,\n",
       ".xr-attrs dd {\n",
       "  padding: 0;\n",
       "  margin: 0;\n",
       "  float: left;\n",
       "  padding-right: 10px;\n",
       "  width: auto;\n",
       "}\n",
       "\n",
       ".xr-attrs dt {\n",
       "  font-weight: normal;\n",
       "  grid-column: 1;\n",
       "}\n",
       "\n",
       ".xr-attrs dt:hover span {\n",
       "  display: inline-block;\n",
       "  background: var(--xr-background-color);\n",
       "  padding-right: 10px;\n",
       "}\n",
       "\n",
       ".xr-attrs dd {\n",
       "  grid-column: 2;\n",
       "  white-space: pre-wrap;\n",
       "  word-break: break-all;\n",
       "}\n",
       "\n",
       ".xr-icon-database,\n",
       ".xr-icon-file-text2,\n",
       ".xr-no-icon {\n",
       "  display: inline-block;\n",
       "  vertical-align: middle;\n",
       "  width: 1em;\n",
       "  height: 1.5em !important;\n",
       "  stroke-width: 0;\n",
       "  stroke: currentColor;\n",
       "  fill: currentColor;\n",
       "}\n",
       "</style><pre class='xr-text-repr-fallback'>&lt;xarray.Dataset&gt; Size: 941kB\n",
       "Dimensions:     (x1: 240, x2: 360, time: 10227)\n",
       "Coordinates:\n",
       "  * x1          (x1) float64 2kB 0.1523 0.1542 0.1561 ... 0.5958 0.5976 0.5995\n",
       "  * x2          (x2) float64 3kB 0.02107 0.02375 0.02642 ... 0.9791 0.9818\n",
       "  * time        (time) datetime64[ns] 82kB 1995-01-01 1995-01-02 ... 2022-12-31\n",
       "Data variables:\n",
       "    bathymetry  (x1, x2) float64 691kB nan nan nan nan nan ... nan nan nan nan\n",
       "    cos_D       (time) float64 82kB 0.9999 0.9994 0.9987 ... 0.9993 0.9998 1.0\n",
       "    sin_D       (time) float64 82kB 0.0172 0.0344 0.05158 ... -0.0215 -0.004301</pre><div class='xr-wrap' style='display:none'><div class='xr-header'><div class='xr-obj-type'>xarray.Dataset</div></div><ul class='xr-sections'><li class='xr-section-item'><input id='section-4cf66ff8-ccb2-47d7-873b-31297e61f659' class='xr-section-summary-in' type='checkbox' disabled ><label for='section-4cf66ff8-ccb2-47d7-873b-31297e61f659' class='xr-section-summary'  title='Expand/collapse section'>Dimensions:</label><div class='xr-section-inline-details'><ul class='xr-dim-list'><li><span class='xr-has-index'>x1</span>: 240</li><li><span class='xr-has-index'>x2</span>: 360</li><li><span class='xr-has-index'>time</span>: 10227</li></ul></div><div class='xr-section-details'></div></li><li class='xr-section-item'><input id='section-a3e78607-960d-4d89-976b-b97ed75d1d10' class='xr-section-summary-in' type='checkbox'  checked><label for='section-a3e78607-960d-4d89-976b-b97ed75d1d10' class='xr-section-summary' >Coordinates: <span>(3)</span></label><div class='xr-section-inline-details'></div><div class='xr-section-details'><ul class='xr-var-list'><li class='xr-var-item'><div class='xr-var-name'><span class='xr-has-index'>x1</span></div><div class='xr-var-dims'>(x1)</div><div class='xr-var-dtype'>float64</div><div class='xr-var-preview xr-preview'>0.1523 0.1542 ... 0.5976 0.5995</div><input id='attrs-7926c264-3d7d-4204-973b-208e8517f8b6' class='xr-var-attrs-in' type='checkbox' disabled><label for='attrs-7926c264-3d7d-4204-973b-208e8517f8b6' title='Show/Hide attributes'><svg class='icon xr-icon-file-text2'><use xlink:href='#icon-file-text2'></use></svg></label><input id='data-5d139443-0f59-4e83-9ab0-e2c656b90b80' class='xr-var-data-in' type='checkbox'><label for='data-5d139443-0f59-4e83-9ab0-e2c656b90b80' title='Show/Hide data repr'><svg class='icon xr-icon-database'><use xlink:href='#icon-database'></use></svg></label><div class='xr-var-attrs'><dl class='xr-attrs'></dl></div><div class='xr-var-data'><pre>array([0.152308, 0.154179, 0.15605 , ..., 0.595755, 0.597626, 0.599497],\n",
       "      shape=(240,))</pre></div></li><li class='xr-var-item'><div class='xr-var-name'><span class='xr-has-index'>x2</span></div><div class='xr-var-dims'>(x2)</div><div class='xr-var-dtype'>float64</div><div class='xr-var-preview xr-preview'>0.02107 0.02375 ... 0.9791 0.9818</div><input id='attrs-76c743e3-b4d2-4602-b99f-a083729c8465' class='xr-var-attrs-in' type='checkbox' disabled><label for='attrs-76c743e3-b4d2-4602-b99f-a083729c8465' title='Show/Hide attributes'><svg class='icon xr-icon-file-text2'><use xlink:href='#icon-file-text2'></use></svg></label><input id='data-430b337b-cc70-449a-b7b8-9390b6f31bfa' class='xr-var-data-in' type='checkbox'><label for='data-430b337b-cc70-449a-b7b8-9390b6f31bfa' title='Show/Hide data repr'><svg class='icon xr-icon-database'><use xlink:href='#icon-database'></use></svg></label><div class='xr-var-attrs'><dl class='xr-attrs'></dl></div><div class='xr-var-data'><pre>array([0.021069, 0.023745, 0.026421, ..., 0.976456, 0.979132, 0.981809],\n",
       "      shape=(360,))</pre></div></li><li class='xr-var-item'><div class='xr-var-name'><span class='xr-has-index'>time</span></div><div class='xr-var-dims'>(time)</div><div class='xr-var-dtype'>datetime64[ns]</div><div class='xr-var-preview xr-preview'>1995-01-01 ... 2022-12-31</div><input id='attrs-1668fa99-be9d-4d2b-bdac-d2b1312af825' class='xr-var-attrs-in' type='checkbox' disabled><label for='attrs-1668fa99-be9d-4d2b-bdac-d2b1312af825' title='Show/Hide attributes'><svg class='icon xr-icon-file-text2'><use xlink:href='#icon-file-text2'></use></svg></label><input id='data-965d1af5-0e85-4d70-9853-7abfbf0b8ef8' class='xr-var-data-in' type='checkbox'><label for='data-965d1af5-0e85-4d70-9853-7abfbf0b8ef8' title='Show/Hide data repr'><svg class='icon xr-icon-database'><use xlink:href='#icon-database'></use></svg></label><div class='xr-var-attrs'><dl class='xr-attrs'></dl></div><div class='xr-var-data'><pre>array([&#x27;1995-01-01T00:00:00.000000000&#x27;, &#x27;1995-01-02T00:00:00.000000000&#x27;,\n",
       "       &#x27;1995-01-03T00:00:00.000000000&#x27;, ..., &#x27;2022-12-29T00:00:00.000000000&#x27;,\n",
       "       &#x27;2022-12-30T00:00:00.000000000&#x27;, &#x27;2022-12-31T00:00:00.000000000&#x27;],\n",
       "      shape=(10227,), dtype=&#x27;datetime64[ns]&#x27;)</pre></div></li></ul></div></li><li class='xr-section-item'><input id='section-19a24771-ae6b-4fbb-a261-c2381bf6912e' class='xr-section-summary-in' type='checkbox'  checked><label for='section-19a24771-ae6b-4fbb-a261-c2381bf6912e' class='xr-section-summary' >Data variables: <span>(3)</span></label><div class='xr-section-inline-details'></div><div class='xr-section-details'><ul class='xr-var-list'><li class='xr-var-item'><div class='xr-var-name'><span>bathymetry</span></div><div class='xr-var-dims'>(x1, x2)</div><div class='xr-var-dtype'>float64</div><div class='xr-var-preview xr-preview'>nan nan nan nan ... nan nan nan nan</div><input id='attrs-d691177b-6fb7-4bf6-8687-4e59d96c7e89' class='xr-var-attrs-in' type='checkbox' disabled><label for='attrs-d691177b-6fb7-4bf6-8687-4e59d96c7e89' title='Show/Hide attributes'><svg class='icon xr-icon-file-text2'><use xlink:href='#icon-file-text2'></use></svg></label><input id='data-aaa546dc-bea6-4ea4-bf9c-a510cc234742' class='xr-var-data-in' type='checkbox'><label for='data-aaa546dc-bea6-4ea4-bf9c-a510cc234742' title='Show/Hide data repr'><svg class='icon xr-icon-database'><use xlink:href='#icon-database'></use></svg></label><div class='xr-var-attrs'><dl class='xr-attrs'></dl></div><div class='xr-var-data'><pre>array([[nan, nan, nan, ..., nan, nan, nan],\n",
       "       [nan, nan, nan, ..., nan, nan, nan],\n",
       "       [nan, nan, nan, ..., nan, nan, nan],\n",
       "       ...,\n",
       "       [nan, nan, nan, ..., nan, nan, nan],\n",
       "       [nan, nan, nan, ..., nan, nan, nan],\n",
       "       [nan, nan, nan, ..., nan, nan, nan]], shape=(240, 360))</pre></div></li><li class='xr-var-item'><div class='xr-var-name'><span>cos_D</span></div><div class='xr-var-dims'>(time)</div><div class='xr-var-dtype'>float64</div><div class='xr-var-preview xr-preview'>0.9999 0.9994 0.9987 ... 0.9998 1.0</div><input id='attrs-041ea536-14fe-48e2-94cf-ddc3dc97f013' class='xr-var-attrs-in' type='checkbox' disabled><label for='attrs-041ea536-14fe-48e2-94cf-ddc3dc97f013' title='Show/Hide attributes'><svg class='icon xr-icon-file-text2'><use xlink:href='#icon-file-text2'></use></svg></label><input id='data-bc15d882-0472-4a11-adfc-62503b12659f' class='xr-var-data-in' type='checkbox'><label for='data-bc15d882-0472-4a11-adfc-62503b12659f' title='Show/Hide data repr'><svg class='icon xr-icon-database'><use xlink:href='#icon-database'></use></svg></label><div class='xr-var-attrs'><dl class='xr-attrs'></dl></div><div class='xr-var-data'><pre>array([0.999852, 0.999408, 0.998669, ..., 0.999251, 0.999769, 0.999991],\n",
       "      shape=(10227,))</pre></div></li><li class='xr-var-item'><div class='xr-var-name'><span>sin_D</span></div><div class='xr-var-dims'>(time)</div><div class='xr-var-dtype'>float64</div><div class='xr-var-preview xr-preview'>0.0172 0.0344 ... -0.0215 -0.004301</div><input id='attrs-7b3bb341-d0c4-4060-b50e-4f2a495c54e8' class='xr-var-attrs-in' type='checkbox' disabled><label for='attrs-7b3bb341-d0c4-4060-b50e-4f2a495c54e8' title='Show/Hide attributes'><svg class='icon xr-icon-file-text2'><use xlink:href='#icon-file-text2'></use></svg></label><input id='data-79345159-b1df-4ea0-ae85-7e8b332c3921' class='xr-var-data-in' type='checkbox'><label for='data-79345159-b1df-4ea0-ae85-7e8b332c3921' title='Show/Hide data repr'><svg class='icon xr-icon-database'><use xlink:href='#icon-database'></use></svg></label><div class='xr-var-attrs'><dl class='xr-attrs'></dl></div><div class='xr-var-data'><pre>array([ 0.017202,  0.034398,  0.051584, ..., -0.038696, -0.021501, -0.004301],\n",
       "      shape=(10227,))</pre></div></li></ul></div></li><li class='xr-section-item'><input id='section-0bce9e85-8303-4983-b98e-7abdbd8937e9' class='xr-section-summary-in' type='checkbox'  ><label for='section-0bce9e85-8303-4983-b98e-7abdbd8937e9' class='xr-section-summary' >Indexes: <span>(3)</span></label><div class='xr-section-inline-details'></div><div class='xr-section-details'><ul class='xr-var-list'><li class='xr-var-item'><div class='xr-index-name'><div>x1</div></div><div class='xr-index-preview'>PandasIndex</div><input type='checkbox' disabled/><label></label><input id='index-a5f74b6e-da77-4de3-994f-50ac3859fd64' class='xr-index-data-in' type='checkbox'/><label for='index-a5f74b6e-da77-4de3-994f-50ac3859fd64' title='Show/Hide index repr'><svg class='icon xr-icon-database'><use xlink:href='#icon-database'></use></svg></label><div class='xr-index-data'><pre>PandasIndex(Index([0.15230785746987846, 0.15417894344715513, 0.15605002942443139,\n",
       "       0.15792111540170806, 0.15979220137898476,   0.161663287356261,\n",
       "       0.16353437333353768, 0.16540545931081438, 0.16727654528809105,\n",
       "        0.1691476312653673,\n",
       "       ...\n",
       "        0.5826576322434853,  0.5845287182207616,  0.5863998041980383,\n",
       "         0.588270890175315,  0.5901419761525912,  0.5920130621298679,\n",
       "        0.5938841481071446,  0.5957552340844209,  0.5976263200616976,\n",
       "        0.5994974060389742],\n",
       "      dtype=&#x27;float64&#x27;, name=&#x27;x1&#x27;, length=240))</pre></div></li><li class='xr-var-item'><div class='xr-index-name'><div>x2</div></div><div class='xr-index-preview'>PandasIndex</div><input type='checkbox' disabled/><label></label><input id='index-968331bd-b479-436d-ae66-791348899898' class='xr-index-data-in' type='checkbox'/><label for='index-968331bd-b479-436d-ae66-791348899898' title='Show/Hide index repr'><svg class='icon xr-icon-database'><use xlink:href='#icon-database'></use></svg></label><div class='xr-index-data'><pre>PandasIndex(Index([0.021069144264622287,  0.02374529876968044,  0.02642145327473859,\n",
       "        0.02909760777979588,  0.03177376228485403,  0.03444991678991218,\n",
       "       0.037126071294970336, 0.039802225800027624,  0.04247838030508578,\n",
       "        0.04515453481014393,\n",
       "       ...\n",
       "         0.9577232210349057,   0.9603993755399638,    0.963075530045022,\n",
       "         0.9657516845500801,   0.9684278390551374,   0.9711039935601956,\n",
       "         0.9737801480652537,    0.976456302570311,   0.9791324570753691,\n",
       "         0.9818086115804273],\n",
       "      dtype=&#x27;float64&#x27;, name=&#x27;x2&#x27;, length=360))</pre></div></li><li class='xr-var-item'><div class='xr-index-name'><div>time</div></div><div class='xr-index-preview'>PandasIndex</div><input type='checkbox' disabled/><label></label><input id='index-e2d3112f-12e3-47c1-86fa-1b254e0eb1c0' class='xr-index-data-in' type='checkbox'/><label for='index-e2d3112f-12e3-47c1-86fa-1b254e0eb1c0' title='Show/Hide index repr'><svg class='icon xr-icon-database'><use xlink:href='#icon-database'></use></svg></label><div class='xr-index-data'><pre>PandasIndex(DatetimeIndex([&#x27;1995-01-01&#x27;, &#x27;1995-01-02&#x27;, &#x27;1995-01-03&#x27;, &#x27;1995-01-04&#x27;,\n",
       "               &#x27;1995-01-05&#x27;, &#x27;1995-01-06&#x27;, &#x27;1995-01-07&#x27;, &#x27;1995-01-08&#x27;,\n",
       "               &#x27;1995-01-09&#x27;, &#x27;1995-01-10&#x27;,\n",
       "               ...\n",
       "               &#x27;2022-12-22&#x27;, &#x27;2022-12-23&#x27;, &#x27;2022-12-24&#x27;, &#x27;2022-12-25&#x27;,\n",
       "               &#x27;2022-12-26&#x27;, &#x27;2022-12-27&#x27;, &#x27;2022-12-28&#x27;, &#x27;2022-12-29&#x27;,\n",
       "               &#x27;2022-12-30&#x27;, &#x27;2022-12-31&#x27;],\n",
       "              dtype=&#x27;datetime64[ns]&#x27;, name=&#x27;time&#x27;, length=10227, freq=&#x27;D&#x27;))</pre></div></li></ul></div></li><li class='xr-section-item'><input id='section-1018269c-bf46-41d3-86a1-8e879d76d3cc' class='xr-section-summary-in' type='checkbox' disabled ><label for='section-1018269c-bf46-41d3-86a1-8e879d76d3cc' class='xr-section-summary'  title='Expand/collapse section'>Attributes: <span>(0)</span></label><div class='xr-section-inline-details'></div><div class='xr-section-details'><dl class='xr-attrs'></dl></div></li></ul></div></div>"
      ],
      "text/plain": [
       "<xarray.Dataset> Size: 941kB\n",
       "Dimensions:     (x1: 240, x2: 360, time: 10227)\n",
       "Coordinates:\n",
       "  * x1          (x1) float64 2kB 0.1523 0.1542 0.1561 ... 0.5958 0.5976 0.5995\n",
       "  * x2          (x2) float64 3kB 0.02107 0.02375 0.02642 ... 0.9791 0.9818\n",
       "  * time        (time) datetime64[ns] 82kB 1995-01-01 1995-01-02 ... 2022-12-31\n",
       "Data variables:\n",
       "    bathymetry  (x1, x2) float64 691kB nan nan nan nan nan ... nan nan nan nan\n",
       "    cos_D       (time) float64 82kB 0.9999 0.9994 0.9987 ... 0.9993 0.9998 1.0\n",
       "    sin_D       (time) float64 82kB 0.0172 0.0344 0.05158 ... -0.0215 -0.004301"
      ]
     },
     "execution_count": 11,
     "metadata": {},
     "output_type": "execute_result"
    }
   ],
   "source": [
    "aux_ds"
   ]
  },
  {
   "cell_type": "markdown",
   "id": "5f5cf13d-7adb-41df-b5eb-ba2395de1d29",
   "metadata": {},
   "source": [
    "# Tasks"
   ]
  },
  {
   "cell_type": "markdown",
   "id": "b38acbd3-de41-445d-a120-ed86dda5252a",
   "metadata": {
    "tags": []
   },
   "source": [
    "## Generating random coordinates from inside the mask"
   ]
  },
  {
   "cell_type": "code",
   "execution_count": 25,
   "id": "12d91a53-e891-4464-a702-649de0cfc7e2",
   "metadata": {
    "tags": []
   },
   "outputs": [],
   "source": [
    "def generate_random_coordinates(mask_da, N):\n",
    "    \"\"\"\n",
    "    Generate N random normalized coordinates (x1, x2) within a given xarray mask.\n",
    "\n",
    "    Parameters:\n",
    "    mask_da (xarray.DataArray): 2D binary mask with 1.0 indicating valid points (e.g., lake areas).\n",
    "    N (int): Number of random coordinates to generate.\n",
    "\n",
    "    Returns:\n",
    "    numpy.ndarray: Array of shape (2, N) with normalized random x1, x2 coordinates.\n",
    "    \"\"\"\n",
    "    # Convert the xarray DataArray mask to a numpy array\n",
    "    mask = mask_da.values\n",
    "\n",
    "    # Get the valid indices where the mask is 1 (valid areas like lakes)\n",
    "    valid_indices = np.argwhere(mask == 1.0)\n",
    "\n",
    "    # Check if N is greater than the number of valid points\n",
    "    if N > valid_indices.shape[0]:\n",
    "        raise ValueError(\"N is greater than the number of valid points in the mask.\")\n",
    "\n",
    "    # Randomly select N points from the valid indices\n",
    "    random_indices = valid_indices[np.random.choice(valid_indices.shape[0], N, replace=False)]\n",
    "\n",
    "    # Separate the indices into x1 and x2\n",
    "    x1_coords = random_indices[:, 0]\n",
    "    x2_coords = random_indices[:, 1]\n",
    "\n",
    "    # Normalize the coordinates\n",
    "    x1_min, x1_max = 0, mask.shape[0] - 1\n",
    "    x2_min, x2_max = 0, mask.shape[1] - 1\n",
    "\n",
    "    normalized_x1 = (x1_coords - x1_min) / (x1_max - x1_min)\n",
    "    normalized_x2 = (x2_coords - x2_min) / (x2_max - x2_min)\n",
    "\n",
    "    # Combine into a single ndarray of shape (2, N)\n",
    "    random_coords = np.vstack((normalized_x1, normalized_x2))\n",
    "\n",
    "    return random_coords\n"
   ]
  },
  {
   "cell_type": "code",
   "execution_count": 28,
   "id": "0d9508a0-3707-4266-8bbf-ce9e664ff669",
   "metadata": {
    "tags": []
   },
   "outputs": [
    {
     "name": "stdout",
     "output_type": "stream",
     "text": [
      "[[0.72879331 0.5818399  0.82317802 0.42532855 0.30943847 0.27359618\n",
      "  0.76583035 0.38351254 0.28434886 0.40979689]\n",
      " [0.16694915 0.37627119 0.27711864 0.30084746 0.68559322 0.72542373\n",
      "  0.24915254 0.88644068 0.31186441 0.96271186]]\n"
     ]
    }
   ],
   "source": [
    "# Generate random coordinates within the lakes\n",
    "N = 10\n",
    "random_lake_points = generate_random_coordinates(lakemask.mask, N)\n",
    "\n",
    "print(random_lake_points)"
   ]
  },
  {
   "cell_type": "code",
   "execution_count": 27,
   "id": "95cc0577-5a36-45f4-b4e8-2a849b90f47a",
   "metadata": {
    "tags": []
   },
   "outputs": [
    {
     "data": {
      "image/png": "[encoded data removed]",
      "text/plain": [
       "<Figure size 800x600 with 1 Axes>"
      ]
     },
     "metadata": {},
     "output_type": "display_data"
    }
   ],
   "source": [
    "import matplotlib.pyplot as plt\n",
    "\n",
    "# Assuming random_coords is the (2, N) array from the previous step\n",
    "latitudes = random_lake_points[0, :]\n",
    "longitudes = random_lake_points[1, :]\n",
    "\n",
    "# Create a scatter plot\n",
    "plt.figure(figsize=(8, 6))\n",
    "plt.scatter(longitudes, latitudes, color='blue', alpha=0.5, s=10)\n",
    "plt.title(\"Scatter plot of N Random Coordinates within Lake Mask\")\n",
    "plt.xlabel(\"Longitude\")\n",
    "plt.ylabel(\"Latitude\")\n",
    "plt.show()\n"
   ]
  },
  {
   "cell_type": "code",
   "execution_count": 12,
   "id": "182c1497-16fe-49eb-8a29-494e4b7ff7cf",
   "metadata": {
    "tags": []
   },
   "outputs": [],
   "source": [
    "from deepsensor.data import TaskLoader\n",
    "task_loader = TaskLoader(context=[glsea, ice_concentration, aux_ds, lakemask], target=glsea)"
   ]
  },
  {
   "cell_type": "code",
   "execution_count": 29,
   "id": "00a1c2b7-bce1-43eb-83cf-70b103d4cd47",
   "metadata": {
    "tags": []
   },
   "outputs": [
    {
     "data": {
      "text/plain": [
       "(<xarray.Dataset> Size: 40GB\n",
       " Dimensions:  (time: 10221, x1: 838, x2: 1181)\n",
       " Coordinates:\n",
       "   * time     (time) datetime64[ns] 82kB 1995-01-01 1995-01-02 ... 2022-12-31\n",
       "   * x1       (x1) float32 3kB 0.0 0.0008475 0.001695 ... 0.7076 0.7085 0.7093\n",
       "   * x2       (x2) float32 5kB 0.0 0.0008475 0.001695 ... 0.9983 0.9992 1.0\n",
       " Data variables:\n",
       "     sst      (time, x1, x2) float32 40GB dask.array<chunksize=(366, 200, 200), meta=np.ndarray>\n",
       " Attributes:\n",
       "     CDI:          Climate Data Interface version 2.0.5 (https://mpimet.mpg.de...\n",
       "     CDO:          Climate Data Operators version 2.0.5 (https://mpimet.mpg.de...\n",
       "     Conventions:  CF-1.5\n",
       "     GDAL:         GDAL 2.1.3, released 2017/20/01\n",
       "     history:      Tue Feb 13 20:15:43 2024: cdo selyear,1995 GLSEA_SST_1995_2...\n",
       "     source:       1995_001_glsea.asc\n",
       "     title:        SST from Great Lakes Surface Environmental Analysis (GLSEA),\n",
       " <xarray.Dataset> Size: 77GB\n",
       " Dimensions:            (time: 18434, x1: 1024, x2: 1024)\n",
       " Coordinates:\n",
       "   * time               (time) datetime64[ns] 147kB 1972-12-01 ... 2023-05-21\n",
       "   * x1                 (x1) float32 4kB 0.7091 0.7085 ... 0.0007282 -3.551e-05\n",
       "   * x2                 (x2) float32 4kB 0.0005654 0.001543 ... 0.9998 1.001\n",
       " Data variables:\n",
       "     ice_concentration  (time, x1, x2) float32 77GB dask.array<chunksize=(366, 200, 200), meta=np.ndarray>\n",
       " Attributes: (12/23)\n",
       "     coverage_area:            Great Lakes\n",
       "     data_source:              NOAA\n",
       "     description:              Great Lakes ice concentrations\n",
       "     disclaimer:               Data collected and processed by NOAA and dissem...\n",
       "     dissemination:            USNIC Website, CIS Website\n",
       "     grid_resolution:          1.800 km\n",
       "     ...                       ...\n",
       "     product:                  GRID - Resolution 1800\n",
       "     source:                   NAIS daily Great Lakes ice analysis\n",
       "     source_url:               https://noaadata.apps.nsidc.org/NOAA/G10029/\n",
       "     spatial_extent:           Lat: 38.87N to 50.6N, Lon: 92.41W to 75.87W\n",
       "     time_range:               2009-01-01 to 2009-12-31\n",
       "     units:                    Ice concentration (%),\n",
       " <xarray.Dataset> Size: 512kB\n",
       " Dimensions:     (x1: 240, x2: 360, time: 10227)\n",
       " Coordinates:\n",
       "   * x1          (x1) float32 960B 0.1523 0.1542 0.1561 ... 0.5958 0.5976 0.5995\n",
       "   * x2          (x2) float32 1kB 0.02107 0.02375 0.02642 ... 0.9791 0.9818\n",
       "   * time        (time) datetime64[ns] 82kB 1995-01-01 1995-01-02 ... 2022-12-31\n",
       " Data variables:\n",
       "     bathymetry  (x1, x2) float32 346kB nan nan nan nan nan ... nan nan nan nan\n",
       "     cos_D       (time) float32 41kB 0.9999 0.9994 0.9987 ... 0.9993 0.9998 1.0\n",
       "     sin_D       (time) float32 41kB 0.0172 0.0344 0.05158 ... -0.0215 -0.004301,\n",
       " <xarray.Dataset> Size: 4MB\n",
       " Dimensions:  (x1: 838, x2: 1181)\n",
       " Coordinates:\n",
       "   * x1       (x1) float32 3kB 0.0 0.0008475 0.001695 ... 0.7076 0.7085 0.7093\n",
       "   * x2       (x2) float32 5kB 0.0 0.0008475 0.001695 ... 0.9983 0.9992 1.0\n",
       " Data variables:\n",
       "     mask     (x1, x2) float32 4MB -1.0 -1.0 -1.0 -1.0 ... -1.0 -1.0 -1.0 -1.0)"
      ]
     },
     "execution_count": 29,
     "metadata": {},
     "output_type": "execute_result"
    }
   ],
   "source": [
    "task_loader.context"
   ]
  },
  {
   "cell_type": "code",
   "execution_count": 18,
   "id": "b008f63a-9805-4985-b826-2f7db680e64e",
   "metadata": {
    "tags": []
   },
   "outputs": [
    {
     "ename": "InvalidSamplingStrategyError",
     "evalue": "Passed a numpy coordinate array to sample xarray object, but the coordinates are out of bounds.",
     "output_type": "error",
     "traceback": [
      "\u001b[0;31m---------------------------------------------------------------------------\u001b[0m",
      "\u001b[0;31mKeyError\u001b[0m                                  Traceback (most recent call last)",
      "File \u001b[0;32m~/deepsensor-greatlakes/venv/lib/python3.10/site-packages/deepsensor/data/loader.py:641\u001b[0m, in \u001b[0;36mTaskLoader.sample_da\u001b[0;34m(self, da, sampling_strat, seed)\u001b[0m\n\u001b[1;32m    640\u001b[0m \u001b[38;5;28;01mtry\u001b[39;00m:\n\u001b[0;32m--> 641\u001b[0m     Y_c \u001b[38;5;241m=\u001b[39m \u001b[43mda\u001b[49m\u001b[38;5;241;43m.\u001b[39;49m\u001b[43msel\u001b[49m\u001b[43m(\u001b[49m\n\u001b[1;32m    642\u001b[0m \u001b[43m        \u001b[49m\u001b[43mx1\u001b[49m\u001b[38;5;241;43m=\u001b[39;49m\u001b[43mxr\u001b[49m\u001b[38;5;241;43m.\u001b[39;49m\u001b[43mDataArray\u001b[49m\u001b[43m(\u001b[49m\u001b[43mX_c\u001b[49m\u001b[43m[\u001b[49m\u001b[38;5;241;43m0\u001b[39;49m\u001b[43m]\u001b[49m\u001b[43m)\u001b[49m\u001b[43m,\u001b[49m\n\u001b[1;32m    643\u001b[0m \u001b[43m        \u001b[49m\u001b[43mx2\u001b[49m\u001b[38;5;241;43m=\u001b[39;49m\u001b[43mxr\u001b[49m\u001b[38;5;241;43m.\u001b[39;49m\u001b[43mDataArray\u001b[49m\u001b[43m(\u001b[49m\u001b[43mX_c\u001b[49m\u001b[43m[\u001b[49m\u001b[38;5;241;43m1\u001b[39;49m\u001b[43m]\u001b[49m\u001b[43m)\u001b[49m\u001b[43m,\u001b[49m\n\u001b[1;32m    644\u001b[0m \u001b[43m        \u001b[49m\u001b[43mmethod\u001b[49m\u001b[38;5;241;43m=\u001b[39;49m\u001b[38;5;124;43m\"\u001b[39;49m\u001b[38;5;124;43mnearest\u001b[39;49m\u001b[38;5;124;43m\"\u001b[39;49m\u001b[43m,\u001b[49m\n\u001b[1;32m    645\u001b[0m \u001b[43m        \u001b[49m\u001b[43mtolerance\u001b[49m\u001b[38;5;241;43m=\u001b[39;49m\u001b[38;5;241;43m0.1\u001b[39;49m\u001b[43m,\u001b[49m\u001b[43m  \u001b[49m\u001b[38;5;66;43;03m# Maximum distance from observed point to sample\u001b[39;49;00m\n\u001b[1;32m    646\u001b[0m \u001b[43m    \u001b[49m\u001b[43m)\u001b[49m\n\u001b[1;32m    647\u001b[0m \u001b[38;5;28;01mexcept\u001b[39;00m \u001b[38;5;167;01mKeyError\u001b[39;00m:\n",
      "File \u001b[0;32m~/deepsensor-greatlakes/venv/lib/python3.10/site-packages/xarray/core/dataarray.py:1690\u001b[0m, in \u001b[0;36mDataArray.sel\u001b[0;34m(self, indexers, method, tolerance, drop, **indexers_kwargs)\u001b[0m\n\u001b[1;32m   1582\u001b[0m \u001b[38;5;250m\u001b[39m\u001b[38;5;124;03m\"\"\"Return a new DataArray whose data is given by selecting index\u001b[39;00m\n\u001b[1;32m   1583\u001b[0m \u001b[38;5;124;03mlabels along the specified dimension(s).\u001b[39;00m\n\u001b[1;32m   1584\u001b[0m \n\u001b[0;32m   (...)\u001b[0m\n\u001b[1;32m   1688\u001b[0m \u001b[38;5;124;03mDimensions without coordinates: points\u001b[39;00m\n\u001b[1;32m   1689\u001b[0m \u001b[38;5;124;03m\"\"\"\u001b[39;00m\n\u001b[0;32m-> 1690\u001b[0m ds \u001b[38;5;241m=\u001b[39m \u001b[38;5;28;43mself\u001b[39;49m\u001b[38;5;241;43m.\u001b[39;49m\u001b[43m_to_temp_dataset\u001b[49m\u001b[43m(\u001b[49m\u001b[43m)\u001b[49m\u001b[38;5;241;43m.\u001b[39;49m\u001b[43msel\u001b[49m\u001b[43m(\u001b[49m\n\u001b[1;32m   1691\u001b[0m \u001b[43m    \u001b[49m\u001b[43mindexers\u001b[49m\u001b[38;5;241;43m=\u001b[39;49m\u001b[43mindexers\u001b[49m\u001b[43m,\u001b[49m\n\u001b[1;32m   1692\u001b[0m \u001b[43m    \u001b[49m\u001b[43mdrop\u001b[49m\u001b[38;5;241;43m=\u001b[39;49m\u001b[43mdrop\u001b[49m\u001b[43m,\u001b[49m\n\u001b[1;32m   1693\u001b[0m \u001b[43m    \u001b[49m\u001b[43mmethod\u001b[49m\u001b[38;5;241;43m=\u001b[39;49m\u001b[43mmethod\u001b[49m\u001b[43m,\u001b[49m\n\u001b[1;32m   1694\u001b[0m \u001b[43m    \u001b[49m\u001b[43mtolerance\u001b[49m\u001b[38;5;241;43m=\u001b[39;49m\u001b[43mtolerance\u001b[49m\u001b[43m,\u001b[49m\n\u001b[1;32m   1695\u001b[0m \u001b[43m    \u001b[49m\u001b[38;5;241;43m*\u001b[39;49m\u001b[38;5;241;43m*\u001b[39;49m\u001b[43mindexers_kwargs\u001b[49m\u001b[43m,\u001b[49m\n\u001b[1;32m   1696\u001b[0m \u001b[43m\u001b[49m\u001b[43m)\u001b[49m\n\u001b[1;32m   1697\u001b[0m \u001b[38;5;28;01mreturn\u001b[39;00m \u001b[38;5;28mself\u001b[39m\u001b[38;5;241m.\u001b[39m_from_temp_dataset(ds)\n",
      "File \u001b[0;32m~/deepsensor-greatlakes/venv/lib/python3.10/site-packages/xarray/core/dataset.py:2890\u001b[0m, in \u001b[0;36mDataset.sel\u001b[0;34m(self, indexers, method, tolerance, drop, **indexers_kwargs)\u001b[0m\n\u001b[1;32m   2889\u001b[0m indexers \u001b[38;5;241m=\u001b[39m either_dict_or_kwargs(indexers, indexers_kwargs, \u001b[38;5;124m\"\u001b[39m\u001b[38;5;124msel\u001b[39m\u001b[38;5;124m\"\u001b[39m)\n\u001b[0;32m-> 2890\u001b[0m query_results \u001b[38;5;241m=\u001b[39m \u001b[43mmap_index_queries\u001b[49m\u001b[43m(\u001b[49m\n\u001b[1;32m   2891\u001b[0m \u001b[43m    \u001b[49m\u001b[38;5;28;43mself\u001b[39;49m\u001b[43m,\u001b[49m\u001b[43m \u001b[49m\u001b[43mindexers\u001b[49m\u001b[38;5;241;43m=\u001b[39;49m\u001b[43mindexers\u001b[49m\u001b[43m,\u001b[49m\u001b[43m \u001b[49m\u001b[43mmethod\u001b[49m\u001b[38;5;241;43m=\u001b[39;49m\u001b[43mmethod\u001b[49m\u001b[43m,\u001b[49m\u001b[43m \u001b[49m\u001b[43mtolerance\u001b[49m\u001b[38;5;241;43m=\u001b[39;49m\u001b[43mtolerance\u001b[49m\n\u001b[1;32m   2892\u001b[0m \u001b[43m\u001b[49m\u001b[43m)\u001b[49m\n\u001b[1;32m   2894\u001b[0m \u001b[38;5;28;01mif\u001b[39;00m drop:\n",
      "File \u001b[0;32m~/deepsensor-greatlakes/venv/lib/python3.10/site-packages/xarray/core/indexing.py:196\u001b[0m, in \u001b[0;36mmap_index_queries\u001b[0;34m(obj, indexers, method, tolerance, **indexers_kwargs)\u001b[0m\n\u001b[1;32m    195\u001b[0m     \u001b[38;5;28;01melse\u001b[39;00m:\n\u001b[0;32m--> 196\u001b[0m         results\u001b[38;5;241m.\u001b[39mappend(\u001b[43mindex\u001b[49m\u001b[38;5;241;43m.\u001b[39;49m\u001b[43msel\u001b[49m\u001b[43m(\u001b[49m\u001b[43mlabels\u001b[49m\u001b[43m,\u001b[49m\u001b[43m \u001b[49m\u001b[38;5;241;43m*\u001b[39;49m\u001b[38;5;241;43m*\u001b[39;49m\u001b[43moptions\u001b[49m\u001b[43m)\u001b[49m)\n\u001b[1;32m    198\u001b[0m merged \u001b[38;5;241m=\u001b[39m merge_sel_results(results)\n",
      "File \u001b[0;32m~/deepsensor-greatlakes/venv/lib/python3.10/site-packages/xarray/core/indexes.py:804\u001b[0m, in \u001b[0;36mPandasIndex.sel\u001b[0;34m(self, labels, method, tolerance)\u001b[0m\n\u001b[1;32m    803\u001b[0m     \u001b[38;5;28;01mif\u001b[39;00m np\u001b[38;5;241m.\u001b[39many(indexer \u001b[38;5;241m<\u001b[39m \u001b[38;5;241m0\u001b[39m):\n\u001b[0;32m--> 804\u001b[0m         \u001b[38;5;28;01mraise\u001b[39;00m \u001b[38;5;167;01mKeyError\u001b[39;00m(\u001b[38;5;124mf\u001b[39m\u001b[38;5;124m\"\u001b[39m\u001b[38;5;124mnot all values found in index \u001b[39m\u001b[38;5;132;01m{\u001b[39;00mcoord_name\u001b[38;5;132;01m!r}\u001b[39;00m\u001b[38;5;124m\"\u001b[39m)\n\u001b[1;32m    806\u001b[0m \u001b[38;5;66;03m# attach dimension names and/or coordinates to positional indexer\u001b[39;00m\n",
      "\u001b[0;31mKeyError\u001b[0m: \"not all values found in index 'x1'\"",
      "\nDuring handling of the above exception, another exception occurred:\n",
      "\u001b[0;31mInvalidSamplingStrategyError\u001b[0m              Traceback (most recent call last)",
      "Cell \u001b[0;32mIn[18], line 1\u001b[0m\n\u001b[0;32m----> 1\u001b[0m task \u001b[38;5;241m=\u001b[39m \u001b[43mtask_loader\u001b[49m\u001b[43m(\u001b[49m\u001b[38;5;124;43m\"\u001b[39;49m\u001b[38;5;124;43m2011-08-16\u001b[39;49m\u001b[38;5;124;43m\"\u001b[39;49m\u001b[43m,\u001b[49m\u001b[43m \u001b[49m\u001b[43mcontext_sampling\u001b[49m\u001b[38;5;241;43m=\u001b[39;49m\u001b[43mrandom_lake_points\u001b[49m\u001b[43m,\u001b[49m\u001b[43m \u001b[49m\u001b[43mtarget_sampling\u001b[49m\u001b[38;5;241;43m=\u001b[39;49m\u001b[38;5;124;43m\"\u001b[39;49m\u001b[38;5;124;43mall\u001b[39;49m\u001b[38;5;124;43m\"\u001b[39;49m\u001b[43m)\u001b[49m\n",
      "File \u001b[0;32m~/deepsensor-greatlakes/venv/lib/python3.10/site-packages/deepsensor/data/loader.py:1299\u001b[0m, in \u001b[0;36mTaskLoader.__call__\u001b[0;34m(self, date, context_sampling, target_sampling, split_frac, datewise_deterministic, seed_override)\u001b[0m\n\u001b[1;32m   1287\u001b[0m     \u001b[38;5;28;01mreturn\u001b[39;00m [\n\u001b[1;32m   1288\u001b[0m         \u001b[38;5;28mself\u001b[39m\u001b[38;5;241m.\u001b[39mtask_generation(\n\u001b[1;32m   1289\u001b[0m             d,\n\u001b[0;32m   (...)\u001b[0m\n\u001b[1;32m   1296\u001b[0m         \u001b[38;5;28;01mfor\u001b[39;00m d \u001b[38;5;129;01min\u001b[39;00m date\n\u001b[1;32m   1297\u001b[0m     ]\n\u001b[1;32m   1298\u001b[0m \u001b[38;5;28;01melse\u001b[39;00m:\n\u001b[0;32m-> 1299\u001b[0m     \u001b[38;5;28;01mreturn\u001b[39;00m \u001b[38;5;28;43mself\u001b[39;49m\u001b[38;5;241;43m.\u001b[39;49m\u001b[43mtask_generation\u001b[49m\u001b[43m(\u001b[49m\n\u001b[1;32m   1300\u001b[0m \u001b[43m        \u001b[49m\u001b[43mdate\u001b[49m\u001b[43m,\u001b[49m\n\u001b[1;32m   1301\u001b[0m \u001b[43m        \u001b[49m\u001b[43mcontext_sampling\u001b[49m\u001b[43m,\u001b[49m\n\u001b[1;32m   1302\u001b[0m \u001b[43m        \u001b[49m\u001b[43mtarget_sampling\u001b[49m\u001b[43m,\u001b[49m\n\u001b[1;32m   1303\u001b[0m \u001b[43m        \u001b[49m\u001b[43msplit_frac\u001b[49m\u001b[43m,\u001b[49m\n\u001b[1;32m   1304\u001b[0m \u001b[43m        \u001b[49m\u001b[43mdatewise_deterministic\u001b[49m\u001b[43m,\u001b[49m\n\u001b[1;32m   1305\u001b[0m \u001b[43m        \u001b[49m\u001b[43mseed_override\u001b[49m\u001b[43m,\u001b[49m\n\u001b[1;32m   1306\u001b[0m \u001b[43m    \u001b[49m\u001b[43m)\u001b[49m\n",
      "File \u001b[0;32m~/deepsensor-greatlakes/venv/lib/python3.10/site-packages/deepsensor/data/loader.py:1162\u001b[0m, in \u001b[0;36mTaskLoader.task_generation\u001b[0;34m(self, date, context_sampling, target_sampling, split_frac, datewise_deterministic, seed_override)\u001b[0m\n\u001b[1;32m   1158\u001b[0m \u001b[38;5;28;01mfor\u001b[39;00m i, (var, sampling_strat) \u001b[38;5;129;01min\u001b[39;00m \u001b[38;5;28menumerate\u001b[39m(\n\u001b[1;32m   1159\u001b[0m     \u001b[38;5;28mzip\u001b[39m(context_slices, context_sampling)\n\u001b[1;32m   1160\u001b[0m ):\n\u001b[1;32m   1161\u001b[0m     context_seed \u001b[38;5;241m=\u001b[39m seed \u001b[38;5;241m+\u001b[39m i \u001b[38;5;28;01mif\u001b[39;00m seed \u001b[38;5;129;01mis\u001b[39;00m \u001b[38;5;129;01mnot\u001b[39;00m \u001b[38;5;28;01mNone\u001b[39;00m \u001b[38;5;28;01melse\u001b[39;00m \u001b[38;5;28;01mNone\u001b[39;00m\n\u001b[0;32m-> 1162\u001b[0m     X_c, Y_c \u001b[38;5;241m=\u001b[39m \u001b[43msample_variable\u001b[49m\u001b[43m(\u001b[49m\u001b[43mvar\u001b[49m\u001b[43m,\u001b[49m\u001b[43m \u001b[49m\u001b[43msampling_strat\u001b[49m\u001b[43m,\u001b[49m\u001b[43m \u001b[49m\u001b[43mcontext_seed\u001b[49m\u001b[43m)\u001b[49m\n\u001b[1;32m   1163\u001b[0m     task[\u001b[38;5;124mf\u001b[39m\u001b[38;5;124m\"\u001b[39m\u001b[38;5;124mX_c\u001b[39m\u001b[38;5;124m\"\u001b[39m]\u001b[38;5;241m.\u001b[39mappend(X_c)\n\u001b[1;32m   1164\u001b[0m     task[\u001b[38;5;124mf\u001b[39m\u001b[38;5;124m\"\u001b[39m\u001b[38;5;124mY_c\u001b[39m\u001b[38;5;124m\"\u001b[39m]\u001b[38;5;241m.\u001b[39mappend(Y_c)\n",
      "File \u001b[0;32m~/deepsensor-greatlakes/venv/lib/python3.10/site-packages/deepsensor/data/loader.py:942\u001b[0m, in \u001b[0;36mTaskLoader.task_generation.<locals>.sample_variable\u001b[0;34m(var, sampling_strat, seed)\u001b[0m\n\u001b[1;32m    921\u001b[0m \u001b[38;5;250m\u001b[39m\u001b[38;5;124;03m\"\"\"\u001b[39;00m\n\u001b[1;32m    922\u001b[0m \u001b[38;5;124;03mSample a variable by a given sampling strategy to get input and\u001b[39;00m\n\u001b[1;32m    923\u001b[0m \u001b[38;5;124;03moutput data.\u001b[39;00m\n\u001b[0;32m   (...)\u001b[0m\n\u001b[1;32m    939\u001b[0m \u001b[38;5;124;03m        If the variable is of an unknown type.\u001b[39;00m\n\u001b[1;32m    940\u001b[0m \u001b[38;5;124;03m\"\"\"\u001b[39;00m\n\u001b[1;32m    941\u001b[0m \u001b[38;5;28;01mif\u001b[39;00m \u001b[38;5;28misinstance\u001b[39m(var, (xr\u001b[38;5;241m.\u001b[39mDataset, xr\u001b[38;5;241m.\u001b[39mDataArray)):\n\u001b[0;32m--> 942\u001b[0m     X, Y \u001b[38;5;241m=\u001b[39m \u001b[38;5;28;43mself\u001b[39;49m\u001b[38;5;241;43m.\u001b[39;49m\u001b[43msample_da\u001b[49m\u001b[43m(\u001b[49m\u001b[43mvar\u001b[49m\u001b[43m,\u001b[49m\u001b[43m \u001b[49m\u001b[43msampling_strat\u001b[49m\u001b[43m,\u001b[49m\u001b[43m \u001b[49m\u001b[43mseed\u001b[49m\u001b[43m)\u001b[49m\n\u001b[1;32m    943\u001b[0m \u001b[38;5;28;01melif\u001b[39;00m \u001b[38;5;28misinstance\u001b[39m(var, (pd\u001b[38;5;241m.\u001b[39mDataFrame, pd\u001b[38;5;241m.\u001b[39mSeries)):\n\u001b[1;32m    944\u001b[0m     X, Y \u001b[38;5;241m=\u001b[39m \u001b[38;5;28mself\u001b[39m\u001b[38;5;241m.\u001b[39msample_df(var, sampling_strat, seed)\n",
      "File \u001b[0;32m~/deepsensor-greatlakes/venv/lib/python3.10/site-packages/deepsensor/data/loader.py:648\u001b[0m, in \u001b[0;36mTaskLoader.sample_da\u001b[0;34m(self, da, sampling_strat, seed)\u001b[0m\n\u001b[1;32m    641\u001b[0m         Y_c \u001b[38;5;241m=\u001b[39m da\u001b[38;5;241m.\u001b[39msel(\n\u001b[1;32m    642\u001b[0m             x1\u001b[38;5;241m=\u001b[39mxr\u001b[38;5;241m.\u001b[39mDataArray(X_c[\u001b[38;5;241m0\u001b[39m]),\n\u001b[1;32m    643\u001b[0m             x2\u001b[38;5;241m=\u001b[39mxr\u001b[38;5;241m.\u001b[39mDataArray(X_c[\u001b[38;5;241m1\u001b[39m]),\n\u001b[1;32m    644\u001b[0m             method\u001b[38;5;241m=\u001b[39m\u001b[38;5;124m\"\u001b[39m\u001b[38;5;124mnearest\u001b[39m\u001b[38;5;124m\"\u001b[39m,\n\u001b[1;32m    645\u001b[0m             tolerance\u001b[38;5;241m=\u001b[39m\u001b[38;5;241m0.1\u001b[39m,  \u001b[38;5;66;03m# Maximum distance from observed point to sample\u001b[39;00m\n\u001b[1;32m    646\u001b[0m         )\n\u001b[1;32m    647\u001b[0m     \u001b[38;5;28;01mexcept\u001b[39;00m \u001b[38;5;167;01mKeyError\u001b[39;00m:\n\u001b[0;32m--> 648\u001b[0m         \u001b[38;5;28;01mraise\u001b[39;00m InvalidSamplingStrategyError(\n\u001b[1;32m    649\u001b[0m             \u001b[38;5;124mf\u001b[39m\u001b[38;5;124m\"\u001b[39m\u001b[38;5;124mPassed a numpy coordinate array to sample xarray object, \u001b[39m\u001b[38;5;124m\"\u001b[39m\n\u001b[1;32m    650\u001b[0m             \u001b[38;5;124mf\u001b[39m\u001b[38;5;124m\"\u001b[39m\u001b[38;5;124mbut the coordinates are out of bounds.\u001b[39m\u001b[38;5;124m\"\u001b[39m\n\u001b[1;32m    651\u001b[0m         )\n\u001b[1;32m    652\u001b[0m     Y_c \u001b[38;5;241m=\u001b[39m np\u001b[38;5;241m.\u001b[39marray(Y_c, dtype\u001b[38;5;241m=\u001b[39m\u001b[38;5;28mself\u001b[39m\u001b[38;5;241m.\u001b[39mdtype)\n\u001b[1;32m    654\u001b[0m \u001b[38;5;28;01melif\u001b[39;00m sampling_strat \u001b[38;5;129;01min\u001b[39;00m [\u001b[38;5;124m\"\u001b[39m\u001b[38;5;124mall\u001b[39m\u001b[38;5;124m\"\u001b[39m, \u001b[38;5;124m\"\u001b[39m\u001b[38;5;124mgapfill\u001b[39m\u001b[38;5;124m\"\u001b[39m]:\n",
      "\u001b[0;31mInvalidSamplingStrategyError\u001b[0m: Passed a numpy coordinate array to sample xarray object, but the coordinates are out of bounds."
     ]
    }
   ],
   "source": [
    "task = task_loader(\"2011-08-16\", context_sampling=random_lake_points, target_sampling=\"all\")"
   ]
  },
  {
   "cell_type": "code",
   "execution_count": null,
   "id": "1f819c46-8bb0-4658-b82d-df092f31b868",
   "metadata": {
    "tags": []
   },
   "outputs": [],
   "source": [
    "dates"
   ]
  },
  {
   "cell_type": "code",
   "execution_count": 24,
   "id": "ce9de15b-08da-4c23-9762-def4876984ce",
   "metadata": {
    "tags": []
   },
   "outputs": [
    {
     "data": {
      "text/plain": [
       "np.float64(0.8446833930704899)"
      ]
     },
     "execution_count": 24,
     "metadata": {},
     "output_type": "execute_result"
    }
   ],
   "source": [
    "random_lake_points[0,:].max()"
   ]
  },
  {
   "cell_type": "code",
   "execution_count": null,
   "id": "1e75692f-5509-43c8-99a6-f14fb1ef3679",
   "metadata": {},
   "outputs": [],
   "source": []
  }
 ],
 "metadata": {
  "environment": {
   "kernel": "venv",
   "name": "workbench-notebooks.m129",
   "type": "gcloud",
   "uri": "us-docker.pkg.dev/deeplearning-platform-release/gcr.io/workbench-notebooks:m129"
  },
  "kernelspec": {
   "display_name": "Python (deepsensor_env_gpu) (Local)",
   "language": "python",
   "name": "venv"
  },
  "language_info": {
   "codemirror_mode": {
    "name": "ipython",
    "version": 3
   },
   "file_extension": ".py",
   "mimetype": "text/x-python",
   "name": "python",
   "nbconvert_exporter": "python",
   "pygments_lexer": "ipython3",
   "version": "3.10.16"
  }
 },
 "nbformat": 4,
 "nbformat_minor": 5
}
