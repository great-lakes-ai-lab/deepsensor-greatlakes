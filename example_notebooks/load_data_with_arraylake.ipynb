{
 "cells": [
  {
   "cell_type": "markdown",
   "metadata": {},
   "source": [
    "# Loading data with ArrayLake"
   ]
  },
  {
   "cell_type": "markdown",
   "metadata": {},
   "source": [
    "This notebook illustrates how to load the GLSEA and GLSEA3 datasets using array lake. Once you have been added to the \"Great Lakes AI Lab\" ArrayLake organization, and once you have set up this `deepsensor-greatlakes` repository, the steps below should work to get you connected with GLSEA and GLSEA3 data.\n",
    "\n",
    "First, from within your virtual environment (assuming you have set one up), run the following command to authenticate:\n",
    "```bash\n",
    "arraylake auth login --no-browser\n",
    "```\n",
    "or, if you are working in browser, this command should work:\n",
    "```bash\n",
    "arraylake auth login \n",
    "```\n",
    "After authentication has been carried out, you should be able to connect to the repositories and load the datasets. "
   ]
  },
  {
   "cell_type": "code",
   "execution_count": 1,
   "metadata": {},
   "outputs": [],
   "source": [
    "import warnings\n",
    "warnings.filterwarnings('ignore')\n",
    "\n",
    "from arraylake import Client\n",
    "\n",
    "# Instantiate an ArrayLake client \n",
    "client = Client()"
   ]
  },
  {
   "cell_type": "code",
   "execution_count": 2,
   "metadata": {},
   "outputs": [],
   "source": [
    "# Connect to context datasets\n",
    "context_repo = client.get_repo('great-lakes-ai-lab/great-lakes-osd')\n",
    "ds_bathymetry = context_repo.to_xarray(\"bathymetry\")\n",
    "ds_lakemask = context_repo.to_xarray(\"lakemask\")"
   ]
  },
  {
   "cell_type": "code",
   "execution_count": 3,
   "metadata": {},
   "outputs": [
    {
     "name": "stdout",
     "output_type": "stream",
     "text": [
      "<xarray.Dataset> Size: 23GB\n",
      "Dimensions:  (time: 5863, lat: 838, lon: 1181)\n",
      "Coordinates:\n",
      "  * time     (time) datetime64[ns] 47kB 2006-12-11T12:00:00 ... 2022-12-31T12...\n",
      "  * lat      (lat) float64 7kB 38.87 38.89 38.9 38.92 ... 50.58 50.59 50.61\n",
      "  * lon      (lon) float64 9kB -92.42 -92.41 -92.39 ... -75.91 -75.9 -75.88\n",
      "Data variables:\n",
      "    crs      (time) |S1 6kB ...\n",
      "    sst      (time, lat, lon) float32 23GB ...\n",
      "Attributes:\n",
      "    CDI:          Climate Data Interface version 2.0.5 (https://mpimet.mpg.de...\n",
      "    CDO:          Climate Data Operators version 2.0.5 (https://mpimet.mpg.de...\n",
      "    Conventions:  CF-1.5\n",
      "    GDAL:         GDAL 2.1.3, released 2017/20/01\n",
      "    NCO:          netCDF Operators version 4.7.5 (Homepage = http://nco.sf.ne...\n",
      "    history:      Tue Feb 13 20:43:56 2024: cdo selyear,2006 GLSEA3_SST_2006_...\n",
      "    source:       2006_345_glsea.asc\n",
      "    title:        SST from Great Lakes Surface Environmental Analysis (GLSEA)\n"
     ]
    }
   ],
   "source": [
    "# Connect to the GLSEA repository and open in xarray\n",
    "glsea3_repo = client.get_repo('great-lakes-ai-lab/glsea3')\n",
    "ds_glsea3 = glsea3_repo.to_xarray()\n",
    "\n",
    "# Display GLSEA3 xarray dataset\n",
    "print(ds_glsea3)"
   ]
  },
  {
   "cell_type": "code",
   "execution_count": 4,
   "metadata": {},
   "outputs": [
    {
     "name": "stdout",
     "output_type": "stream",
     "text": [
      "<xarray.Dataset> Size: 40GB\n",
      "Dimensions:  (lat: 838, time: 10221, lon: 1181)\n",
      "Coordinates:\n",
      "  * lat      (lat) float64 7kB 38.87 38.89 38.9 38.92 ... 50.58 50.59 50.61\n",
      "  * time     (time) datetime64[ns] 82kB 1995-01-01T12:00:00 ... 2022-12-31T12...\n",
      "  * lon      (lon) float64 9kB -92.42 -92.41 -92.39 ... -75.91 -75.9 -75.88\n",
      "Data variables:\n",
      "    crs      (time) |S1 10kB ...\n",
      "    sst      (time, lat, lon) float32 40GB ...\n",
      "Attributes:\n",
      "    CDI:          Climate Data Interface version 2.0.5 (https://mpimet.mpg.de...\n",
      "    CDO:          Climate Data Operators version 2.0.5 (https://mpimet.mpg.de...\n",
      "    Conventions:  CF-1.5\n",
      "    GDAL:         GDAL 2.1.3, released 2017/20/01\n",
      "    history:      Tue Feb 13 20:15:43 2024: cdo selyear,1995 GLSEA_SST_1995_2...\n",
      "    source:       1995_001_glsea.asc\n",
      "    title:        SST from Great Lakes Surface Environmental Analysis (GLSEA)\n"
     ]
    }
   ],
   "source": [
    "# Connect to the GLSEA repository and open in xarray\n",
    "glsea_repo = client.get_repo('great-lakes-ai-lab/glsea')\n",
    "ds_glsea = glsea_repo.to_xarray('glsea-data')\n",
    "\n",
    "# Display GLSEA3 xarray dataset\n",
    "print(ds_glsea)"
   ]
  }
 ],
 "metadata": {
  "kernelspec": {
   "display_name": "deepsensor_env",
   "language": "python",
   "name": "python3"
  },
  "language_info": {
   "codemirror_mode": {
    "name": "ipython",
    "version": 3
   },
   "file_extension": ".py",
   "mimetype": "text/x-python",
   "name": "python",
   "nbconvert_exporter": "python",
   "pygments_lexer": "ipython3",
   "version": "3.12.8"
  }
 },
 "nbformat": 4,
 "nbformat_minor": 2
}
