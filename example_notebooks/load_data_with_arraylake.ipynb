{
 "cells": [
  {
   "cell_type": "markdown",
   "metadata": {},
   "source": [
    "# Loading data with ArrayLake"
   ]
  },
  {
   "cell_type": "markdown",
   "metadata": {},
   "source": [
    "This notebook illustrates how to load the GLSEA and GLSEA3 datasets using array lake. Once you have been added to the \"Great Lakes AI Lab\" ArrayLake organization, and once you have set up this `deepsensor-greatlakes` repository, the steps below should work to get you connected with GLSEA and GLSEA3 data.\n",
    "\n",
    "First, from within your virtual environment (assuming you have set one up), run the following command to authenticate:\n",
    "```bash\n",
    "arraylake auth login --no-browser\n",
    "```\n",
    "or, if you are working in browser, this command should work:\n",
    "```bash\n",
    "arraylake auth login \n",
    "```\n",
    "After authentication has been carried out, you should be able to connect to the repositories and load the datasets. "
   ]
  },
  {
   "cell_type": "code",
   "execution_count": null,
   "metadata": {},
   "outputs": [],
   "source": [
    "from arraylake import Client"
   ]
  },
  {
   "cell_type": "code",
   "execution_count": null,
   "metadata": {},
   "outputs": [],
   "source": [
    "client = Client()\n",
    "\n",
    "# connect to the GLSEA repository and open in xarray\n",
    "glsea3_repo = client.get_repo('great-lakes-ai-lab/glsea3')\n",
    "ds_glsea3 = glsea3_repo.to_xarray()\n",
    "\n",
    "# connect to the GLSEA repository and open in xarray\n",
    "glsea_repo = client.get_repo('great-lakes-ai-lab/glsea')\n",
    "ds_glsea = glsea_repo.to_xarray('glsea-data')"
   ]
  },
  {
   "cell_type": "code",
   "execution_count": null,
   "metadata": {},
   "outputs": [],
   "source": []
  }
 ],
 "metadata": {
  "kernelspec": {
   "display_name": "base",
   "language": "python",
   "name": "python3"
  },
  "language_info": {
   "codemirror_mode": {
    "name": "ipython",
    "version": 3
   },
   "file_extension": ".py",
   "mimetype": "text/x-python",
   "name": "python",
   "nbconvert_exporter": "python",
   "pygments_lexer": "ipython3",
   "version": "3.12.2"
  }
 },
 "nbformat": 4,
 "nbformat_minor": 2
}
