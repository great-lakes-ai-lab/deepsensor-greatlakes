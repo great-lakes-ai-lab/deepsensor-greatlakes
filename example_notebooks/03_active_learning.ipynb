{
 "cells": [
  {
   "cell_type": "markdown",
   "id": "89ed65a0-4f33-4c90-bfc2-66bd057a3c15",
   "metadata": {},
   "source": [
    "# Active Learning with ConvNP Model\n",
    "\n",
    "In this notebook, we implement **active learning** to improve model training by selecting the most informative data points for the model to focus on. Specifically, we:\n",
    "1. Preprocess the dataset and define helper functions for data normalization.\n",
    "2. Use a **Greedy Algorithm** for active learning to iteratively sample the most uncertain data points.\n",
    "3. Implement **Standard Deviation Acquisition Function** to guide the model to focus on uncertain regions in the data.\n",
    "4. Visualize the placement of new data points selected by active learning.\n",
    "\n",
    "Let’s begin by importing necessary packages and defining helper functions.\n"
   ]
  },
  {
   "cell_type": "markdown",
   "id": "6ce7980f-6ead-4b29-b2ee-bbd6ac622b0f",
   "metadata": {},
   "source": [
    "## Step 1: Import Packages\n",
    "\n",
    "We import the libraries required for:\n",
    "- Data manipulation and visualization (`xarray`, `pandas`, `matplotlib`).\n",
    "- Geospatial operations (`cartopy`).\n",
    "- Active learning (`deepsensor`).\n",
    "- PyTorch for model training and inference.\n",
    "\n",
    "We also import local helper functions like `standardize_dates` for normalizing the 'time' dimension to date-only precision and `generate_random_coordinates` to sample random coordinates from the lake mask.\n"
   ]
  },
  {
   "cell_type": "code",
   "execution_count": 1,
   "id": "f58f0805-460d-4cd6-aa89-5e8769c06b0a",
   "metadata": {},
   "outputs": [],
   "source": [
    "import xarray as xr\n",
    "import numpy as np\n",
    "import pandas as pd\n",
    "import matplotlib.pyplot as plt\n",
    "import cartopy.crs as ccrs\n",
    "import cartopy.feature as cfeature\n",
    "import dask.array as da\n",
    "import os\n",
    "\n",
    "import json\n",
    "import torch  \n",
    "\n",
    "import torch\n",
    "import deepsensor.torch\n",
    "from deepsensor.data import DataProcessor, TaskLoader, construct_circ_time_ds\n",
    "from deepsensor.model.nps import construct_neural_process\n",
    "from deepsensor.model import ConvNP\n",
    "from deepsensor.train import Trainer, set_gpu_default_device\n",
    "\n",
    "# Local package utilities\n",
    "from deepsensor_greatlakes.utils import standardize_dates, generate_random_coordinates\n",
    "from deepsensor_greatlakes.model import save_model, load_convnp_model"
   ]
  },
  {
   "cell_type": "code",
   "execution_count": 2,
   "id": "466bb243-efbb-4179-9aca-dd586669f41f",
   "metadata": {},
   "outputs": [],
   "source": [
    "set_gpu_default_device()"
   ]
  },
  {
   "cell_type": "markdown",
   "id": "aff56a0f-1836-4514-b4d6-0630c911adfa",
   "metadata": {},
   "source": [
    "## Step 2: Data Inventory and Preprocessing\n",
    "\n",
    "In this section, we load and preprocess the required datasets for active learning:\n",
    "- **Ice Concentration**: A dataset containing information about ice cover over time in the Great Lakes.\n",
    "- **GLSEA (Sea Surface Temperature)**: A dataset representing sea surface temperature over time.\n",
    "- **Bathymetry**: A dataset of underwater topography.\n",
    "- **Lake Mask**: A binary mask indicating water presence.\n",
    "\n",
    "These datasets are loaded from U-M HPC storage and undergo preprocessing, such as replacing invalid land values with `NaN` and standardizing the time dimension.\n"
   ]
  },
  {
   "cell_type": "code",
   "execution_count": 3,
   "id": "b0521f40-5a2c-421a-8460-d6a03b75a305",
   "metadata": {},
   "outputs": [],
   "source": [
    "# Training/data config (adapted for Great Lakes)\n",
    "data_range = (\"2009-01-01\", \"2022-12-31\")\n",
    "train_range = (\"2009-01-01\", \"2021-12-31\")\n",
    "val_range = (\"2022-01-01\", \"2022-12-31\")\n",
    "date_subsample_factor = 10\n",
    "extent = \"great_lakes\"\n",
    "\n",
    "deepsensor_folder = \"../saved_models/run00/\"\n",
    "#deepsensor_folder = \"../deepsensor_config/\""
   ]
  },
  {
   "cell_type": "code",
   "execution_count": 4,
   "id": "0073e24b-7a33-40b2-a2eb-84151dea587e",
   "metadata": {},
   "outputs": [],
   "source": [
    "# Path to the files on U-M HPC\n",
    "bathymetry_path = '/nfs/turbo/seas-dannes/SST-sensor-placement-input/bathymetry/interpolated_bathymetry.nc'\n",
    "mask_path = '/nfs/turbo/seas-dannes/SST-sensor-placement-input/masks/lakemask.nc'\n",
    "ice_concentration_path = '/nfs/turbo/seas-dannes/SST-sensor-placement-input/NSIDC/ice_concentration.zarr'\n",
    "glsea_path = '/nfs/turbo/seas-dannes/SST-sensor-placement-input/GLSEA_combined.zarr'\n",
    "glsea3_path = '/nfs/turbo/seas-dannes/SST-sensor-placement-input/GLSEA3_combined.zarr'"
   ]
  },
  {
   "cell_type": "markdown",
   "id": "0123d63a-9800-441e-b978-53721fac29e9",
   "metadata": {},
   "source": [
    "## Step 3: Loading Temporal Datasets (Ice Concentration and GLSEA)\n",
    "\n",
    "In this section, we load the **Ice Concentration** and **GLSEA** datasets stored in Zarr format. These datasets contain temporal data on ice cover and sea surface temperature.\n",
    "\n",
    "Preprocessing steps include:\n",
    "1. Replacing invalid land values (denoted by `-1`) with `NaN`.\n",
    "2. Converting the time dimension to date-only format.\n",
    "3. Dropping unnecessary variables, such as **CRS**.\n",
    "\n",
    "We proceed by loading and preprocessing these datasets.\n"
   ]
  },
  {
   "cell_type": "code",
   "execution_count": 5,
   "id": "4f1fd07d-37c4-4cb7-8f57-4c6b6438ab0d",
   "metadata": {},
   "outputs": [],
   "source": [
    "# Open the Zarr stores\n",
    "ice_concentration_raw = xr.open_zarr(ice_concentration_path, chunks={'time': 366, 'lat': 200, 'lon': 200})\n",
    "glsea_raw = xr.open_zarr(glsea_path, chunks={'time': 366, 'lat': 200, 'lon': 200})\n",
    "glsea3_raw = xr.open_zarr(glsea3_path, chunks={'time': 366, 'lat': 200, 'lon': 200})\n",
    "\n",
    "# Replace -1 (land value) with NaN\n",
    "ice_concentration_raw = ice_concentration_raw.where(ice_concentration_raw != -1, float('nan'))\n",
    "\n",
    "# Convert all times to date-only format, removing the time component\n",
    "ice_concentration_raw = standardize_dates(ice_concentration_raw)\n",
    "glsea_raw = standardize_dates(glsea_raw)\n",
    "glsea3_raw = standardize_dates(glsea3_raw)\n",
    "\n",
    "# Drop CRS - not needed\n",
    "glsea_raw = glsea_raw.drop_vars('crs')\n",
    "glsea3_raw = glsea3_raw.drop_vars('crs')"
   ]
  },
  {
   "cell_type": "markdown",
   "id": "586ccdc7-dab8-414a-9b61-afbb4d17c1b0",
   "metadata": {},
   "source": [
    "## Step 4: Loading Static Datasets (Lake Mask and Bathymetry)\n",
    "\n",
    "We now load two static datasets:\n",
    "- **Bathymetry**: The underwater features of the Great Lakes.\n",
    "- **Lake Mask**: A binary mask that identifies water areas.\n",
    "\n",
    "These datasets are opened from NetCDF files and processed similarly to the temporal datasets.\n"
   ]
  },
  {
   "cell_type": "code",
   "execution_count": 6,
   "id": "53cd7d03-e21f-4510-8ede-d2e0c08de68f",
   "metadata": {},
   "outputs": [],
   "source": [
    "# Open the NetCDF files using xarray with gcsfs\n",
    "bathymetry_raw = xr.open_dataset(bathymetry_path)\n",
    "lakemask_raw = xr.open_dataset(mask_path)"
   ]
  },
  {
   "cell_type": "markdown",
   "id": "eb87615b-6bc5-4f23-a143-8e3a3e300c77",
   "metadata": {},
   "source": [
    "## Step 5: Initialize the Data Processor\n",
    "\n",
    "The **DataProcessor** from DeepSensor is used to preprocess and normalize the data. It standardizes and normalizes the datasets for model training, ensuring consistency in feature scaling across training examples.\n",
    "\n",
    "We initialize the **DataProcessor** and apply it to the datasets.\n"
   ]
  },
  {
   "cell_type": "code",
   "execution_count": 7,
   "id": "75ba1977-3cfd-4ee0-80af-ef815e55689b",
   "metadata": {},
   "outputs": [
    {
     "name": "stdout",
     "output_type": "stream",
     "text": [
      "DataProcessor with normalisation params:\n",
      "{'bathymetry': {'method': 'min_max',\n",
      "                'params': {'max': 316.62872313037894,\n",
      "                           'min': 9.999999999999998}},\n",
      " 'coords': {'time': {'name': 'time'},\n",
      "            'x1': {'map': (38.8749871947229, 55.4132976408956), 'name': 'lat'},\n",
      "            'x2': {'map': (-92.4199507342304, -75.8816402880577),\n",
      "                   'name': 'lon'}},\n",
      " 'mask': {'method': 'min_max', 'params': {'max': 1.0, 'min': 0.0}},\n",
      " 'sst': {'method': 'mean_std',\n",
      "         'params': {'mean': 7.873531818389893, 'std': 6.944828510284424}}}\n"
     ]
    }
   ],
   "source": [
    "data_processor = DataProcessor(\"../deepsensor_config/\")\n",
    "print(data_processor)"
   ]
  },
  {
   "cell_type": "code",
   "execution_count": 8,
   "id": "78bcf884-1daf-4a5b-b42f-a52c02c9cd93",
   "metadata": {},
   "outputs": [],
   "source": [
    "glsea = data_processor(glsea_raw)\n",
    "\n",
    "# process the bathymetry and lake\n",
    "aux_ds, lakemask = data_processor([bathymetry_raw, lakemask_raw], method=\"min_max\")"
   ]
  },
  {
   "cell_type": "code",
   "execution_count": 9,
   "id": "af9e550e-dd77-4e32-a3b0-962b401f60e4",
   "metadata": {},
   "outputs": [],
   "source": [
    "dates = pd.date_range(glsea_raw.time.values.min(), glsea_raw.time.values.max(), freq=\"D\")\n",
    "dates = pd.to_datetime(dates).normalize()  # This will set all times to 00:00:00"
   ]
  },
  {
   "cell_type": "code",
   "execution_count": 10,
   "id": "ac48a6d8-8f14-4de0-94b4-d7d7f5ab8003",
   "metadata": {},
   "outputs": [],
   "source": [
    "# Generate training and validation tasks\n",
    "train_dates = pd.date_range(train_range[0], train_range[1])[::date_subsample_factor]\n",
    "val_dates = pd.date_range(val_range[0], val_range[1])[::date_subsample_factor]\n",
    "\n",
    "# Standardize the dates so they are datetime64[D] (date only, no time)\n",
    "train_dates = pd.to_datetime(train_dates).normalize()  # This will set the time to 00:00:00\n",
    "val_dates = pd.to_datetime(val_dates).normalize()      # This will set the time to 00:00:00"
   ]
  },
  {
   "cell_type": "code",
   "execution_count": 11,
   "id": "b57c17ce-a5be-4ebb-a90e-837196ac0500",
   "metadata": {},
   "outputs": [
    {
     "data": {
      "text/html": [
       "<div><svg style=\"position: absolute; width: 0; height: 0; overflow: hidden\">\n",
       "<defs>\n",
       "<symbol id=\"icon-database\" viewBox=\"0 0 32 32\">\n",
       "<path d=\"M16 0c-8.837 0-16 2.239-16 5v4c0 2.761 7.163 5 16 5s16-2.239 16-5v-4c0-2.761-7.163-5-16-5z\"></path>\n",
       "<path d=\"M16 17c-8.837 0-16-2.239-16-5v6c0 2.761 7.163 5 16 5s16-2.239 16-5v-6c0 2.761-7.163 5-16 5z\"></path>\n",
       "<path d=\"M16 26c-8.837 0-16-2.239-16-5v6c0 2.761 7.163 5 16 5s16-2.239 16-5v-6c0 2.761-7.163 5-16 5z\"></path>\n",
       "</symbol>\n",
       "<symbol id=\"icon-file-text2\" viewBox=\"0 0 32 32\">\n",
       "<path d=\"M28.681 7.159c-0.694-0.947-1.662-2.053-2.724-3.116s-2.169-2.030-3.116-2.724c-1.612-1.182-2.393-1.319-2.841-1.319h-15.5c-1.378 0-2.5 1.121-2.5 2.5v27c0 1.378 1.122 2.5 2.5 2.5h23c1.378 0 2.5-1.122 2.5-2.5v-19.5c0-0.448-0.137-1.23-1.319-2.841zM24.543 5.457c0.959 0.959 1.712 1.825 2.268 2.543h-4.811v-4.811c0.718 0.556 1.584 1.309 2.543 2.268zM28 29.5c0 0.271-0.229 0.5-0.5 0.5h-23c-0.271 0-0.5-0.229-0.5-0.5v-27c0-0.271 0.229-0.5 0.5-0.5 0 0 15.499-0 15.5 0v7c0 0.552 0.448 1 1 1h7v19.5z\"></path>\n",
       "<path d=\"M23 26h-14c-0.552 0-1-0.448-1-1s0.448-1 1-1h14c0.552 0 1 0.448 1 1s-0.448 1-1 1z\"></path>\n",
       "<path d=\"M23 22h-14c-0.552 0-1-0.448-1-1s0.448-1 1-1h14c0.552 0 1 0.448 1 1s-0.448 1-1 1z\"></path>\n",
       "<path d=\"M23 18h-14c-0.552 0-1-0.448-1-1s0.448-1 1-1h14c0.552 0 1 0.448 1 1s-0.448 1-1 1z\"></path>\n",
       "</symbol>\n",
       "</defs>\n",
       "</svg>\n",
       "<style>/* CSS stylesheet for displaying xarray objects in jupyterlab.\n",
       " *\n",
       " */\n",
       "\n",
       ":root {\n",
       "  --xr-font-color0: var(--jp-content-font-color0, rgba(0, 0, 0, 1));\n",
       "  --xr-font-color2: var(--jp-content-font-color2, rgba(0, 0, 0, 0.54));\n",
       "  --xr-font-color3: var(--jp-content-font-color3, rgba(0, 0, 0, 0.38));\n",
       "  --xr-border-color: var(--jp-border-color2, #e0e0e0);\n",
       "  --xr-disabled-color: var(--jp-layout-color3, #bdbdbd);\n",
       "  --xr-background-color: var(--jp-layout-color0, white);\n",
       "  --xr-background-color-row-even: var(--jp-layout-color1, white);\n",
       "  --xr-background-color-row-odd: var(--jp-layout-color2, #eeeeee);\n",
       "}\n",
       "\n",
       "html[theme=\"dark\"],\n",
       "html[data-theme=\"dark\"],\n",
       "body[data-theme=\"dark\"],\n",
       "body.vscode-dark {\n",
       "  --xr-font-color0: rgba(255, 255, 255, 1);\n",
       "  --xr-font-color2: rgba(255, 255, 255, 0.54);\n",
       "  --xr-font-color3: rgba(255, 255, 255, 0.38);\n",
       "  --xr-border-color: #1f1f1f;\n",
       "  --xr-disabled-color: #515151;\n",
       "  --xr-background-color: #111111;\n",
       "  --xr-background-color-row-even: #111111;\n",
       "  --xr-background-color-row-odd: #313131;\n",
       "}\n",
       "\n",
       ".xr-wrap {\n",
       "  display: block !important;\n",
       "  min-width: 300px;\n",
       "  max-width: 700px;\n",
       "}\n",
       "\n",
       ".xr-text-repr-fallback {\n",
       "  /* fallback to plain text repr when CSS is not injected (untrusted notebook) */\n",
       "  display: none;\n",
       "}\n",
       "\n",
       ".xr-header {\n",
       "  padding-top: 6px;\n",
       "  padding-bottom: 6px;\n",
       "  margin-bottom: 4px;\n",
       "  border-bottom: solid 1px var(--xr-border-color);\n",
       "}\n",
       "\n",
       ".xr-header > div,\n",
       ".xr-header > ul {\n",
       "  display: inline;\n",
       "  margin-top: 0;\n",
       "  margin-bottom: 0;\n",
       "}\n",
       "\n",
       ".xr-obj-type,\n",
       ".xr-array-name {\n",
       "  margin-left: 2px;\n",
       "  margin-right: 10px;\n",
       "}\n",
       "\n",
       ".xr-obj-type {\n",
       "  color: var(--xr-font-color2);\n",
       "}\n",
       "\n",
       ".xr-sections {\n",
       "  padding-left: 0 !important;\n",
       "  display: grid;\n",
       "  grid-template-columns: 150px auto auto 1fr 0 20px 0 20px;\n",
       "}\n",
       "\n",
       ".xr-section-item {\n",
       "  display: contents;\n",
       "}\n",
       "\n",
       ".xr-section-item input {\n",
       "  display: inline-block;\n",
       "  opacity: 0;\n",
       "  height: 0;\n",
       "}\n",
       "\n",
       ".xr-section-item input + label {\n",
       "  color: var(--xr-disabled-color);\n",
       "}\n",
       "\n",
       ".xr-section-item input:enabled + label {\n",
       "  cursor: pointer;\n",
       "  color: var(--xr-font-color2);\n",
       "}\n",
       "\n",
       ".xr-section-item input:focus + label {\n",
       "  border: 2px solid var(--xr-font-color0);\n",
       "}\n",
       "\n",
       ".xr-section-item input:enabled + label:hover {\n",
       "  color: var(--xr-font-color0);\n",
       "}\n",
       "\n",
       ".xr-section-summary {\n",
       "  grid-column: 1;\n",
       "  color: var(--xr-font-color2);\n",
       "  font-weight: 500;\n",
       "}\n",
       "\n",
       ".xr-section-summary > span {\n",
       "  display: inline-block;\n",
       "  padding-left: 0.5em;\n",
       "}\n",
       "\n",
       ".xr-section-summary-in:disabled + label {\n",
       "  color: var(--xr-font-color2);\n",
       "}\n",
       "\n",
       ".xr-section-summary-in + label:before {\n",
       "  display: inline-block;\n",
       "  content: \"►\";\n",
       "  font-size: 11px;\n",
       "  width: 15px;\n",
       "  text-align: center;\n",
       "}\n",
       "\n",
       ".xr-section-summary-in:disabled + label:before {\n",
       "  color: var(--xr-disabled-color);\n",
       "}\n",
       "\n",
       ".xr-section-summary-in:checked + label:before {\n",
       "  content: \"▼\";\n",
       "}\n",
       "\n",
       ".xr-section-summary-in:checked + label > span {\n",
       "  display: none;\n",
       "}\n",
       "\n",
       ".xr-section-summary,\n",
       ".xr-section-inline-details {\n",
       "  padding-top: 4px;\n",
       "  padding-bottom: 4px;\n",
       "}\n",
       "\n",
       ".xr-section-inline-details {\n",
       "  grid-column: 2 / -1;\n",
       "}\n",
       "\n",
       ".xr-section-details {\n",
       "  display: none;\n",
       "  grid-column: 1 / -1;\n",
       "  margin-bottom: 5px;\n",
       "}\n",
       "\n",
       ".xr-section-summary-in:checked ~ .xr-section-details {\n",
       "  display: contents;\n",
       "}\n",
       "\n",
       ".xr-array-wrap {\n",
       "  grid-column: 1 / -1;\n",
       "  display: grid;\n",
       "  grid-template-columns: 20px auto;\n",
       "}\n",
       "\n",
       ".xr-array-wrap > label {\n",
       "  grid-column: 1;\n",
       "  vertical-align: top;\n",
       "}\n",
       "\n",
       ".xr-preview {\n",
       "  color: var(--xr-font-color3);\n",
       "}\n",
       "\n",
       ".xr-array-preview,\n",
       ".xr-array-data {\n",
       "  padding: 0 5px !important;\n",
       "  grid-column: 2;\n",
       "}\n",
       "\n",
       ".xr-array-data,\n",
       ".xr-array-in:checked ~ .xr-array-preview {\n",
       "  display: none;\n",
       "}\n",
       "\n",
       ".xr-array-in:checked ~ .xr-array-data,\n",
       ".xr-array-preview {\n",
       "  display: inline-block;\n",
       "}\n",
       "\n",
       ".xr-dim-list {\n",
       "  display: inline-block !important;\n",
       "  list-style: none;\n",
       "  padding: 0 !important;\n",
       "  margin: 0;\n",
       "}\n",
       "\n",
       ".xr-dim-list li {\n",
       "  display: inline-block;\n",
       "  padding: 0;\n",
       "  margin: 0;\n",
       "}\n",
       "\n",
       ".xr-dim-list:before {\n",
       "  content: \"(\";\n",
       "}\n",
       "\n",
       ".xr-dim-list:after {\n",
       "  content: \")\";\n",
       "}\n",
       "\n",
       ".xr-dim-list li:not(:last-child):after {\n",
       "  content: \",\";\n",
       "  padding-right: 5px;\n",
       "}\n",
       "\n",
       ".xr-has-index {\n",
       "  font-weight: bold;\n",
       "}\n",
       "\n",
       ".xr-var-list,\n",
       ".xr-var-item {\n",
       "  display: contents;\n",
       "}\n",
       "\n",
       ".xr-var-item > div,\n",
       ".xr-var-item label,\n",
       ".xr-var-item > .xr-var-name span {\n",
       "  background-color: var(--xr-background-color-row-even);\n",
       "  margin-bottom: 0;\n",
       "}\n",
       "\n",
       ".xr-var-item > .xr-var-name:hover span {\n",
       "  padding-right: 5px;\n",
       "}\n",
       "\n",
       ".xr-var-list > li:nth-child(odd) > div,\n",
       ".xr-var-list > li:nth-child(odd) > label,\n",
       ".xr-var-list > li:nth-child(odd) > .xr-var-name span {\n",
       "  background-color: var(--xr-background-color-row-odd);\n",
       "}\n",
       "\n",
       ".xr-var-name {\n",
       "  grid-column: 1;\n",
       "}\n",
       "\n",
       ".xr-var-dims {\n",
       "  grid-column: 2;\n",
       "}\n",
       "\n",
       ".xr-var-dtype {\n",
       "  grid-column: 3;\n",
       "  text-align: right;\n",
       "  color: var(--xr-font-color2);\n",
       "}\n",
       "\n",
       ".xr-var-preview {\n",
       "  grid-column: 4;\n",
       "}\n",
       "\n",
       ".xr-index-preview {\n",
       "  grid-column: 2 / 5;\n",
       "  color: var(--xr-font-color2);\n",
       "}\n",
       "\n",
       ".xr-var-name,\n",
       ".xr-var-dims,\n",
       ".xr-var-dtype,\n",
       ".xr-preview,\n",
       ".xr-attrs dt {\n",
       "  white-space: nowrap;\n",
       "  overflow: hidden;\n",
       "  text-overflow: ellipsis;\n",
       "  padding-right: 10px;\n",
       "}\n",
       "\n",
       ".xr-var-name:hover,\n",
       ".xr-var-dims:hover,\n",
       ".xr-var-dtype:hover,\n",
       ".xr-attrs dt:hover {\n",
       "  overflow: visible;\n",
       "  width: auto;\n",
       "  z-index: 1;\n",
       "}\n",
       "\n",
       ".xr-var-attrs,\n",
       ".xr-var-data,\n",
       ".xr-index-data {\n",
       "  display: none;\n",
       "  background-color: var(--xr-background-color) !important;\n",
       "  padding-bottom: 5px !important;\n",
       "}\n",
       "\n",
       ".xr-var-attrs-in:checked ~ .xr-var-attrs,\n",
       ".xr-var-data-in:checked ~ .xr-var-data,\n",
       ".xr-index-data-in:checked ~ .xr-index-data {\n",
       "  display: block;\n",
       "}\n",
       "\n",
       ".xr-var-data > table {\n",
       "  float: right;\n",
       "}\n",
       "\n",
       ".xr-var-name span,\n",
       ".xr-var-data,\n",
       ".xr-index-name div,\n",
       ".xr-index-data,\n",
       ".xr-attrs {\n",
       "  padding-left: 25px !important;\n",
       "}\n",
       "\n",
       ".xr-attrs,\n",
       ".xr-var-attrs,\n",
       ".xr-var-data,\n",
       ".xr-index-data {\n",
       "  grid-column: 1 / -1;\n",
       "}\n",
       "\n",
       "dl.xr-attrs {\n",
       "  padding: 0;\n",
       "  margin: 0;\n",
       "  display: grid;\n",
       "  grid-template-columns: 125px auto;\n",
       "}\n",
       "\n",
       ".xr-attrs dt,\n",
       ".xr-attrs dd {\n",
       "  padding: 0;\n",
       "  margin: 0;\n",
       "  float: left;\n",
       "  padding-right: 10px;\n",
       "  width: auto;\n",
       "}\n",
       "\n",
       ".xr-attrs dt {\n",
       "  font-weight: normal;\n",
       "  grid-column: 1;\n",
       "}\n",
       "\n",
       ".xr-attrs dt:hover span {\n",
       "  display: inline-block;\n",
       "  background: var(--xr-background-color);\n",
       "  padding-right: 10px;\n",
       "}\n",
       "\n",
       ".xr-attrs dd {\n",
       "  grid-column: 2;\n",
       "  white-space: pre-wrap;\n",
       "  word-break: break-all;\n",
       "}\n",
       "\n",
       ".xr-icon-database,\n",
       ".xr-icon-file-text2,\n",
       ".xr-no-icon {\n",
       "  display: inline-block;\n",
       "  vertical-align: middle;\n",
       "  width: 1em;\n",
       "  height: 1.5em !important;\n",
       "  stroke-width: 0;\n",
       "  stroke: currentColor;\n",
       "  fill: currentColor;\n",
       "}\n",
       "</style><pre class='xr-text-repr-fallback'>&lt;xarray.Dataset&gt; Size: 941kB\n",
       "Dimensions:     (x1: 240, x2: 360, time: 10227)\n",
       "Coordinates:\n",
       "  * x1          (x1) float64 2kB 0.1523 0.1542 0.1561 ... 0.5958 0.5976 0.5995\n",
       "  * x2          (x2) float64 3kB 0.02107 0.02375 0.02642 ... 0.9791 0.9818\n",
       "  * time        (time) datetime64[s] 82kB 1995-01-01 1995-01-02 ... 2022-12-31\n",
       "Data variables:\n",
       "    bathymetry  (x1, x2) float64 691kB nan nan nan nan nan ... nan nan nan nan\n",
       "    cos_D       (time) float64 82kB 0.9999 0.9994 0.9987 ... 0.9993 0.9998 1.0\n",
       "    sin_D       (time) float64 82kB 0.0172 0.0344 0.05158 ... -0.0215 -0.004301</pre><div class='xr-wrap' style='display:none'><div class='xr-header'><div class='xr-obj-type'>xarray.Dataset</div></div><ul class='xr-sections'><li class='xr-section-item'><input id='section-abbd2e52-1bfc-4e9d-bb45-5862d220eabe' class='xr-section-summary-in' type='checkbox' disabled ><label for='section-abbd2e52-1bfc-4e9d-bb45-5862d220eabe' class='xr-section-summary'  title='Expand/collapse section'>Dimensions:</label><div class='xr-section-inline-details'><ul class='xr-dim-list'><li><span class='xr-has-index'>x1</span>: 240</li><li><span class='xr-has-index'>x2</span>: 360</li><li><span class='xr-has-index'>time</span>: 10227</li></ul></div><div class='xr-section-details'></div></li><li class='xr-section-item'><input id='section-30bb78af-6efc-440b-b4fa-348eb9c249be' class='xr-section-summary-in' type='checkbox'  checked><label for='section-30bb78af-6efc-440b-b4fa-348eb9c249be' class='xr-section-summary' >Coordinates: <span>(3)</span></label><div class='xr-section-inline-details'></div><div class='xr-section-details'><ul class='xr-var-list'><li class='xr-var-item'><div class='xr-var-name'><span class='xr-has-index'>x1</span></div><div class='xr-var-dims'>(x1)</div><div class='xr-var-dtype'>float64</div><div class='xr-var-preview xr-preview'>0.1523 0.1542 ... 0.5976 0.5995</div><input id='attrs-f686e6f0-f7bc-41d0-94af-e98afda0d6a8' class='xr-var-attrs-in' type='checkbox' disabled><label for='attrs-f686e6f0-f7bc-41d0-94af-e98afda0d6a8' title='Show/Hide attributes'><svg class='icon xr-icon-file-text2'><use xlink:href='#icon-file-text2'></use></svg></label><input id='data-a04ce1be-2b34-4c33-b112-09116ae77187' class='xr-var-data-in' type='checkbox'><label for='data-a04ce1be-2b34-4c33-b112-09116ae77187' title='Show/Hide data repr'><svg class='icon xr-icon-database'><use xlink:href='#icon-database'></use></svg></label><div class='xr-var-attrs'><dl class='xr-attrs'></dl></div><div class='xr-var-data'><pre>array([0.152308, 0.154179, 0.15605 , ..., 0.595755, 0.597626, 0.599497])</pre></div></li><li class='xr-var-item'><div class='xr-var-name'><span class='xr-has-index'>x2</span></div><div class='xr-var-dims'>(x2)</div><div class='xr-var-dtype'>float64</div><div class='xr-var-preview xr-preview'>0.02107 0.02375 ... 0.9791 0.9818</div><input id='attrs-0d9792c6-db83-45ee-897e-63e14b0d31f6' class='xr-var-attrs-in' type='checkbox' disabled><label for='attrs-0d9792c6-db83-45ee-897e-63e14b0d31f6' title='Show/Hide attributes'><svg class='icon xr-icon-file-text2'><use xlink:href='#icon-file-text2'></use></svg></label><input id='data-028df950-53f7-4483-8e9a-d0896e3716c9' class='xr-var-data-in' type='checkbox'><label for='data-028df950-53f7-4483-8e9a-d0896e3716c9' title='Show/Hide data repr'><svg class='icon xr-icon-database'><use xlink:href='#icon-database'></use></svg></label><div class='xr-var-attrs'><dl class='xr-attrs'></dl></div><div class='xr-var-data'><pre>array([0.021069, 0.023745, 0.026421, ..., 0.976456, 0.979132, 0.981809])</pre></div></li><li class='xr-var-item'><div class='xr-var-name'><span class='xr-has-index'>time</span></div><div class='xr-var-dims'>(time)</div><div class='xr-var-dtype'>datetime64[s]</div><div class='xr-var-preview xr-preview'>1995-01-01 ... 2022-12-31</div><input id='attrs-7d1910f8-b69e-4585-b8f9-7a8d9b9ce871' class='xr-var-attrs-in' type='checkbox' disabled><label for='attrs-7d1910f8-b69e-4585-b8f9-7a8d9b9ce871' title='Show/Hide attributes'><svg class='icon xr-icon-file-text2'><use xlink:href='#icon-file-text2'></use></svg></label><input id='data-b66ea9e5-0f09-41f7-890a-fe00bc339ac7' class='xr-var-data-in' type='checkbox'><label for='data-b66ea9e5-0f09-41f7-890a-fe00bc339ac7' title='Show/Hide data repr'><svg class='icon xr-icon-database'><use xlink:href='#icon-database'></use></svg></label><div class='xr-var-attrs'><dl class='xr-attrs'></dl></div><div class='xr-var-data'><pre>array([&#x27;1995-01-01T00:00:00&#x27;, &#x27;1995-01-02T00:00:00&#x27;, &#x27;1995-01-03T00:00:00&#x27;,\n",
       "       ..., &#x27;2022-12-29T00:00:00&#x27;, &#x27;2022-12-30T00:00:00&#x27;,\n",
       "       &#x27;2022-12-31T00:00:00&#x27;], dtype=&#x27;datetime64[s]&#x27;)</pre></div></li></ul></div></li><li class='xr-section-item'><input id='section-94ed5b09-f149-4720-829e-9fd405d49a99' class='xr-section-summary-in' type='checkbox'  checked><label for='section-94ed5b09-f149-4720-829e-9fd405d49a99' class='xr-section-summary' >Data variables: <span>(3)</span></label><div class='xr-section-inline-details'></div><div class='xr-section-details'><ul class='xr-var-list'><li class='xr-var-item'><div class='xr-var-name'><span>bathymetry</span></div><div class='xr-var-dims'>(x1, x2)</div><div class='xr-var-dtype'>float64</div><div class='xr-var-preview xr-preview'>nan nan nan nan ... nan nan nan nan</div><input id='attrs-aae82f67-d223-4656-bcb8-0dec3bbd83d0' class='xr-var-attrs-in' type='checkbox' disabled><label for='attrs-aae82f67-d223-4656-bcb8-0dec3bbd83d0' title='Show/Hide attributes'><svg class='icon xr-icon-file-text2'><use xlink:href='#icon-file-text2'></use></svg></label><input id='data-c7f2694c-ffc2-4ed1-a2b8-b1e5677aed8f' class='xr-var-data-in' type='checkbox'><label for='data-c7f2694c-ffc2-4ed1-a2b8-b1e5677aed8f' title='Show/Hide data repr'><svg class='icon xr-icon-database'><use xlink:href='#icon-database'></use></svg></label><div class='xr-var-attrs'><dl class='xr-attrs'></dl></div><div class='xr-var-data'><pre>array([[nan, nan, nan, ..., nan, nan, nan],\n",
       "       [nan, nan, nan, ..., nan, nan, nan],\n",
       "       [nan, nan, nan, ..., nan, nan, nan],\n",
       "       ...,\n",
       "       [nan, nan, nan, ..., nan, nan, nan],\n",
       "       [nan, nan, nan, ..., nan, nan, nan],\n",
       "       [nan, nan, nan, ..., nan, nan, nan]])</pre></div></li><li class='xr-var-item'><div class='xr-var-name'><span>cos_D</span></div><div class='xr-var-dims'>(time)</div><div class='xr-var-dtype'>float64</div><div class='xr-var-preview xr-preview'>0.9999 0.9994 0.9987 ... 0.9998 1.0</div><input id='attrs-9f3439ac-b2aa-4d01-abde-dbbe428fb2b0' class='xr-var-attrs-in' type='checkbox' disabled><label for='attrs-9f3439ac-b2aa-4d01-abde-dbbe428fb2b0' title='Show/Hide attributes'><svg class='icon xr-icon-file-text2'><use xlink:href='#icon-file-text2'></use></svg></label><input id='data-49edc387-0bbf-40ad-9a87-fea17e44fef5' class='xr-var-data-in' type='checkbox'><label for='data-49edc387-0bbf-40ad-9a87-fea17e44fef5' title='Show/Hide data repr'><svg class='icon xr-icon-database'><use xlink:href='#icon-database'></use></svg></label><div class='xr-var-attrs'><dl class='xr-attrs'></dl></div><div class='xr-var-data'><pre>array([0.999852, 0.999408, 0.998669, ..., 0.999251, 0.999769, 0.999991])</pre></div></li><li class='xr-var-item'><div class='xr-var-name'><span>sin_D</span></div><div class='xr-var-dims'>(time)</div><div class='xr-var-dtype'>float64</div><div class='xr-var-preview xr-preview'>0.0172 0.0344 ... -0.0215 -0.004301</div><input id='attrs-fea2fc30-a878-4625-8353-876b2c2f182f' class='xr-var-attrs-in' type='checkbox' disabled><label for='attrs-fea2fc30-a878-4625-8353-876b2c2f182f' title='Show/Hide attributes'><svg class='icon xr-icon-file-text2'><use xlink:href='#icon-file-text2'></use></svg></label><input id='data-54fc21c5-d2f8-44e8-b4b3-8653a8261a10' class='xr-var-data-in' type='checkbox'><label for='data-54fc21c5-d2f8-44e8-b4b3-8653a8261a10' title='Show/Hide data repr'><svg class='icon xr-icon-database'><use xlink:href='#icon-database'></use></svg></label><div class='xr-var-attrs'><dl class='xr-attrs'></dl></div><div class='xr-var-data'><pre>array([ 0.017202,  0.034398,  0.051584, ..., -0.038696, -0.021501, -0.004301])</pre></div></li></ul></div></li><li class='xr-section-item'><input id='section-4c06e316-b49f-4490-89bb-952ad45ba331' class='xr-section-summary-in' type='checkbox'  ><label for='section-4c06e316-b49f-4490-89bb-952ad45ba331' class='xr-section-summary' >Indexes: <span>(3)</span></label><div class='xr-section-inline-details'></div><div class='xr-section-details'><ul class='xr-var-list'><li class='xr-var-item'><div class='xr-index-name'><div>x1</div></div><div class='xr-index-preview'>PandasIndex</div><input type='checkbox' disabled/><label></label><input id='index-90792f3e-e4c7-496a-8d39-9497e1173ccf' class='xr-index-data-in' type='checkbox'/><label for='index-90792f3e-e4c7-496a-8d39-9497e1173ccf' title='Show/Hide index repr'><svg class='icon xr-icon-database'><use xlink:href='#icon-database'></use></svg></label><div class='xr-index-data'><pre>PandasIndex(Index([0.15230785746987846, 0.15417894344715513, 0.15605002942443139,\n",
       "       0.15792111540170806, 0.15979220137898476,   0.161663287356261,\n",
       "       0.16353437333353768, 0.16540545931081438, 0.16727654528809105,\n",
       "        0.1691476312653673,\n",
       "       ...\n",
       "        0.5826576322434853,  0.5845287182207616,  0.5863998041980383,\n",
       "         0.588270890175315,  0.5901419761525912,  0.5920130621298679,\n",
       "        0.5938841481071446,  0.5957552340844209,  0.5976263200616976,\n",
       "        0.5994974060389742],\n",
       "      dtype=&#x27;float64&#x27;, name=&#x27;x1&#x27;, length=240))</pre></div></li><li class='xr-var-item'><div class='xr-index-name'><div>x2</div></div><div class='xr-index-preview'>PandasIndex</div><input type='checkbox' disabled/><label></label><input id='index-7b6ecf18-8ca5-4344-b64a-826b5a55575e' class='xr-index-data-in' type='checkbox'/><label for='index-7b6ecf18-8ca5-4344-b64a-826b5a55575e' title='Show/Hide index repr'><svg class='icon xr-icon-database'><use xlink:href='#icon-database'></use></svg></label><div class='xr-index-data'><pre>PandasIndex(Index([0.021069144264622287,  0.02374529876968044,  0.02642145327473859,\n",
       "        0.02909760777979588,  0.03177376228485403,  0.03444991678991218,\n",
       "       0.037126071294970336, 0.039802225800027624,  0.04247838030508578,\n",
       "        0.04515453481014393,\n",
       "       ...\n",
       "         0.9577232210349057,   0.9603993755399638,    0.963075530045022,\n",
       "         0.9657516845500801,   0.9684278390551374,   0.9711039935601956,\n",
       "         0.9737801480652537,    0.976456302570311,   0.9791324570753691,\n",
       "         0.9818086115804273],\n",
       "      dtype=&#x27;float64&#x27;, name=&#x27;x2&#x27;, length=360))</pre></div></li><li class='xr-var-item'><div class='xr-index-name'><div>time</div></div><div class='xr-index-preview'>PandasIndex</div><input type='checkbox' disabled/><label></label><input id='index-f847416a-5761-43f1-b109-21ea2e96b830' class='xr-index-data-in' type='checkbox'/><label for='index-f847416a-5761-43f1-b109-21ea2e96b830' title='Show/Hide index repr'><svg class='icon xr-icon-database'><use xlink:href='#icon-database'></use></svg></label><div class='xr-index-data'><pre>PandasIndex(DatetimeIndex([&#x27;1995-01-01&#x27;, &#x27;1995-01-02&#x27;, &#x27;1995-01-03&#x27;, &#x27;1995-01-04&#x27;,\n",
       "               &#x27;1995-01-05&#x27;, &#x27;1995-01-06&#x27;, &#x27;1995-01-07&#x27;, &#x27;1995-01-08&#x27;,\n",
       "               &#x27;1995-01-09&#x27;, &#x27;1995-01-10&#x27;,\n",
       "               ...\n",
       "               &#x27;2022-12-22&#x27;, &#x27;2022-12-23&#x27;, &#x27;2022-12-24&#x27;, &#x27;2022-12-25&#x27;,\n",
       "               &#x27;2022-12-26&#x27;, &#x27;2022-12-27&#x27;, &#x27;2022-12-28&#x27;, &#x27;2022-12-29&#x27;,\n",
       "               &#x27;2022-12-30&#x27;, &#x27;2022-12-31&#x27;],\n",
       "              dtype=&#x27;datetime64[s]&#x27;, name=&#x27;time&#x27;, length=10227, freq=None))</pre></div></li></ul></div></li><li class='xr-section-item'><input id='section-b3cae7e6-0979-421d-97ea-bd9fcffd4e44' class='xr-section-summary-in' type='checkbox' disabled ><label for='section-b3cae7e6-0979-421d-97ea-bd9fcffd4e44' class='xr-section-summary'  title='Expand/collapse section'>Attributes: <span>(0)</span></label><div class='xr-section-inline-details'></div><div class='xr-section-details'><dl class='xr-attrs'></dl></div></li></ul></div></div>"
      ],
      "text/plain": [
       "<xarray.Dataset> Size: 941kB\n",
       "Dimensions:     (x1: 240, x2: 360, time: 10227)\n",
       "Coordinates:\n",
       "  * x1          (x1) float64 2kB 0.1523 0.1542 0.1561 ... 0.5958 0.5976 0.5995\n",
       "  * x2          (x2) float64 3kB 0.02107 0.02375 0.02642 ... 0.9791 0.9818\n",
       "  * time        (time) datetime64[s] 82kB 1995-01-01 1995-01-02 ... 2022-12-31\n",
       "Data variables:\n",
       "    bathymetry  (x1, x2) float64 691kB nan nan nan nan nan ... nan nan nan nan\n",
       "    cos_D       (time) float64 82kB 0.9999 0.9994 0.9987 ... 0.9993 0.9998 1.0\n",
       "    sin_D       (time) float64 82kB 0.0172 0.0344 0.05158 ... -0.0215 -0.004301"
      ]
     },
     "execution_count": 11,
     "metadata": {},
     "output_type": "execute_result"
    }
   ],
   "source": [
    "doy_ds = construct_circ_time_ds(dates, freq=\"D\")\n",
    "aux_ds[\"cos_D\"] = standardize_dates(doy_ds[\"cos_D\"])\n",
    "aux_ds[\"sin_D\"] = standardize_dates(doy_ds[\"sin_D\"])\n",
    "aux_ds"
   ]
  },
  {
   "cell_type": "markdown",
   "id": "0e0c3dd3-bb71-4cbb-a46f-86c4071f86d5",
   "metadata": {},
   "source": [
    "## Step 6: Generate Random Coordinates within the Lake Mask\n",
    "\n",
    "We generate random coordinates from within the **lake mask**. These coordinates represent sampling points in the Great Lakes region. These points are normalized using the **DataProcessor** and will later be used in active learning.\n",
    "\n",
    "We generate `N` random points, and plot them to visualize the sampling distribution inside the lake.\n"
   ]
  },
  {
   "cell_type": "code",
   "execution_count": 12,
   "id": "ebc2b302-84c4-4ee3-bd49-8f6e20846ad0",
   "metadata": {},
   "outputs": [],
   "source": [
    "# Example usage\n",
    "N = 100  # Number of random points\n",
    "random_lake_points = generate_random_coordinates(lakemask_raw, N, data_processor)"
   ]
  },
  {
   "cell_type": "code",
   "execution_count": 13,
   "id": "714b5b43-b23d-4e2c-bda1-ef75c057f577",
   "metadata": {},
   "outputs": [],
   "source": [
    "task_loader = TaskLoader(context=[glsea, aux_ds, lakemask], target=glsea)"
   ]
  },
  {
   "cell_type": "markdown",
   "id": "899ac989-fedf-4a96-b702-c91d9f2577bd",
   "metadata": {},
   "source": [
    "## Step 7: Custom Save and Load Functions\n",
    "\n",
    "Since the built-in save and load functions are broken, we define custom save and load functions to handle the **ConvNP** model and its configuration. The functions will:\n",
    "1. **Save the model**: Save both the model weights and configuration to disk.\n",
    "2. **Load the model**: Reload the model from disk, including weights and configuration, to resume training or inference.\n",
    "\n",
    "These functions are defined near the top of this notebook.\n"
   ]
  },
  {
   "cell_type": "code",
   "execution_count": 14,
   "id": "5f1a06f6-db0c-412d-a325-4c89b464fb96",
   "metadata": {},
   "outputs": [
    {
     "name": "stdout",
     "output_type": "stream",
     "text": [
      "Attempting to instantiate ConvNP model (randomly initialized initially):\n",
      "Architectural config for construct_neural_process (passed as **kwargs): {'dim_x': 2, 'dim_yc': [1, 3, 1], 'dim_yt': 1, 'dim_aux_t': 0, 'dim_lv': 0, 'conv_arch': 'unet', 'unet_channels': [64, 64, 64, 64], 'unet_resize_convs': True, 'unet_resize_conv_interp_method': 'bilinear', 'aux_t_mlp_layers': None, 'likelihood': 'het', 'unet_kernels': 5, 'internal_density': 1180, 'encoder_scales': [0.0004237288, 0.0009355429, 0.0004237288], 'encoder_scales_learnable': False, 'decoder_scale': 0.000847457627118644, 'decoder_scale_learnable': False, 'num_basis_functions': 64, 'epsilon': 0.01}\n"
     ]
    }
   ],
   "source": [
    "loaded_model = load_convnp_model(deepsensor_folder, data_processor, task_loader)"
   ]
  },
  {
   "cell_type": "code",
   "execution_count": 15,
   "id": "11259179-b741-4770-adc7-aa9205c7ce46",
   "metadata": {},
   "outputs": [
    {
     "data": {
      "text/plain": [
       "{'dim_x': 2,\n",
       " 'dim_yc': [1, 3, 1],\n",
       " 'dim_yt': 1,\n",
       " 'dim_aux_t': 0,\n",
       " 'dim_lv': 0,\n",
       " 'conv_arch': 'unet',\n",
       " 'unet_channels': [64, 64, 64, 64],\n",
       " 'unet_resize_convs': True,\n",
       " 'unet_resize_conv_interp_method': 'bilinear',\n",
       " 'aux_t_mlp_layers': None,\n",
       " 'likelihood': 'het',\n",
       " 'unet_kernels': 5,\n",
       " 'internal_density': 1180,\n",
       " 'encoder_scales': [0.0004237288, 0.0009355429, 0.0004237288],\n",
       " 'encoder_scales_learnable': False,\n",
       " 'decoder_scale': 0.000847457627118644,\n",
       " 'decoder_scale_learnable': False,\n",
       " 'num_basis_functions': 64,\n",
       " 'epsilon': 0.01}"
      ]
     },
     "execution_count": 15,
     "metadata": {},
     "output_type": "execute_result"
    }
   ],
   "source": [
    "loaded_model.config"
   ]
  },
  {
   "cell_type": "code",
   "execution_count": 16,
   "id": "a72116de-f962-4129-a98d-4da58297c2ce",
   "metadata": {},
   "outputs": [],
   "source": [
    "# Load model\n",
    "model = loaded_model"
   ]
  },
  {
   "cell_type": "markdown",
   "id": "bc7be2b3-a4eb-4dee-a674-a07f888577e6",
   "metadata": {},
   "source": [
    "## Step 8: Active Learning with Greedy Algorithm\n",
    "\n",
    "Active learning helps the model focus on the most informative data points by selecting points where it is most uncertain. We use the **Greedy Algorithm** from DeepSensor to select the most uncertain points based on the current model's predictions.\n",
    "\n",
    "In this section, we set up the **GreedyAlgorithm** with:\n",
    "- **Context and target data**: GLSEA data for the context and the same GLSEA for the target.\n",
    "- **Mask data**: To restrict the selection to valid areas within the lake.\n",
    "\n",
    "We run the active learning process, selecting new data points for training based on model uncertainty.\n"
   ]
  },
  {
   "cell_type": "code",
   "execution_count": 17,
   "id": "b59d4a7d-3256-4e99-8b79-a34c8183fa91",
   "metadata": {},
   "outputs": [],
   "source": [
    "from deepsensor.active_learning import GreedyAlgorithm\n",
    "\n",
    "alg = GreedyAlgorithm(\n",
    "    model,\n",
    "    X_s=glsea_raw,\n",
    "    X_t=glsea_raw,\n",
    "    X_s_mask=lakemask_raw['mask'],\n",
    "    X_t_mask=lakemask_raw['mask'],\n",
    "    context_set_idx=0,\n",
    "    target_set_idx=0,\n",
    "    N_new_context=3,\n",
    "    progress_bar=True,\n",
    ")"
   ]
  },
  {
   "cell_type": "markdown",
   "id": "8eced59a-b82c-42e2-aae9-3fa5a5723b95",
   "metadata": {},
   "source": [
    "## Step 9: Standard Deviation Acquisition Function\n",
    "\n",
    "The **Standard Deviation (Stddev)** acquisition function is used to guide the model towards uncertain regions. The idea is to select data points where the model has high variability in its predictions, which often indicates areas where the model is unsure.\n",
    "\n",
    "We use the **Stddev** acquisition function to select uncertain data points during the active learning process.\n"
   ]
  },
  {
   "cell_type": "code",
   "execution_count": 18,
   "id": "e399f22a-c689-4ef5-bec3-4119e6a6568e",
   "metadata": {},
   "outputs": [],
   "source": [
    "from deepsensor.active_learning.acquisition_fns import Stddev\n",
    "\n",
    "acquisition_fn = Stddev(model, context_set_idx=0, target_set_idx=0)"
   ]
  },
  {
   "cell_type": "code",
   "execution_count": 19,
   "id": "4fd64b81-2dd5-4903-8bd7-be164fd5c1f9",
   "metadata": {},
   "outputs": [
    {
     "name": "stderr",
     "output_type": "stream",
     "text": [
      "/home/dannes/ds_env_gpu/lib/python3.10/site-packages/lab/types.py:178: DeprecationWarning: numpy.core is deprecated and has been renamed to numpy._core. The numpy._core namespace contains private NumPy internals and its use is discouraged, as NumPy internals can change without warning in any release. In practice, most real-world usage of numpy.core is to access functionality in the public NumPy API. If that is the case, use the public NumPy API. If not, you are using NumPy internals. If you would still like to access an internal attribute, use numpy._core.numerictypes.\n",
      "  for name in np.core.numerictypes.__all__ + [\"bool\"]:\n",
      "100%|██████████| 111/111 [00:48<00:00,  2.30it/s]\n"
     ]
    }
   ],
   "source": [
    "placement_dates = val_dates\n",
    "placement_tasks = task_loader(placement_dates, context_sampling=[random_lake_points, \"all\", \"all\"], seed_override=0)\n",
    "\n",
    "X_new_df, acquisition_fn_ds = alg(acquisition_fn, placement_tasks)"
   ]
  },
  {
   "cell_type": "code",
   "execution_count": 21,
   "id": "deff4ca7-df3b-4880-ae3f-1bec439d2cca",
   "metadata": {},
   "outputs": [
    {
     "data": {
      "text/html": [
       "<div>\n",
       "<style scoped>\n",
       "    .dataframe tbody tr th:only-of-type {\n",
       "        vertical-align: middle;\n",
       "    }\n",
       "\n",
       "    .dataframe tbody tr th {\n",
       "        vertical-align: top;\n",
       "    }\n",
       "\n",
       "    .dataframe thead th {\n",
       "        text-align: right;\n",
       "    }\n",
       "</style>\n",
       "<table border=\"1\" class=\"dataframe\">\n",
       "  <thead>\n",
       "    <tr style=\"text-align: right;\">\n",
       "      <th></th>\n",
       "      <th>lat</th>\n",
       "      <th>lon</th>\n",
       "    </tr>\n",
       "    <tr>\n",
       "      <th>iteration</th>\n",
       "      <th></th>\n",
       "      <th></th>\n",
       "    </tr>\n",
       "  </thead>\n",
       "  <tbody>\n",
       "    <tr>\n",
       "      <th>0</th>\n",
       "      <td>42.266742</td>\n",
       "      <td>-81.908313</td>\n",
       "    </tr>\n",
       "    <tr>\n",
       "      <th>1</th>\n",
       "      <td>42.266742</td>\n",
       "      <td>-81.908313</td>\n",
       "    </tr>\n",
       "    <tr>\n",
       "      <th>2</th>\n",
       "      <td>42.266742</td>\n",
       "      <td>-81.908313</td>\n",
       "    </tr>\n",
       "  </tbody>\n",
       "</table>\n",
       "</div>"
      ],
      "text/plain": [
       "                 lat        lon\n",
       "iteration                      \n",
       "0          42.266742 -81.908313\n",
       "1          42.266742 -81.908313\n",
       "2          42.266742 -81.908313"
      ]
     },
     "execution_count": 21,
     "metadata": {},
     "output_type": "execute_result"
    }
   ],
   "source": [
    "X_new_df"
   ]
  },
  {
   "cell_type": "code",
   "execution_count": null,
   "id": "1eca28c7-23c3-411e-85f5-2cd2d1fff691",
   "metadata": {},
   "outputs": [],
   "source": [
    "acquisition_fn_ds"
   ]
  },
  {
   "cell_type": "markdown",
   "id": "b15a6210-2a34-4bbc-bf58-d3a59a8b6704",
   "metadata": {},
   "source": [
    "## Step 10: Visualizing Active Learning Placements\n",
    "\n",
    "After performing active learning, we visualize the new data points selected by the algorithm. These points are likely to be in areas where the model is most uncertain.\n",
    "\n",
    "We plot the selected points on a map to visualize where the model has focused its attention.\n"
   ]
  },
  {
   "cell_type": "code",
   "execution_count": 23,
   "id": "8fc0ccf5-65e5-4674-8399-38a9df769908",
   "metadata": {},
   "outputs": [
    {
     "name": "stderr",
     "output_type": "stream",
     "text": [
      "/home/dannes/ds_env_gpu/lib/python3.10/site-packages/deepsensor/plot.py:398: UserWarning: No artists with labels found to put in legend.  Note that artists whose label start with an underscore are ignored when legend() is called with no argument.\n",
      "  axes[0].legend(loc=\"best\")\n"
     ]
    },
    {
     "data": {
      "image/png": "[encoded data removed]",
      "text/plain": [
       "<Figure size 300x300 with 1 Axes>"
      ]
     },
     "metadata": {},
     "output_type": "display_data"
    }
   ],
   "source": [
    "fig = deepsensor.plot.placements(placement_tasks[0], X_new_df, data_processor,\n",
    "                                 crs=ccrs.PlateCarree())"
   ]
  },
  {
   "cell_type": "markdown",
   "id": "1583cf63-b33e-42fa-835e-8e61f2835d02",
   "metadata": {},
   "source": [
    "Although this plot isn't the easiest to read, it seems that the GreedyAlgorithm is recommending that we focus on Western Lake Erie, which is good to see, as this is exactly where the current network does have a high density of instruments. So to first order, the existing observing network isn't too bad. "
   ]
  },
  {
   "cell_type": "markdown",
   "id": "7198f76c-fa6c-4bf7-bdf0-257a966f618b",
   "metadata": {},
   "source": [
    "# Conclusion\n",
    "\n",
    "In this notebook, we implemented active learning to improve model training by focusing on the most informative data points. We:\n",
    "1. Loaded and preprocessed several datasets for training.\n",
    "2. Used the **GreedyAlgorithm** to select uncertain data points for model training.\n",
    "3. Visualized the placement of these points on the map.\n",
    "\n",
    "Active learning helps ensure that the model is trained on the most challenging examples, which can improve its performance.\n"
   ]
  },
  {
   "cell_type": "markdown",
   "id": "d09a26e5-dbe9-4316-9aa5-54d56448f91a",
   "metadata": {},
   "source": [
    "# Reproducibility\n",
    "\n",
    "Below we list some aspects of the computing environment for better reproduciblity. "
   ]
  },
  {
   "cell_type": "code",
   "execution_count": 24,
   "id": "64b6ac7d-811c-4fa9-9106-3e4f567bc921",
   "metadata": {},
   "outputs": [
    {
     "name": "stdout",
     "output_type": "stream",
     "text": [
      "Python Executable: /home/dannes/ds_env_gpu/bin/python\n",
      "Python Version: 3.10.9 (main, Mar  1 2023, 18:23:06) [GCC 11.2.0]\n"
     ]
    }
   ],
   "source": [
    "import sys\n",
    "print(\"Python Executable:\", sys.executable)\n",
    "print(\"Python Version:\", sys.version)\n",
    "#!pip freeze > requirements.txt\n",
    "#print(\"requirements.txt generated!\")"
   ]
  }
 ],
 "metadata": {
  "kernelspec": {
   "display_name": "Python 3 (ipykernel)",
   "language": "python",
   "name": "python3"
  },
  "language_info": {
   "codemirror_mode": {
    "name": "ipython",
    "version": 3
   },
   "file_extension": ".py",
   "mimetype": "text/x-python",
   "name": "python",
   "nbconvert_exporter": "python",
   "pygments_lexer": "ipython3",
   "version": "3.10.9"
  }
 },
 "nbformat": 4,
 "nbformat_minor": 5
}
